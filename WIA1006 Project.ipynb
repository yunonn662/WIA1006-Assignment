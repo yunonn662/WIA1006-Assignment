{
 "cells": [
  {
   "cell_type": "code",
   "execution_count": 2,
   "id": "168dd4bc",
   "metadata": {},
   "outputs": [],
   "source": [
    "import pandas as pd\n",
    "import numpy as np\n",
    "import matplotlib.pyplot as plt\n",
    "import seaborn as sns\n",
    "import math\n",
    "import scipy\n",
    "import statsmodels.api as sm\n",
    "import patsy\n",
    "import sklearn.linear_model\n",
    "import sklearn.ensemble\n",
    "import sklearn.neural_network\n",
    "from statsmodels.stats.multicomp import pairwise_tukeyhsd\n",
    "from pandas.plotting import scatter_matrix"
   ]
  },
  {
   "cell_type": "code",
   "execution_count": 3,
   "id": "9b5ee61c",
   "metadata": {},
   "outputs": [],
   "source": [
    "adult_df = pd.read_csv('adult20.csv')"
   ]
  },
  {
   "cell_type": "code",
   "execution_count": null,
   "id": "fcfd9636",
   "metadata": {},
   "outputs": [],
   "source": [
    "need_cols = ['URBRRL', 'AGEP_A', 'SEX_A', 'EDUC_A', 'ANXEV_A', 'DEPEV_A',\n",
    "             'NOTCOV_A', 'ANXFREQ_A', 'ANXLEVEL_A', 'DEPFREQ_A','DEPLEVEL_A',\n",
    "             'ORIENT_A', 'MARITAL_A', 'AFVET_A', 'CITZNSTP_A', 'INCGRP_A', 'BMICAT_A']"
   ]
  }
 ],
 "metadata": {
  "kernelspec": {
   "display_name": "Python 3 (ipykernel)",
   "language": "python",
   "name": "python3"
  },
  "language_info": {
   "codemirror_mode": {
    "name": "ipython",
    "version": 3
   },
   "file_extension": ".py",
   "mimetype": "text/x-python",
   "name": "python",
   "nbconvert_exporter": "python",
   "pygments_lexer": "ipython3",
   "version": "3.9.7"
  }
 },
 "nbformat": 4,
 "nbformat_minor": 5
}
