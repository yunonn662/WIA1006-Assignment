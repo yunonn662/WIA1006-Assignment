{
 "cells": [
  {
   "cell_type": "markdown",
   "id": "2ccfc6e3",
   "metadata": {},
   "source": [
    "# Depression and Anxiety Indicator"
   ]
  },
  {
   "cell_type": "code",
   "execution_count": 1,
   "id": "168dd4bc",
   "metadata": {},
   "outputs": [],
   "source": [
    "import pandas as pd\n",
    "import numpy as np\n",
    "import matplotlib.pyplot as plt\n",
    "import seaborn as sns\n",
    "import math\n",
    "import scipy\n",
    "import statsmodels.api as sm\n",
    "import patsy\n",
    "import sklearn.linear_model\n",
    "import sklearn.ensemble\n",
    "import sklearn.neural_network\n",
    "from statsmodels.stats.multicomp import pairwise_tukeyhsd\n",
    "from pandas.plotting import scatter_matrix\n",
    "from sklearn.model_selection import train_test_split\n",
    "from sklearn import metrics"
   ]
  },
  {
   "cell_type": "code",
   "execution_count": 2,
   "id": "24bf1ffa",
   "metadata": {},
   "outputs": [],
   "source": [
    "import warnings\n",
    "warnings.filterwarnings(\"ignore\", category=UserWarning)"
   ]
  },
  {
   "cell_type": "code",
   "execution_count": 3,
   "id": "1eeb934b",
   "metadata": {},
   "outputs": [],
   "source": [
    "sns.set(rc={\"figure.figsize\":(12, 8)})"
   ]
  },
  {
   "cell_type": "markdown",
   "id": "d6984b73",
   "metadata": {},
   "source": [
    "# Data Cleaning\n",
    "\n",
    "Steps:\n",
    "\n",
    "We will start by renaming the column we need based on the codebook which is available [here](https://www.cdc.gov/nchs/nhis/2020nhis.htm).\n",
    "\n",
    "Then, we replace the value 5 in anxiety and depression frequency to 0\n",
    "These columns are how often the person feel worried, nervous, or anxious\n",
    "1-4 are range in “Daily”, “Weekly”, “Monthly”, “A few times in a year”\n",
    "5 in both anxiety and depression frequency means **never** experiencing the problem.\n",
    "\n",
    "Replace NAN in anxiety and depression level with 0\n",
    "1-3 are range in “A little”, “A lot”, “Somewhere in between a little and a lot”.\n",
    "Removing rows of ambiguous samples with responses, “I don’t know”, “not ascertained”, and “refused”, from the rest of dataset\n",
    "Encode all binary responses to 1/0 instead of 1/2 for yes/no.\n",
    "Reduce the number of categories for the education column to 3 because it had too many details.\n",
    "After this brief cleaning, there are 29046 samples left from the original dataset with 31569 samples."
   ]
  },
  {
   "cell_type": "code",
   "execution_count": 4,
   "id": "9b5ee61c",
   "metadata": {},
   "outputs": [],
   "source": [
    "adult_df = pd.read_csv('adult20.csv')"
   ]
  },
  {
   "cell_type": "code",
   "execution_count": 5,
   "id": "fcfd9636",
   "metadata": {},
   "outputs": [],
   "source": [
    "need_cols = ['URBRRL', 'AGEP_A', 'SEX_A', 'EDUC_A', 'ANXEV_A', 'DEPEV_A',\n",
    "             'NOTCOV_A', 'ANXFREQ_A', 'ANXLEVEL_A', 'DEPFREQ_A','DEPLEVEL_A',\n",
    "             'ORIENT_A', 'MARITAL_A', 'INCGRP_A', 'BMICAT_A']"
   ]
  },
  {
   "cell_type": "code",
   "execution_count": 6,
   "id": "4d83ba70",
   "metadata": {},
   "outputs": [],
   "source": [
    "subset_df = adult_df[need_cols]"
   ]
  },
  {
   "cell_type": "code",
   "execution_count": 7,
   "id": "43fb8056",
   "metadata": {},
   "outputs": [
    {
     "data": {
      "text/plain": [
       "Index(['URBRRL', 'AGEP_A', 'SEX_A', 'EDUC_A', 'ANXEV_A', 'DEPEV_A', 'NOTCOV_A',\n",
       "       'ANXFREQ_A', 'ANXLEVEL_A', 'DEPFREQ_A', 'DEPLEVEL_A', 'ORIENT_A',\n",
       "       'MARITAL_A', 'INCGRP_A', 'BMICAT_A'],\n",
       "      dtype='object')"
      ]
     },
     "execution_count": 7,
     "metadata": {},
     "output_type": "execute_result"
    }
   ],
   "source": [
    "subset_df.columns"
   ]
  },
  {
   "cell_type": "code",
   "execution_count": 8,
   "id": "abb9f1bb",
   "metadata": {},
   "outputs": [],
   "source": [
    "subset_df.columns = ['urbanrural', 'age', 'sex', 'edu', 'anx_ever', 'dep_ever', \n",
    "                    'inscov', 'anx_freq', 'anx_level', 'dep_freq', 'dep_level', \n",
    "                    'orient', 'marital', 'income', 'bmi']"
   ]
  },
  {
   "cell_type": "code",
   "execution_count": 9,
   "id": "a3d43952",
   "metadata": {},
   "outputs": [],
   "source": [
    "column_map = dict(zip(subset_df.columns, need_cols))"
   ]
  },
  {
   "cell_type": "code",
   "execution_count": 10,
   "id": "45a4ab75",
   "metadata": {},
   "outputs": [],
   "source": [
    "subset_df = subset_df.replace({\"anx_freq\": {5: 0}, \"dep_freq\": {5: 0}})"
   ]
  },
  {
   "cell_type": "code",
   "execution_count": 11,
   "id": "3ad2dbe4",
   "metadata": {},
   "outputs": [
    {
     "data": {
      "text/plain": [
       "urbanrural    False\n",
       "age           False\n",
       "sex           False\n",
       "edu           False\n",
       "anx_ever      False\n",
       "dep_ever      False\n",
       "inscov        False\n",
       "anx_freq      False\n",
       "anx_level      True\n",
       "dep_freq      False\n",
       "dep_level      True\n",
       "orient        False\n",
       "marital       False\n",
       "income        False\n",
       "bmi           False\n",
       "dtype: bool"
      ]
     },
     "execution_count": 11,
     "metadata": {},
     "output_type": "execute_result"
    }
   ],
   "source": [
    "subset_df.isna().any()"
   ]
  },
  {
   "cell_type": "code",
   "execution_count": 12,
   "id": "7bbd03a7",
   "metadata": {},
   "outputs": [],
   "source": [
    "subset_df.loc[:, 'anx_level'] = subset_df.loc[:, 'anx_level'].apply(lambda x : 0 if math.isnan(x) else x)"
   ]
  },
  {
   "cell_type": "code",
   "execution_count": 13,
   "id": "0568cdd3",
   "metadata": {},
   "outputs": [],
   "source": [
    "subset_df.loc[:, 'dep_level'] = subset_df.loc[:, 'dep_level'].apply(lambda x : 0 if math.isnan(x) else x)"
   ]
  },
  {
   "cell_type": "code",
   "execution_count": 14,
   "id": "35a4f6c7",
   "metadata": {},
   "outputs": [
    {
     "data": {
      "text/plain": [
       "1.0    11069\n",
       "0.0     9676\n",
       "3.0     8304\n",
       "2.0     2380\n",
       "9.0       83\n",
       "7.0       51\n",
       "8.0        5\n",
       "Name: anx_level, dtype: int64"
      ]
     },
     "execution_count": 14,
     "metadata": {},
     "output_type": "execute_result"
    }
   ],
   "source": [
    "subset_df['anx_level'].value_counts()"
   ]
  },
  {
   "cell_type": "markdown",
   "id": "531b597f",
   "metadata": {},
   "source": [
    "We will remove value 7, 8, 9 as it reprents 'Refused', 'Not Ascertained', 'Don't Know' which does not account to the problem we are trying to solve."
   ]
  },
  {
   "cell_type": "code",
   "execution_count": 15,
   "id": "395c0174",
   "metadata": {},
   "outputs": [],
   "source": [
    "subset_df = subset_df[(subset_df['anx_level'] < 7.0) & (subset_df['dep_level'] < 7.0)]\n",
    "subset_df = subset_df[(subset_df['anx_freq'] < 7.0) & (subset_df['dep_freq'] < 7.0)]\n",
    "# less than 1% of the sample is removed."
   ]
  },
  {
   "cell_type": "code",
   "execution_count": 16,
   "id": "8e37313c",
   "metadata": {},
   "outputs": [
    {
     "data": {
      "text/plain": [
       "{'urbanrural': 'URBRRL',\n",
       " 'age': 'AGEP_A',\n",
       " 'sex': 'SEX_A',\n",
       " 'edu': 'EDUC_A',\n",
       " 'anx_ever': 'ANXEV_A',\n",
       " 'dep_ever': 'DEPEV_A',\n",
       " 'inscov': 'NOTCOV_A',\n",
       " 'anx_freq': 'ANXFREQ_A',\n",
       " 'anx_level': 'ANXLEVEL_A',\n",
       " 'dep_freq': 'DEPFREQ_A',\n",
       " 'dep_level': 'DEPLEVEL_A',\n",
       " 'orient': 'ORIENT_A',\n",
       " 'marital': 'MARITAL_A',\n",
       " 'income': 'INCGRP_A',\n",
       " 'bmi': 'BMICAT_A'}"
      ]
     },
     "execution_count": 16,
     "metadata": {},
     "output_type": "execute_result"
    }
   ],
   "source": [
    "column_map"
   ]
  },
  {
   "cell_type": "code",
   "execution_count": 17,
   "id": "878ea375",
   "metadata": {},
   "outputs": [],
   "source": [
    "subset_df = subset_df[(subset_df['sex'] <= 2) & (subset_df['edu'] <= 11) & \n",
    "          (subset_df['age'] <= 85) & (subset_df['anx_ever'] <= 2) & (subset_df['dep_ever'] <= 2) & \n",
    "          (subset_df['inscov'] <= 2) & (subset_df['orient'] <= 4) & (subset_df['marital'] <= 3) &\n",
    "          (subset_df['bmi'] <= 4)]"
   ]
  },
  {
   "cell_type": "code",
   "execution_count": 18,
   "id": "1a90cd40",
   "metadata": {},
   "outputs": [],
   "source": [
    "def map_edu(x):\n",
    "    if x in {0, 1, 2, 3, 4, 5}:\n",
    "        return 1\n",
    "    elif x in {6, 7, 8}:\n",
    "        return 2\n",
    "    return 3"
   ]
  },
  {
   "cell_type": "code",
   "execution_count": 19,
   "id": "5042b931",
   "metadata": {},
   "outputs": [],
   "source": [
    "subset_df['edu'] = subset_df['edu'].apply(map_edu)"
   ]
  },
  {
   "cell_type": "code",
   "execution_count": 20,
   "id": "d76f77df",
   "metadata": {},
   "outputs": [],
   "source": [
    "subset_df['anx_ever'] = subset_df['anx_ever'].apply(lambda x : 0 if (x == 2) else x)"
   ]
  },
  {
   "cell_type": "code",
   "execution_count": 21,
   "id": "35a31e02",
   "metadata": {},
   "outputs": [],
   "source": [
    "subset_df['dep_ever'] = subset_df['dep_ever'].apply(lambda x : 0 if (x == 2) else x)"
   ]
  },
  {
   "cell_type": "markdown",
   "id": "6e55341e",
   "metadata": {},
   "source": [
    "# Creating the depression score column\n",
    "**Score = anx_level x anx_freq + dep_level x dep_freq**"
   ]
  },
  {
   "cell_type": "code",
   "execution_count": 22,
   "id": "4933050f",
   "metadata": {},
   "outputs": [
    {
     "data": {
      "text/plain": [
       "(29046, 15)"
      ]
     },
     "execution_count": 22,
     "metadata": {},
     "output_type": "execute_result"
    }
   ],
   "source": [
    "subset_df.shape"
   ]
  },
  {
   "cell_type": "code",
   "execution_count": 23,
   "id": "641df17f",
   "metadata": {},
   "outputs": [
    {
     "data": {
      "text/html": [
       "<div>\n",
       "<style scoped>\n",
       "    .dataframe tbody tr th:only-of-type {\n",
       "        vertical-align: middle;\n",
       "    }\n",
       "\n",
       "    .dataframe tbody tr th {\n",
       "        vertical-align: top;\n",
       "    }\n",
       "\n",
       "    .dataframe thead th {\n",
       "        text-align: right;\n",
       "    }\n",
       "</style>\n",
       "<table border=\"1\" class=\"dataframe\">\n",
       "  <thead>\n",
       "    <tr style=\"text-align: right;\">\n",
       "      <th></th>\n",
       "      <th>urbanrural</th>\n",
       "      <th>age</th>\n",
       "      <th>sex</th>\n",
       "      <th>edu</th>\n",
       "      <th>anx_ever</th>\n",
       "      <th>dep_ever</th>\n",
       "      <th>inscov</th>\n",
       "      <th>anx_freq</th>\n",
       "      <th>anx_level</th>\n",
       "      <th>dep_freq</th>\n",
       "      <th>dep_level</th>\n",
       "      <th>orient</th>\n",
       "      <th>marital</th>\n",
       "      <th>income</th>\n",
       "      <th>bmi</th>\n",
       "    </tr>\n",
       "  </thead>\n",
       "  <tbody>\n",
       "    <tr>\n",
       "      <th>0</th>\n",
       "      <td>3</td>\n",
       "      <td>85</td>\n",
       "      <td>1</td>\n",
       "      <td>1</td>\n",
       "      <td>0</td>\n",
       "      <td>0</td>\n",
       "      <td>2</td>\n",
       "      <td>0</td>\n",
       "      <td>0.0</td>\n",
       "      <td>0</td>\n",
       "      <td>0.0</td>\n",
       "      <td>2</td>\n",
       "      <td>1</td>\n",
       "      <td>5</td>\n",
       "      <td>2</td>\n",
       "    </tr>\n",
       "    <tr>\n",
       "      <th>1</th>\n",
       "      <td>3</td>\n",
       "      <td>39</td>\n",
       "      <td>1</td>\n",
       "      <td>1</td>\n",
       "      <td>0</td>\n",
       "      <td>0</td>\n",
       "      <td>2</td>\n",
       "      <td>4</td>\n",
       "      <td>1.0</td>\n",
       "      <td>0</td>\n",
       "      <td>0.0</td>\n",
       "      <td>2</td>\n",
       "      <td>3</td>\n",
       "      <td>4</td>\n",
       "      <td>4</td>\n",
       "    </tr>\n",
       "    <tr>\n",
       "      <th>2</th>\n",
       "      <td>3</td>\n",
       "      <td>42</td>\n",
       "      <td>1</td>\n",
       "      <td>1</td>\n",
       "      <td>0</td>\n",
       "      <td>0</td>\n",
       "      <td>2</td>\n",
       "      <td>0</td>\n",
       "      <td>0.0</td>\n",
       "      <td>0</td>\n",
       "      <td>0.0</td>\n",
       "      <td>2</td>\n",
       "      <td>3</td>\n",
       "      <td>4</td>\n",
       "      <td>2</td>\n",
       "    </tr>\n",
       "    <tr>\n",
       "      <th>3</th>\n",
       "      <td>3</td>\n",
       "      <td>32</td>\n",
       "      <td>1</td>\n",
       "      <td>2</td>\n",
       "      <td>0</td>\n",
       "      <td>0</td>\n",
       "      <td>2</td>\n",
       "      <td>3</td>\n",
       "      <td>1.0</td>\n",
       "      <td>0</td>\n",
       "      <td>0.0</td>\n",
       "      <td>2</td>\n",
       "      <td>2</td>\n",
       "      <td>3</td>\n",
       "      <td>2</td>\n",
       "    </tr>\n",
       "    <tr>\n",
       "      <th>4</th>\n",
       "      <td>3</td>\n",
       "      <td>85</td>\n",
       "      <td>2</td>\n",
       "      <td>1</td>\n",
       "      <td>0</td>\n",
       "      <td>1</td>\n",
       "      <td>2</td>\n",
       "      <td>0</td>\n",
       "      <td>0.0</td>\n",
       "      <td>2</td>\n",
       "      <td>1.0</td>\n",
       "      <td>2</td>\n",
       "      <td>3</td>\n",
       "      <td>1</td>\n",
       "      <td>3</td>\n",
       "    </tr>\n",
       "  </tbody>\n",
       "</table>\n",
       "</div>"
      ],
      "text/plain": [
       "   urbanrural  age  sex  edu  anx_ever  dep_ever  inscov  anx_freq  anx_level  \\\n",
       "0           3   85    1    1         0         0       2         0        0.0   \n",
       "1           3   39    1    1         0         0       2         4        1.0   \n",
       "2           3   42    1    1         0         0       2         0        0.0   \n",
       "3           3   32    1    2         0         0       2         3        1.0   \n",
       "4           3   85    2    1         0         1       2         0        0.0   \n",
       "\n",
       "   dep_freq  dep_level  orient  marital  income  bmi  \n",
       "0         0        0.0       2        1       5    2  \n",
       "1         0        0.0       2        3       4    4  \n",
       "2         0        0.0       2        3       4    2  \n",
       "3         0        0.0       2        2       3    2  \n",
       "4         2        1.0       2        3       1    3  "
      ]
     },
     "execution_count": 23,
     "metadata": {},
     "output_type": "execute_result"
    }
   ],
   "source": [
    "subset_df.head()"
   ]
  },
  {
   "cell_type": "code",
   "execution_count": 24,
   "id": "4c242c16",
   "metadata": {},
   "outputs": [],
   "source": [
    "def mh_score(row):\n",
    "    return row['anx_level'] * row['anx_freq'] + row['dep_level'] * row['dep_freq']"
   ]
  },
  {
   "cell_type": "code",
   "execution_count": 25,
   "id": "c398fa67",
   "metadata": {},
   "outputs": [],
   "source": [
    "subset_df['score'] = subset_df.apply(mh_score, axis=1)"
   ]
  },
  {
   "cell_type": "code",
   "execution_count": 26,
   "id": "e2f1cbb9",
   "metadata": {},
   "outputs": [],
   "source": [
    "score_col = subset_df['score'] "
   ]
  },
  {
   "cell_type": "code",
   "execution_count": 27,
   "id": "13849e01",
   "metadata": {},
   "outputs": [
    {
     "data": {
      "text/plain": [
       "Text(0.5, 1.0, 'Frequency Distribution of Depression Score')"
      ]
     },
     "execution_count": 27,
     "metadata": {},
     "output_type": "execute_result"
    },
    {
     "data": {
      "image/png": "[encoded data removed]",
      "text/plain": [
       "<Figure size 432x288 with 1 Axes>"
      ]
     },
     "metadata": {
      "needs_background": "light"
     },
     "output_type": "display_data"
    }
   ],
   "source": [
    "sns.histplot(data=subset_df, x='score', stat=\"probability\", bins=15)\n",
    "plt.title(\"Frequency Distribution of Depression Score\")"
   ]
  },
  {
   "cell_type": "markdown",
   "id": "80401a1e",
   "metadata": {},
   "source": [
    "Since the score column is skewed, we use sklearn's standard scaler to normalize it and store in another column"
   ]
  },
  {
   "cell_type": "code",
   "execution_count": 28,
   "id": "b67fe9e9",
   "metadata": {},
   "outputs": [],
   "source": [
    "# create new column using standard scaler\n",
    "subset_df['norm_score'] = sklearn.preprocessing.StandardScaler().fit_transform(subset_df['score'].to_numpy().reshape(-1,1))"
   ]
  },
  {
   "cell_type": "code",
   "execution_count": 29,
   "id": "69067886",
   "metadata": {},
   "outputs": [
    {
     "data": {
      "text/plain": [
       "Text(0.5, 1.0, 'Frequency Distribution of Normalized Depression Score')"
      ]
     },
     "execution_count": 29,
     "metadata": {},
     "output_type": "execute_result"
    },
    {
     "data": {
      "image/png": "[encoded data removed]",
      "text/plain": [
       "<Figure size 432x288 with 1 Axes>"
      ]
     },
     "metadata": {
      "needs_background": "light"
     },
     "output_type": "display_data"
    }
   ],
   "source": [
    "sns.histplot(data=subset_df, x='norm_score', stat=\"probability\", bins=15)\n",
    "plt.title(\"Frequency Distribution of Normalized Depression Score\")"
   ]
  },
  {
   "cell_type": "markdown",
   "id": "dd1f9b88",
   "metadata": {},
   "source": [
    "We will form a binary variable indicating that if a sample has > 0 depression score, so that we can frame our problem as both regression and classfication problem."
   ]
  },
  {
   "cell_type": "code",
   "execution_count": 30,
   "id": "e124ba0c",
   "metadata": {},
   "outputs": [],
   "source": [
    "subset_df['mh_ever'] = subset_df['score'].apply(lambda x : x > 0)"
   ]
  },
  {
   "cell_type": "code",
   "execution_count": 31,
   "id": "c0ad2aa8",
   "metadata": {},
   "outputs": [
    {
     "data": {
      "text/plain": [
       "Text(0.5, 1.0, 'Ever Had Mental Health Issues')"
      ]
     },
     "execution_count": 31,
     "metadata": {},
     "output_type": "execute_result"
    },
    {
     "data": {
      "image/png": "[encoded data removed]",
      "text/plain": [
       "<Figure size 432x288 with 1 Axes>"
      ]
     },
     "metadata": {
      "needs_background": "light"
     },
     "output_type": "display_data"
    }
   ],
   "source": [
    "sns.barplot(x=\"mh_ever\", y=\"mh_ever\", data=subset_df, estimator=lambda x: len(x) / len(subset_df) * 100, order=[True, False])\n",
    "plt.xlabel('Ever had any mental health conditions')\n",
    "plt.title('Ever Had Mental Health Issues')"
   ]
  },
  {
   "cell_type": "markdown",
   "id": "08458e62",
   "metadata": {},
   "source": [
    "We can conclude that more samples have reported at least experiencing some sort of mental health issue."
   ]
  },
  {
   "cell_type": "markdown",
   "id": "2300a863",
   "metadata": {},
   "source": [
    "# Data Analysis & Results\n",
    "# EDA"
   ]
  },
  {
   "cell_type": "code",
   "execution_count": 32,
   "id": "8ab8824c",
   "metadata": {},
   "outputs": [
    {
     "data": {
      "text/plain": [
       "Index(['urbanrural', 'age', 'sex', 'edu', 'anx_ever', 'dep_ever', 'inscov',\n",
       "       'anx_freq', 'anx_level', 'dep_freq', 'dep_level', 'orient', 'marital',\n",
       "       'income', 'bmi', 'score', 'norm_score', 'mh_ever'],\n",
       "      dtype='object')"
      ]
     },
     "execution_count": 32,
     "metadata": {},
     "output_type": "execute_result"
    }
   ],
   "source": [
    "subset_df.columns"
   ]
  },
  {
   "cell_type": "code",
   "execution_count": 33,
   "id": "19a9535c",
   "metadata": {},
   "outputs": [
    {
     "data": {
      "text/html": [
       "<div>\n",
       "<style scoped>\n",
       "    .dataframe tbody tr th:only-of-type {\n",
       "        vertical-align: middle;\n",
       "    }\n",
       "\n",
       "    .dataframe tbody tr th {\n",
       "        vertical-align: top;\n",
       "    }\n",
       "\n",
       "    .dataframe thead th {\n",
       "        text-align: right;\n",
       "    }\n",
       "</style>\n",
       "<table border=\"1\" class=\"dataframe\">\n",
       "  <thead>\n",
       "    <tr style=\"text-align: right;\">\n",
       "      <th></th>\n",
       "      <th>urbanrural</th>\n",
       "      <th>age</th>\n",
       "      <th>sex</th>\n",
       "      <th>edu</th>\n",
       "      <th>anx_ever</th>\n",
       "      <th>dep_ever</th>\n",
       "      <th>inscov</th>\n",
       "      <th>anx_freq</th>\n",
       "      <th>anx_level</th>\n",
       "      <th>dep_freq</th>\n",
       "      <th>dep_level</th>\n",
       "      <th>orient</th>\n",
       "      <th>marital</th>\n",
       "      <th>income</th>\n",
       "      <th>bmi</th>\n",
       "      <th>score</th>\n",
       "      <th>norm_score</th>\n",
       "      <th>mh_ever</th>\n",
       "    </tr>\n",
       "  </thead>\n",
       "  <tbody>\n",
       "    <tr>\n",
       "      <th>0</th>\n",
       "      <td>3</td>\n",
       "      <td>85</td>\n",
       "      <td>1</td>\n",
       "      <td>1</td>\n",
       "      <td>0</td>\n",
       "      <td>0</td>\n",
       "      <td>2</td>\n",
       "      <td>0</td>\n",
       "      <td>0.0</td>\n",
       "      <td>0</td>\n",
       "      <td>0.0</td>\n",
       "      <td>2</td>\n",
       "      <td>1</td>\n",
       "      <td>5</td>\n",
       "      <td>2</td>\n",
       "      <td>0.0</td>\n",
       "      <td>-1.034039</td>\n",
       "      <td>False</td>\n",
       "    </tr>\n",
       "    <tr>\n",
       "      <th>1</th>\n",
       "      <td>3</td>\n",
       "      <td>39</td>\n",
       "      <td>1</td>\n",
       "      <td>1</td>\n",
       "      <td>0</td>\n",
       "      <td>0</td>\n",
       "      <td>2</td>\n",
       "      <td>4</td>\n",
       "      <td>1.0</td>\n",
       "      <td>0</td>\n",
       "      <td>0.0</td>\n",
       "      <td>2</td>\n",
       "      <td>3</td>\n",
       "      <td>4</td>\n",
       "      <td>4</td>\n",
       "      <td>4.0</td>\n",
       "      <td>-0.373319</td>\n",
       "      <td>True</td>\n",
       "    </tr>\n",
       "    <tr>\n",
       "      <th>2</th>\n",
       "      <td>3</td>\n",
       "      <td>42</td>\n",
       "      <td>1</td>\n",
       "      <td>1</td>\n",
       "      <td>0</td>\n",
       "      <td>0</td>\n",
       "      <td>2</td>\n",
       "      <td>0</td>\n",
       "      <td>0.0</td>\n",
       "      <td>0</td>\n",
       "      <td>0.0</td>\n",
       "      <td>2</td>\n",
       "      <td>3</td>\n",
       "      <td>4</td>\n",
       "      <td>2</td>\n",
       "      <td>0.0</td>\n",
       "      <td>-1.034039</td>\n",
       "      <td>False</td>\n",
       "    </tr>\n",
       "    <tr>\n",
       "      <th>3</th>\n",
       "      <td>3</td>\n",
       "      <td>32</td>\n",
       "      <td>1</td>\n",
       "      <td>2</td>\n",
       "      <td>0</td>\n",
       "      <td>0</td>\n",
       "      <td>2</td>\n",
       "      <td>3</td>\n",
       "      <td>1.0</td>\n",
       "      <td>0</td>\n",
       "      <td>0.0</td>\n",
       "      <td>2</td>\n",
       "      <td>2</td>\n",
       "      <td>3</td>\n",
       "      <td>2</td>\n",
       "      <td>3.0</td>\n",
       "      <td>-0.538499</td>\n",
       "      <td>True</td>\n",
       "    </tr>\n",
       "    <tr>\n",
       "      <th>4</th>\n",
       "      <td>3</td>\n",
       "      <td>85</td>\n",
       "      <td>2</td>\n",
       "      <td>1</td>\n",
       "      <td>0</td>\n",
       "      <td>1</td>\n",
       "      <td>2</td>\n",
       "      <td>0</td>\n",
       "      <td>0.0</td>\n",
       "      <td>2</td>\n",
       "      <td>1.0</td>\n",
       "      <td>2</td>\n",
       "      <td>3</td>\n",
       "      <td>1</td>\n",
       "      <td>3</td>\n",
       "      <td>2.0</td>\n",
       "      <td>-0.703679</td>\n",
       "      <td>True</td>\n",
       "    </tr>\n",
       "  </tbody>\n",
       "</table>\n",
       "</div>"
      ],
      "text/plain": [
       "   urbanrural  age  sex  edu  anx_ever  dep_ever  inscov  anx_freq  anx_level  \\\n",
       "0           3   85    1    1         0         0       2         0        0.0   \n",
       "1           3   39    1    1         0         0       2         4        1.0   \n",
       "2           3   42    1    1         0         0       2         0        0.0   \n",
       "3           3   32    1    2         0         0       2         3        1.0   \n",
       "4           3   85    2    1         0         1       2         0        0.0   \n",
       "\n",
       "   dep_freq  dep_level  orient  marital  income  bmi  score  norm_score  \\\n",
       "0         0        0.0       2        1       5    2    0.0   -1.034039   \n",
       "1         0        0.0       2        3       4    4    4.0   -0.373319   \n",
       "2         0        0.0       2        3       4    2    0.0   -1.034039   \n",
       "3         0        0.0       2        2       3    2    3.0   -0.538499   \n",
       "4         2        1.0       2        3       1    3    2.0   -0.703679   \n",
       "\n",
       "   mh_ever  \n",
       "0    False  \n",
       "1     True  \n",
       "2    False  \n",
       "3     True  \n",
       "4     True  "
      ]
     },
     "execution_count": 33,
     "metadata": {},
     "output_type": "execute_result"
    }
   ],
   "source": [
    "subset_df.head()"
   ]
  },
  {
   "cell_type": "markdown",
   "id": "bc3572f1",
   "metadata": {},
   "source": [
    "# Depression Score"
   ]
  },
  {
   "cell_type": "code",
   "execution_count": 34,
   "id": "8ab7a568",
   "metadata": {},
   "outputs": [
    {
     "data": {
      "image/png": "[encoded data removed]",
      "text/plain": [
       "<Figure size 432x288 with 2 Axes>"
      ]
     },
     "metadata": {
      "needs_background": "light"
     },
     "output_type": "display_data"
    }
   ],
   "source": [
    "fig, axes = plt.subplots(2, 1)\n",
    "fig.subplots_adjust(hspace=1, wspace=1)\n",
    "sns.histplot(data=subset_df, x='score', bins=15, kde=True, ax = axes[0], stat=\"probability\").set_ylabel('Percent')\n",
    "plt.suptitle('Depression/Anxiety Score Distribution')\n",
    "sns.boxplot(data=subset_df, x='score', ax = axes[1])\n",
    "fig.show()"
   ]
  },
  {
   "cell_type": "markdown",
   "id": "ad6188ee",
   "metadata": {},
   "source": [
    "**Distribution is severely right-skewed, which means majority of samples in the dataset has no mental health issues**"
   ]
  },
  {
   "cell_type": "code",
   "execution_count": 35,
   "id": "7a53915c",
   "metadata": {},
   "outputs": [],
   "source": [
    "def get_outliers(col):\n",
    "    IQR = col.quantile(q=0.75) - col.quantile(q=0.25)\n",
    "    return col[np.abs(col - col.mean()) > 1.5 * IQR]"
   ]
  },
  {
   "cell_type": "code",
   "execution_count": 36,
   "id": "64a442c0",
   "metadata": {},
   "outputs": [
    {
     "data": {
      "text/plain": [
       "13       20.0\n",
       "33       24.0\n",
       "42       20.0\n",
       "60       24.0\n",
       "73       24.0\n",
       "         ... \n",
       "31508    24.0\n",
       "31527    21.0\n",
       "31534    24.0\n",
       "31537    24.0\n",
       "31558    24.0\n",
       "Name: score, Length: 1228, dtype: float64"
      ]
     },
     "execution_count": 36,
     "metadata": {},
     "output_type": "execute_result"
    }
   ],
   "source": [
    "get_outliers(subset_df['score'])"
   ]
  },
  {
   "cell_type": "markdown",
   "id": "5f317b20",
   "metadata": {},
   "source": [
    "There are 1261 outliers in the 'score' column according to the 1.5*IQR rule, most of our samples are concentrated in the 0-20 range.\n",
    "So, we will decide to consider any sample with > 20 score as an outlier."
   ]
  },
  {
   "cell_type": "markdown",
   "id": "a09b5d08",
   "metadata": {},
   "source": [
    "# Age"
   ]
  },
  {
   "cell_type": "code",
   "execution_count": 37,
   "id": "a2d8b01e",
   "metadata": {},
   "outputs": [
    {
     "data": {
      "text/plain": [
       "Text(0.5, 1.0, 'Age Distribution')"
      ]
     },
     "execution_count": 37,
     "metadata": {},
     "output_type": "execute_result"
    },
    {
     "data": {
      "image/png": "[encoded data removed]",
      "text/plain": [
       "<Figure size 432x288 with 1 Axes>"
      ]
     },
     "metadata": {
      "needs_background": "light"
     },
     "output_type": "display_data"
    }
   ],
   "source": [
    "ax = sns.histplot(x = 'age', data = subset_df, stat=\"probability\", bins = 15, kde=True)\n",
    "ax.set_title('Age Distribution')"
   ]
  },
  {
   "cell_type": "markdown",
   "id": "d82db987",
   "metadata": {},
   "source": [
    "The Age Distrubution is approximately a uniform distribution"
   ]
  },
  {
   "cell_type": "code",
   "execution_count": 38,
   "id": "ef90540b",
   "metadata": {},
   "outputs": [
    {
     "data": {
      "text/plain": [
       "Series([], Name: age, dtype: int64)"
      ]
     },
     "execution_count": 38,
     "metadata": {},
     "output_type": "execute_result"
    }
   ],
   "source": [
    "get_outliers(subset_df['age'])"
   ]
  },
  {
   "cell_type": "markdown",
   "id": "6c963fad",
   "metadata": {},
   "source": [
    "Using the  **1.5*IQR**  rule, the 'age' column does not seem to have any outliers."
   ]
  },
  {
   "cell_type": "markdown",
   "id": "a32f0d22",
   "metadata": {},
   "source": [
    "# Regional Information\n",
    "### Category: Urban or Rural\n",
    "Code:\n",
    "1. -->Large central metro \n",
    "2. -->Large fringe metro \n",
    "3. -->Medium and small metro \n",
    "4. -->Nonmetropolitan"
   ]
  },
  {
   "cell_type": "code",
   "execution_count": 39,
   "id": "8929afde",
   "metadata": {},
   "outputs": [
    {
     "data": {
      "text/plain": [
       "Text(0.5, 1.0, 'Urban/Rural Breakdown')"
      ]
     },
     "execution_count": 39,
     "metadata": {},
     "output_type": "execute_result"
    },
    {
     "data": {
      "image/png": "[encoded data removed]",
      "text/plain": [
       "<Figure size 432x288 with 1 Axes>"
      ]
     },
     "metadata": {
      "needs_background": "light"
     },
     "output_type": "display_data"
    }
   ],
   "source": [
    "ax = sns.barplot(x=\"urbanrural\", y=\"urbanrural\", data=subset_df, estimator=lambda x: len(x) / len(subset_df) * 100)\n",
    "ax.set(ylabel=\"Percent\")\n",
    "ax.set_title('Urban/Rural Breakdown')"
   ]
  },
  {
   "cell_type": "markdown",
   "id": "a91eb56c",
   "metadata": {},
   "source": [
    "From the barplot, we can point out that most samples live in metro areas, while nonmetropolitan group is the minority. This could be a potential factor because the lifestyle in urban areas is significantly different compared to the lifestyle in rural areas. "
   ]
  },
  {
   "cell_type": "markdown",
   "id": "40d493d0",
   "metadata": {},
   "source": [
    "# Gender\n",
    "### Category: Male or Female\n",
    "Code:\n",
    "* 1 --> Male\n",
    "* 2 --> Female"
   ]
  },
  {
   "cell_type": "code",
   "execution_count": 40,
   "id": "f5bc8bc3",
   "metadata": {},
   "outputs": [
    {
     "data": {
      "text/plain": [
       "Text(0.5, 1.0, 'Gender Breakdown')"
      ]
     },
     "execution_count": 40,
     "metadata": {},
     "output_type": "execute_result"
    },
    {
     "data": {
      "image/png": "[encoded data removed]",
      "text/plain": [
       "<Figure size 432x288 with 1 Axes>"
      ]
     },
     "metadata": {
      "needs_background": "light"
     },
     "output_type": "display_data"
    }
   ],
   "source": [
    "ax = sns.barplot(x=\"sex\", y=\"sex\", data=subset_df, estimator=lambda x: len(x) / len(subset_df) * 100)\n",
    "ax.set(ylabel=\"Percent\")\n",
    "ax.set_title('Gender Breakdown')"
   ]
  },
  {
   "cell_type": "markdown",
   "id": "31d3de03",
   "metadata": {},
   "source": [
    "Around 47% of the survey response is **Male**, while 53% is from **Female**"
   ]
  },
  {
   "cell_type": "markdown",
   "id": "6e1fad4a",
   "metadata": {},
   "source": [
    "# Education Level\n",
    "### Category: Below Degree, Degree, Above Degree\n",
    "Code:\n",
    "* 1 --> Below Degree\n",
    "* 2 --> Bachelor's Degree\n",
    "* 3 --> Above Degree (Masters, PhD)"
   ]
  },
  {
   "cell_type": "code",
   "execution_count": 41,
   "id": "1d76f95e",
   "metadata": {},
   "outputs": [
    {
     "data": {
      "text/plain": [
       "Text(0.5, 1.0, 'Education Level Breakdown')"
      ]
     },
     "execution_count": 41,
     "metadata": {},
     "output_type": "execute_result"
    },
    {
     "data": {
      "image/png": "[encoded data removed]",
      "text/plain": [
       "<Figure size 432x288 with 1 Axes>"
      ]
     },
     "metadata": {
      "needs_background": "light"
     },
     "output_type": "display_data"
    }
   ],
   "source": [
    "ax = sns.barplot(x=\"edu\", y=\"edu\", data=subset_df, estimator=lambda x: len(x) / len(subset_df) * 100)\n",
    "ax.set(ylabel=\"Percent\")\n",
    "ax.set_title('Education Level Breakdown')"
   ]
  },
  {
   "cell_type": "markdown",
   "id": "f29f8d28",
   "metadata": {},
   "source": [
    "From the barplot above, we can observe that 'Below Degree' group is the most frequent category at about 48%, with 'Bachelor's Degree's ranked second at around 37%. While 'Above Degree' group is the minority in our dataset standing at roughly 15%."
   ]
  },
  {
   "cell_type": "markdown",
   "id": "143c7c63",
   "metadata": {},
   "source": [
    "# Anxiety Level and Depression Level\n",
    "### Category: no anxiety, A little, A lot, Somewhere in between a little and a lot\n",
    "Code:\n",
    "* 0 --> no anxiety\n",
    "* 1 --> A little\n",
    "* 2 --> A lot\n",
    "* 3 --> Somewhere in between a little and a lot"
   ]
  },
  {
   "cell_type": "code",
   "execution_count": 42,
   "id": "3446f4ef",
   "metadata": {},
   "outputs": [
    {
     "data": {
      "image/png": "[encoded data removed]",
      "text/plain": [
       "<Figure size 432x288 with 2 Axes>"
      ]
     },
     "metadata": {
      "needs_background": "light"
     },
     "output_type": "display_data"
    }
   ],
   "source": [
    "fig, axes =plt.subplots(1,2)\n",
    "fig.subplots_adjust(hspace=1, wspace=1)\n",
    "sns.barplot(x=\"anx_level\", y=\"anx_level\", data=subset_df, estimator=lambda x: len(x) / len(subset_df) * 100, ax = axes[0]).set(ylabel=\"Percent\")\n",
    "axes[0].set_title('Anxiety Level Breakdown')\n",
    "sns.barplot(x=\"dep_level\", y=\"dep_level\", data=subset_df, estimator=lambda x: len(x) / len(subset_df) * 100, ax = axes[1]).set(ylabel=\"Percent\")\n",
    "axes[1].set_title('Depression Level Breakdown')\n",
    "fig.show()"
   ]
  },
  {
   "cell_type": "markdown",
   "id": "d6613515",
   "metadata": {},
   "source": [
    "In both graphs, most people show little or no anixety/depression. However, from the Anxiety Level Breakdown plot, participants tend to be more anxious than depressesd."
   ]
  },
  {
   "cell_type": "markdown",
   "id": "f8455ab2",
   "metadata": {},
   "source": [
    "# Anxiety Frequency and Depression Frequency\n",
    "### Category: never, A few times a year, Monthly, Weekly, Daily\n",
    "Code: \n",
    "* 0 ---> never\n",
    "* 1 ---> A few times a year\n",
    "* 2 ---> Monthly\n",
    "* 3 ---> Weekly\n",
    "* 4 ---> Daily"
   ]
  },
  {
   "cell_type": "markdown",
   "id": "3b6edf9e",
   "metadata": {},
   "source": [
    "We will remove value 7, 8, 9 as it reprents 'Refused', 'Not Ascertained', 'Don't Know' which does not account to the problem we are trying to solve."
   ]
  },
  {
   "cell_type": "code",
   "execution_count": 43,
   "id": "64150a64",
   "metadata": {},
   "outputs": [
    {
     "data": {
      "image/png": "[encoded data removed]",
      "text/plain": [
       "<Figure size 432x288 with 2 Axes>"
      ]
     },
     "metadata": {
      "needs_background": "light"
     },
     "output_type": "display_data"
    }
   ],
   "source": [
    "fig, axes =plt.subplots(1,2)\n",
    "fig.subplots_adjust(hspace=1, wspace=1)\n",
    "\n",
    "sns.barplot(x=\"anx_freq\", y=\"anx_freq\", data=subset_df, estimator=lambda x: len(x) / len(subset_df) * 100, ax = axes[0]).set(ylabel=\"Percent\")\n",
    "axes[0].set_title('Anxiety Frequency')\n",
    "sns.barplot(x=\"dep_freq\", y=\"dep_freq\", data=subset_df, estimator=lambda x: len(x) / len(subset_df) * 100, ax = axes[1]).set(ylabel=\"Percent\")\n",
    "axes[1].set_title('Depression Frequency')\n",
    "fig.show()"
   ]
  },
  {
   "cell_type": "markdown",
   "id": "1fd49bfd",
   "metadata": {},
   "source": [
    "From the plots, we can deduce that majority of the  participants does not experience anxiety or depression. Instead, there are more people reportedly feeling anxious when compared to those who are feeling depressed. Anxiety Frequency plot is a bimodal distribution, while Depresion Frequency plot is also slight considered a bimodal distribution and slightly right-skewed."
   ]
  },
  {
   "cell_type": "markdown",
   "id": "f2c3e5fc",
   "metadata": {},
   "source": [
    "# Insurance Coverage\n",
    "### Category: Covered or Not Covered\n",
    "Code:\n",
    "* 1 ---> not covered\n",
    "* 2 ---> covered"
   ]
  },
  {
   "cell_type": "code",
   "execution_count": 44,
   "id": "efdf0892",
   "metadata": {},
   "outputs": [
    {
     "data": {
      "text/plain": [
       "Text(0.5, 1.0, 'Medical Insurance Coverage')"
      ]
     },
     "execution_count": 44,
     "metadata": {},
     "output_type": "execute_result"
    },
    {
     "data": {
      "image/png": "[encoded data removed]",
      "text/plain": [
       "<Figure size 432x288 with 1 Axes>"
      ]
     },
     "metadata": {
      "needs_background": "light"
     },
     "output_type": "display_data"
    }
   ],
   "source": [
    "ax_ins = sns.barplot(x=\"inscov\", y=\"inscov\", data=subset_df, estimator=lambda x: len(x) / len(subset_df) * 100)\n",
    "ax_ins.set(ylabel=\"Percent\", xlabel = 'insurance coverage')\n",
    "ax_ins.set_title('Medical Insurance Coverage')"
   ]
  },
  {
   "cell_type": "markdown",
   "id": "e9c49b4c",
   "metadata": {},
   "source": [
    "From the plot, it is clear that vast majority of samples have insurance covered. Thus, it might be a huge factor on why there are less samples having anxiety or depression."
   ]
  },
  {
   "cell_type": "markdown",
   "id": "a893417c",
   "metadata": {},
   "source": [
    "# Sexual Orientation\n",
    "### Cateogry: Gay/Lesbian, Straight, Bisexual, Something else\n",
    "Code:\n",
    "* 1 ---> Gay/Lesbian\n",
    "* 2 ---> Straight\n",
    "* 3 ---> Bisexual\n",
    "* 4 ---> Something else"
   ]
  },
  {
   "cell_type": "code",
   "execution_count": 45,
   "id": "18ec21c6",
   "metadata": {},
   "outputs": [
    {
     "data": {
      "text/plain": [
       "Text(0.5, 1.0, 'Sexual Orientation Breakdown')"
      ]
     },
     "execution_count": 45,
     "metadata": {},
     "output_type": "execute_result"
    },
    {
     "data": {
      "image/png": "[encoded data removed]",
      "text/plain": [
       "<Figure size 432x288 with 1 Axes>"
      ]
     },
     "metadata": {
      "needs_background": "light"
     },
     "output_type": "display_data"
    }
   ],
   "source": [
    "ax = sns.barplot(x=\"orient\", y=\"orient\", data=subset_df, estimator=lambda x: len(x) / len(subset_df) * 100)\n",
    "ax.set(ylabel=\"Percent\")\n",
    "ax.set_title('Sexual Orientation Breakdown')"
   ]
  },
  {
   "cell_type": "markdown",
   "id": "9bef352d",
   "metadata": {},
   "source": [
    "From the plot, we can observe that more than 90% of samples are straight, LGBTQ individuals are higher risk of experiencing poor mental health. According to [source](https://www.mentalhealth.org.uk/statistics/mental-health-statistics-lgbtiq-people). "
   ]
  },
  {
   "cell_type": "markdown",
   "id": "9000e37f",
   "metadata": {},
   "source": [
    "# Marital\n",
    "### Category: Married, Living with partner together as unmarried couple, Neither\n",
    "Code:\n",
    "* 1 ---> married\n",
    "* 2 ---> living with partner together as unmarried couple\n",
    "* 3 ---> Neither"
   ]
  },
  {
   "cell_type": "code",
   "execution_count": 46,
   "id": "3a6522a8",
   "metadata": {},
   "outputs": [
    {
     "data": {
      "text/plain": [
       "Text(0.5, 1.0, 'Marital Status Breakdown')"
      ]
     },
     "execution_count": 46,
     "metadata": {},
     "output_type": "execute_result"
    },
    {
     "data": {
      "image/png": "[encoded data removed]",
      "text/plain": [
       "<Figure size 432x288 with 1 Axes>"
      ]
     },
     "metadata": {
      "needs_background": "light"
     },
     "output_type": "display_data"
    }
   ],
   "source": [
    "ax_marital = sns.barplot(x=\"marital\", y=\"marital\", data=subset_df, estimator=lambda x: len(x) / len(subset_df) * 100)\n",
    "ax_marital.set(ylabel=\"Percent\")\n",
    "ax_marital.set_title('Marital Status Breakdown')"
   ]
  },
  {
   "cell_type": "markdown",
   "id": "6b5c8c1d",
   "metadata": {},
   "source": [
    "From the plot, married category is almost equal to neither(single/divorced) category. Based on [sources](https://www.sciencedirect.com/science/article/pii/S2352827321000495), being single and being divorced were found to be risk factors for depressive symptoms and lower self-esteem."
   ]
  },
  {
   "cell_type": "markdown",
   "id": "326b1ab8",
   "metadata": {},
   "source": [
    "# Income\n",
    "### Discription: adult family income (grouped)\n",
    "Code:\n",
    "* 1 --> $0 to 34,999\n",
    "\n",
    "* 2 --> $35,000 to 49,999\n",
    "\n",
    "* 3 --> $50,000 to 74,999\n",
    "\n",
    "* 4 --> $75,000 to 99,999\n",
    "\n",
    "* 5 --> $100,000 or greater"
   ]
  },
  {
   "cell_type": "code",
   "execution_count": 47,
   "id": "1fdfc922",
   "metadata": {},
   "outputs": [
    {
     "data": {
      "text/plain": [
       "Text(0.5, 1.0, 'Household Income Breakdown')"
      ]
     },
     "execution_count": 47,
     "metadata": {},
     "output_type": "execute_result"
    },
    {
     "data": {
      "image/png": "[encoded data removed]",
      "text/plain": [
       "<Figure size 432x288 with 1 Axes>"
      ]
     },
     "metadata": {
      "needs_background": "light"
     },
     "output_type": "display_data"
    }
   ],
   "source": [
    "ax_income = sns.barplot(x=\"income\", y=\"income\", data=subset_df, estimator=lambda x: len(x) / len(subset_df) * 100)\n",
    "ax_income.set(ylabel=\"Percent\")\n",
    "ax_income.set_title('Household Income Breakdown')"
   ]
  },
  {
   "cell_type": "markdown",
   "id": "f06b6b4c",
   "metadata": {},
   "source": [
    "Income should be a bigger factor contibuting to mental health of individuals, the plot above represents a bimodal distribution, with majority of the percentages gathered in the poorest and richest group of families. "
   ]
  },
  {
   "cell_type": "markdown",
   "id": "8a9cb019",
   "metadata": {},
   "source": [
    "# BMI\n",
    "### Category : Underweight, Healthy weight, Overweight, Obese\n",
    "Code: \n",
    "* 1-->Underweight\n",
    "* 2-->Healthy weight\n",
    "* 3-->Overweight\n",
    "* 4-->Obese"
   ]
  },
  {
   "cell_type": "code",
   "execution_count": 48,
   "id": "d47fc5b5",
   "metadata": {},
   "outputs": [
    {
     "data": {
      "text/plain": [
       "Text(0.5, 1.0, 'BMI Breakdown')"
      ]
     },
     "execution_count": 48,
     "metadata": {},
     "output_type": "execute_result"
    },
    {
     "data": {
      "image/png": "[encoded data removed]",
      "text/plain": [
       "<Figure size 432x288 with 1 Axes>"
      ]
     },
     "metadata": {
      "needs_background": "light"
     },
     "output_type": "display_data"
    }
   ],
   "source": [
    "ax_bmi = sns.barplot(x=\"bmi\", y=\"bmi\", data=subset_df, estimator=lambda x: len(x) / len(subset_df) * 100)\n",
    "ax_bmi.set(ylabel=\"Percent\")\n",
    "ax_bmi.set_title('BMI Breakdown')"
   ]
  },
  {
   "cell_type": "markdown",
   "id": "7dc2c834",
   "metadata": {},
   "source": [
    "From the graph, we can deduce that a vast majority of samples are either overweight or obese, thus indicating a major problem in the dataset we are using.\n",
    "Based on the [source](https://www.goodrx.com/well-being/healthy-mind/obesity-and-mental-health), obesity is linked to mood and anxiety disorders."
   ]
  },
  {
   "cell_type": "markdown",
   "id": "2b6c9831",
   "metadata": {},
   "source": [
    "# Relationship between Variables and Depression Score"
   ]
  },
  {
   "cell_type": "markdown",
   "id": "9658c061",
   "metadata": {},
   "source": [
    "### Correlation coefficient for Depression Score"
   ]
  },
  {
   "cell_type": "code",
   "execution_count": 49,
   "id": "64e0735a",
   "metadata": {},
   "outputs": [
    {
     "data": {
      "text/plain": [
       "urbanrural   -0.008825\n",
       "age          -0.106128\n",
       "sex           0.120152\n",
       "edu           0.034687\n",
       "anx_ever      0.185216\n",
       "dep_ever      0.245932\n",
       "inscov       -0.009074\n",
       "anx_freq      0.572810\n",
       "anx_level     0.775975\n",
       "dep_freq      0.694935\n",
       "dep_level     0.747250\n",
       "orient        0.013664\n",
       "marital       0.052902\n",
       "income       -0.024318\n",
       "bmi           0.013394\n",
       "score         1.000000\n",
       "norm_score    1.000000\n",
       "mh_ever       0.633402\n",
       "Name: score, dtype: float64"
      ]
     },
     "execution_count": 49,
     "metadata": {},
     "output_type": "execute_result"
    }
   ],
   "source": [
    "subset_df.corr()['score']"
   ]
  },
  {
   "cell_type": "markdown",
   "id": "249a3a64",
   "metadata": {},
   "source": [
    "### Relationship between Income and Depression Score"
   ]
  },
  {
   "cell_type": "code",
   "execution_count": 50,
   "id": "823d4ef8",
   "metadata": {},
   "outputs": [
    {
     "data": {
      "text/html": [
       "<div>\n",
       "<style scoped>\n",
       "    .dataframe tbody tr th:only-of-type {\n",
       "        vertical-align: middle;\n",
       "    }\n",
       "\n",
       "    .dataframe tbody tr th {\n",
       "        vertical-align: top;\n",
       "    }\n",
       "\n",
       "    .dataframe thead th {\n",
       "        text-align: right;\n",
       "    }\n",
       "</style>\n",
       "<table border=\"1\" class=\"dataframe\">\n",
       "  <thead>\n",
       "    <tr style=\"text-align: right;\">\n",
       "      <th></th>\n",
       "      <th>income</th>\n",
       "      <th>score</th>\n",
       "    </tr>\n",
       "  </thead>\n",
       "  <tbody>\n",
       "    <tr>\n",
       "      <th>income</th>\n",
       "      <td>1.000000</td>\n",
       "      <td>-0.024318</td>\n",
       "    </tr>\n",
       "    <tr>\n",
       "      <th>score</th>\n",
       "      <td>-0.024318</td>\n",
       "      <td>1.000000</td>\n",
       "    </tr>\n",
       "  </tbody>\n",
       "</table>\n",
       "</div>"
      ],
      "text/plain": [
       "          income     score\n",
       "income  1.000000 -0.024318\n",
       "score  -0.024318  1.000000"
      ]
     },
     "execution_count": 50,
     "metadata": {},
     "output_type": "execute_result"
    }
   ],
   "source": [
    "income_score = subset_df[['income', 'score']].copy()\n",
    "income_score.corr()"
   ]
  },
  {
   "cell_type": "code",
   "execution_count": 51,
   "id": "45708e21",
   "metadata": {},
   "outputs": [
    {
     "data": {
      "text/plain": [
       "<seaborn.axisgrid.FacetGrid at 0x2379b2faf10>"
      ]
     },
     "execution_count": 51,
     "metadata": {},
     "output_type": "execute_result"
    },
    {
     "data": {
      "image/png": "[encoded data removed]",
      "text/plain": [
       "<Figure size 360x360 with 1 Axes>"
      ]
     },
     "metadata": {
      "needs_background": "light"
     },
     "output_type": "display_data"
    }
   ],
   "source": [
    "\n",
    "sns.catplot(x=\"income\", y=\"score\", kind=\"box\", data=subset_df)"
   ]
  },
  {
   "cell_type": "markdown",
   "id": "eb9951ab",
   "metadata": {},
   "source": [
    "From the boxplot above, we can observe that lower income group tend to have higher depression score and as income increase, lesser samples have higher mental risks. Boxplot from 2 to 5 have similar meidan indicating that they have similar depression score distribution in the lower 50 percentile"
   ]
  },
  {
   "cell_type": "markdown",
   "id": "4643abde",
   "metadata": {},
   "source": [
    "### Relationship between BMI and Depression Score"
   ]
  },
  {
   "cell_type": "code",
   "execution_count": 52,
   "id": "ac3fdc54",
   "metadata": {},
   "outputs": [
    {
     "data": {
      "text/html": [
       "<div>\n",
       "<style scoped>\n",
       "    .dataframe tbody tr th:only-of-type {\n",
       "        vertical-align: middle;\n",
       "    }\n",
       "\n",
       "    .dataframe tbody tr th {\n",
       "        vertical-align: top;\n",
       "    }\n",
       "\n",
       "    .dataframe thead th {\n",
       "        text-align: right;\n",
       "    }\n",
       "</style>\n",
       "<table border=\"1\" class=\"dataframe\">\n",
       "  <thead>\n",
       "    <tr style=\"text-align: right;\">\n",
       "      <th></th>\n",
       "      <th>bmi</th>\n",
       "      <th>score</th>\n",
       "    </tr>\n",
       "  </thead>\n",
       "  <tbody>\n",
       "    <tr>\n",
       "      <th>bmi</th>\n",
       "      <td>1.000000</td>\n",
       "      <td>0.013394</td>\n",
       "    </tr>\n",
       "    <tr>\n",
       "      <th>score</th>\n",
       "      <td>0.013394</td>\n",
       "      <td>1.000000</td>\n",
       "    </tr>\n",
       "  </tbody>\n",
       "</table>\n",
       "</div>"
      ],
      "text/plain": [
       "            bmi     score\n",
       "bmi    1.000000  0.013394\n",
       "score  0.013394  1.000000"
      ]
     },
     "execution_count": 52,
     "metadata": {},
     "output_type": "execute_result"
    }
   ],
   "source": [
    "bmi_dep = subset_df[['bmi', 'score']].copy()\n",
    "bmi_dep.corr()"
   ]
  },
  {
   "cell_type": "code",
   "execution_count": 53,
   "id": "ac1bd6e7",
   "metadata": {},
   "outputs": [
    {
     "data": {
      "text/plain": [
       "<seaborn.axisgrid.FacetGrid at 0x2379b391490>"
      ]
     },
     "execution_count": 53,
     "metadata": {},
     "output_type": "execute_result"
    },
    {
     "data": {
      "image/png": "[encoded data removed]",
      "text/plain": [
       "<Figure size 360x360 with 1 Axes>"
      ]
     },
     "metadata": {
      "needs_background": "light"
     },
     "output_type": "display_data"
    }
   ],
   "source": [
    "sns.catplot(x=\"bmi\", y=\"score\", kind=\"box\", data=subset_df)"
   ]
  },
  {
   "cell_type": "markdown",
   "id": "a195374a",
   "metadata": {},
   "source": [
    "From the boxplots above, samples that are obese have have higer depression score, which is logical."
   ]
  },
  {
   "cell_type": "markdown",
   "id": "20448558",
   "metadata": {},
   "source": [
    "### Relationship between Gender and Depression Score"
   ]
  },
  {
   "cell_type": "code",
   "execution_count": 54,
   "id": "2bf4b44c",
   "metadata": {},
   "outputs": [],
   "source": [
    "male_mh_score = subset_df[subset_df['sex'] == 1]['score']\n",
    "female_mh_score = subset_df[subset_df['sex'] == 2]['score']"
   ]
  },
  {
   "cell_type": "code",
   "execution_count": 55,
   "id": "fdd96ee4",
   "metadata": {},
   "outputs": [
    {
     "data": {
      "text/plain": [
       "Text(0.5, 1.0, 'Depression score by gender')"
      ]
     },
     "execution_count": 55,
     "metadata": {},
     "output_type": "execute_result"
    },
    {
     "data": {
      "image/png": "[encoded data removed]",
      "text/plain": [
       "<Figure size 360x360 with 1 Axes>"
      ]
     },
     "metadata": {
      "needs_background": "light"
     },
     "output_type": "display_data"
    }
   ],
   "source": [
    "sns.catplot(kind='box', x='sex',y='score',data=subset_df)\n",
    "ax = plt.gca()\n",
    "ax.set_xticklabels(labels=['Male','Female'])\n",
    "plt.title('Depression score by gender')"
   ]
  },
  {
   "cell_type": "markdown",
   "id": "bdfde942",
   "metadata": {},
   "source": [
    "The above boxplot indicates that Female samples have a higher depression score compared to male samples, this is logical and somewhat accurate based on the [source](https://www.apa.org/news/press/releases/2011/08/mental-illness).\n",
    "To find find out whether there is a significant difference statiscally, we will use an independent samples t test."
   ]
  },
  {
   "cell_type": "code",
   "execution_count": 56,
   "id": "3a185507",
   "metadata": {},
   "outputs": [
    {
     "data": {
      "text/plain": [
       "(-20.62606235518034, 3.773832518080606e-94, 29044.0)"
      ]
     },
     "execution_count": 56,
     "metadata": {},
     "output_type": "execute_result"
    }
   ],
   "source": [
    "sm.stats.ttest_ind(male_mh_score, female_mh_score, alternative='smaller')"
   ]
  },
  {
   "cell_type": "markdown",
   "id": "af9e79f5",
   "metadata": {},
   "source": [
    "With a p value in the order of 10e-94, we can see that the difference between male and female depression score is significant. Females generally have worse mental conditions than males."
   ]
  },
  {
   "cell_type": "markdown",
   "id": "e5fc2027",
   "metadata": {},
   "source": [
    "### Relationships between Sexual Orientation and Depression Score"
   ]
  },
  {
   "cell_type": "markdown",
   "id": "fbf8bd05",
   "metadata": {},
   "source": [
    "Since we have 4 category for Sexual Orientation (Gay/Lesbian, Straight, Bisexual, Something else). We will sort them with a new column 'LGBTQ' into binary varaible: LGBTQ or Non-LBGTQ."
   ]
  },
  {
   "cell_type": "code",
   "execution_count": 57,
   "id": "b18ca26a",
   "metadata": {},
   "outputs": [],
   "source": [
    "LGBTQ_score = subset_df[subset_df['orient'] != 2]['score']\n",
    "non_LGBTQ_score = subset_df[subset_df['orient'] == 2]['score']"
   ]
  },
  {
   "cell_type": "code",
   "execution_count": 58,
   "id": "bab73923",
   "metadata": {},
   "outputs": [],
   "source": [
    "# create new binary variable based on LGBTQ or straight\n",
    "subset_df['lgbt'] = subset_df['orient'].apply(lambda x : 1 if x != 2 else 0)"
   ]
  },
  {
   "cell_type": "code",
   "execution_count": 59,
   "id": "63d063ff",
   "metadata": {},
   "outputs": [
    {
     "data": {
      "text/plain": [
       "Text(0.5, 1.0, 'Depression Score by Sexual Orientation')"
      ]
     },
     "execution_count": 59,
     "metadata": {},
     "output_type": "execute_result"
    },
    {
     "data": {
      "image/png": "[encoded data removed]",
      "text/plain": [
       "<Figure size 432x288 with 1 Axes>"
      ]
     },
     "metadata": {
      "needs_background": "light"
     },
     "output_type": "display_data"
    }
   ],
   "source": [
    "# A boxplot between LGBTQ and Depression Score\n",
    "sns.boxplot(x='lgbt', y='score', data=subset_df)\n",
    "ax = plt.gca()\n",
    "ax.set_xticklabels(['Straight', 'LGBTQ'])\n",
    "ax.set_xlabel('')\n",
    "plt.title(\"Depression Score by Sexual Orientation\")"
   ]
  },
  {
   "cell_type": "markdown",
   "id": "0292204f",
   "metadata": {},
   "source": [
    "From the boxplot, we can observe that the LGBTQ group have higher depression score(higher median, 25 percentile, 75 percentile) compared to Stright group\n",
    "We will use independent t test again to find out the statistical difference."
   ]
  },
  {
   "cell_type": "code",
   "execution_count": 60,
   "id": "5f73a5d1",
   "metadata": {},
   "outputs": [
    {
     "data": {
      "text/plain": [
       "(11.813262115066372, 1.9747205199376266e-32)"
      ]
     },
     "execution_count": 60,
     "metadata": {},
     "output_type": "execute_result"
    }
   ],
   "source": [
    "t, p, dof = sm.stats.ttest_ind(LGBTQ_score, non_LGBTQ_score, alternative='larger')\n",
    "t, p"
   ]
  },
  {
   "cell_type": "markdown",
   "id": "bb1dbd27",
   "metadata": {},
   "source": [
    "The p-value we got is very small, thus suggesting that the difference is statistically significant. The LGBTQ group does appear to have a higher mean depression score than straight group"
   ]
  },
  {
   "cell_type": "markdown",
   "id": "44fca4bb",
   "metadata": {},
   "source": [
    "### Relationship between BMI (body weight) and Depression Score"
   ]
  },
  {
   "cell_type": "markdown",
   "id": "684414b5",
   "metadata": {},
   "source": [
    "In the EDA section, we explored the relationship between BMI and mental health score. We hypothesized that underweight and overweight people are more likely (i.e. has higher depression score than) people with normal bodyweight."
   ]
  },
  {
   "cell_type": "code",
   "execution_count": 61,
   "id": "1057c925",
   "metadata": {},
   "outputs": [],
   "source": [
    "underweight_scores = subset_df[subset_df['bmi'] == 1]['score']\n",
    "normal_scores = subset_df[(subset_df['bmi'] == 2)]['score']\n",
    "overweight_scores = subset_df[(subset_df['bmi'] == 4)| (subset_df['bmi'] == 3)]['score']"
   ]
  },
  {
   "cell_type": "code",
   "execution_count": 62,
   "id": "fc720bd8",
   "metadata": {},
   "outputs": [
    {
     "data": {
      "text/plain": [
       "Text(0.5, 1.0, 'Depression Score by Bodyweight')"
      ]
     },
     "execution_count": 62,
     "metadata": {},
     "output_type": "execute_result"
    },
    {
     "data": {
      "image/png": "[encoded data removed]",
      "text/plain": [
       "<Figure size 432x288 with 1 Axes>"
      ]
     },
     "metadata": {
      "needs_background": "light"
     },
     "output_type": "display_data"
    }
   ],
   "source": [
    "sns.boxplot(x='bmi', y='score', data=subset_df)\n",
    "ax = plt.gca()\n",
    "ax.set_xticklabels(['Underweight', 'Normal Weight', 'Obese', 'Overweight'])\n",
    "ax.set_xlabel('')\n",
    "plt.title(\"Depression Score by Bodyweight\")"
   ]
  },
  {
   "cell_type": "markdown",
   "id": "39767044",
   "metadata": {},
   "source": [
    "From the boxplots, we can point out that samples that are overweight have higher depression score(median and 75 percentile) while underweight have a higher 25 percentile compared to the rest of the boxplots. Thus, it present evidence to our hypothesis. "
   ]
  },
  {
   "cell_type": "markdown",
   "id": "2c70dc11",
   "metadata": {},
   "source": [
    "### Relationship between Income and Depression Score"
   ]
  },
  {
   "cell_type": "code",
   "execution_count": 63,
   "id": "817bc5db",
   "metadata": {},
   "outputs": [
    {
     "data": {
      "text/html": [
       "<div>\n",
       "<style scoped>\n",
       "    .dataframe tbody tr th:only-of-type {\n",
       "        vertical-align: middle;\n",
       "    }\n",
       "\n",
       "    .dataframe tbody tr th {\n",
       "        vertical-align: top;\n",
       "    }\n",
       "\n",
       "    .dataframe thead th {\n",
       "        text-align: right;\n",
       "    }\n",
       "</style>\n",
       "<table border=\"1\" class=\"dataframe\">\n",
       "  <thead>\n",
       "    <tr style=\"text-align: right;\">\n",
       "      <th></th>\n",
       "      <th>income</th>\n",
       "      <th>score</th>\n",
       "    </tr>\n",
       "  </thead>\n",
       "  <tbody>\n",
       "    <tr>\n",
       "      <th>income</th>\n",
       "      <td>1.000000</td>\n",
       "      <td>-0.024318</td>\n",
       "    </tr>\n",
       "    <tr>\n",
       "      <th>score</th>\n",
       "      <td>-0.024318</td>\n",
       "      <td>1.000000</td>\n",
       "    </tr>\n",
       "  </tbody>\n",
       "</table>\n",
       "</div>"
      ],
      "text/plain": [
       "          income     score\n",
       "income  1.000000 -0.024318\n",
       "score  -0.024318  1.000000"
      ]
     },
     "execution_count": 63,
     "metadata": {},
     "output_type": "execute_result"
    }
   ],
   "source": [
    "income_score = subset_df[['income', 'score']].copy()\n",
    "income_score.corr()"
   ]
  },
  {
   "cell_type": "code",
   "execution_count": 64,
   "id": "b26aff1f",
   "metadata": {},
   "outputs": [
    {
     "data": {
      "text/plain": [
       "<seaborn.axisgrid.FacetGrid at 0x2379adea0a0>"
      ]
     },
     "execution_count": 64,
     "metadata": {},
     "output_type": "execute_result"
    },
    {
     "data": {
      "image/png": "[encoded data removed]",
      "text/plain": [
       "<Figure size 360x360 with 1 Axes>"
      ]
     },
     "metadata": {
      "needs_background": "light"
     },
     "output_type": "display_data"
    }
   ],
   "source": [
    "sns.catplot(x=\"income\", y=\"score\", kind=\"box\", data=subset_df)"
   ]
  },
  {
   "cell_type": "markdown",
   "id": "0e583457",
   "metadata": {},
   "source": [
    "Our expections is that higher income will yield lower depression score. To test this, we wil use one way ANOVA to test for mean difference. **(One-way analysis of variance is a technique that can be used to compare whether two sample's means are significantly different or not.)**"
   ]
  },
  {
   "cell_type": "code",
   "execution_count": 65,
   "id": "3d287e8b",
   "metadata": {},
   "outputs": [
    {
     "data": {
      "text/plain": [
       "F_onewayResult(statistic=5.035287571820111, pvalue=0.0004696961648013117)"
      ]
     },
     "execution_count": 65,
     "metadata": {},
     "output_type": "execute_result"
    }
   ],
   "source": [
    "# aggregate score by income groups, then conduct one way ANOVA\n",
    "income_groups = subset_df.groupby('income').agg(list)['score']\n",
    "\n",
    "scipy.stats.f_oneway(*income_groups)"
   ]
  },
  {
   "cell_type": "markdown",
   "id": "b3a15643",
   "metadata": {},
   "source": [
    "We have a very small p-value, we have strong evidence that depression scores is not the same across all income groups. To further confirm this claim, we will conduct a pairwise Tukey's HSD test. **(Tukey's HSD test, is a single-step multiple comparison procedure and statistical test. It can be used to find means that are significantly different from each other.)**"
   ]
  },
  {
   "cell_type": "code",
   "execution_count": 66,
   "id": "db131c9b",
   "metadata": {},
   "outputs": [
    {
     "name": "stdout",
     "output_type": "stream",
     "text": [
      "Multiple Comparison of Means - Tukey HSD, FWER=0.05 \n",
      "====================================================\n",
      "group1 group2 meandiff p-adj   lower   upper  reject\n",
      "----------------------------------------------------\n",
      "     1      2   -0.266 0.1907 -0.6003  0.0682  False\n",
      "     1      3  -0.1709 0.5206 -0.4689  0.1271  False\n",
      "     1      4  -0.3779 0.0152 -0.7077 -0.0482   True\n",
      "     1      5  -0.3956 0.0003 -0.6559 -0.1354   True\n",
      "     2      3   0.0952 0.9492 -0.2596  0.4499  False\n",
      "     2      4  -0.1119 0.9308 -0.4937  0.2699  False\n",
      "     2      5  -0.1296 0.8106 -0.4533  0.1941  False\n",
      "     3      4  -0.2071 0.4899 -0.5576  0.1435  False\n",
      "     3      5  -0.2248  0.202 -0.5109  0.0614  False\n",
      "     4      5  -0.0177 0.9999 -0.3368  0.3014  False\n",
      "----------------------------------------------------\n"
     ]
    }
   ],
   "source": [
    "print(pairwise_tukeyhsd(subset_df['score'], subset_df['income']))"
   ]
  },
  {
   "cell_type": "markdown",
   "id": "89b8fbae",
   "metadata": {},
   "source": [
    "It appears that the mean differences for (group 1 and 4) and (group 1 and 5) are statistically significant, while the others have quite similar mean depression scores."
   ]
  },
  {
   "cell_type": "markdown",
   "id": "780af2d5",
   "metadata": {},
   "source": [
    "### Relationship between Household and Depression Score"
   ]
  },
  {
   "cell_type": "markdown",
   "id": "5c58a9dc",
   "metadata": {},
   "source": [
    "Household location is another potential predictor of mental health. Here, we expect that people who live in large urban areas are more likely to have mental health issues than people who live in rural areas due to their fast-paced lifestyles. We have 5 classes of household location. Here, we cast them into a binary variable of urban or rural."
   ]
  },
  {
   "cell_type": "code",
   "execution_count": 67,
   "id": "2885167c",
   "metadata": {},
   "outputs": [],
   "source": [
    "subset_df['urban'] = subset_df['urbanrural'].apply(lambda x : x != 4)\n",
    "rural_scores = subset_df[subset_df['urbanrural'] == 4]['score']\n",
    "urban_scores = subset_df[subset_df['urbanrural'] != 4]['score']"
   ]
  },
  {
   "cell_type": "code",
   "execution_count": 68,
   "id": "7dafc7e6",
   "metadata": {},
   "outputs": [
    {
     "data": {
      "image/png": "[encoded data removed]",
      "text/plain": [
       "<Figure size 432x288 with 2 Axes>"
      ]
     },
     "metadata": {
      "needs_background": "light"
     },
     "output_type": "display_data"
    }
   ],
   "source": [
    "# display mental health score between urban and rural populations\n",
    "f, a = plt.subplots(1,2)\n",
    "a = a.flatten()\n",
    "a[0].boxplot(rural_scores)\n",
    "a[0].set_xticklabels(\"\")\n",
    "a[0].set_title('Rural Population')\n",
    "a[0].set_ylabel('Depression Score')\n",
    "a[1].boxplot(urban_scores)\n",
    "a[1].set_xticklabels(\"\")\n",
    "a[1].set_ylabel('Depression Score')\n",
    "a[1].set_title('Urban Population')\n",
    "plt.tight_layout()"
   ]
  },
  {
   "cell_type": "markdown",
   "id": "216124bb",
   "metadata": {},
   "source": [
    "The boxplots above seems to contradicts our assumptions, rural groups seems to have higher depression score."
   ]
  },
  {
   "cell_type": "markdown",
   "id": "0ec8b925",
   "metadata": {},
   "source": [
    "# Machine Learning"
   ]
  },
  {
   "cell_type": "code",
   "execution_count": 69,
   "id": "9141d987",
   "metadata": {},
   "outputs": [
    {
     "data": {
      "text/plain": [
       "count    29046.000000\n",
       "mean         6.260070\n",
       "std          6.054101\n",
       "min          0.000000\n",
       "25%          0.000000\n",
       "50%          4.000000\n",
       "75%          9.000000\n",
       "max         24.000000\n",
       "Name: score, dtype: float64"
      ]
     },
     "execution_count": 69,
     "metadata": {},
     "output_type": "execute_result"
    }
   ],
   "source": [
    "subset_df['score'].describe()"
   ]
  },
  {
   "cell_type": "code",
   "execution_count": 70,
   "id": "1c7bda47",
   "metadata": {},
   "outputs": [
    {
     "name": "stdout",
     "output_type": "stream",
     "text": [
      "0         0.0\n",
      "1         4.0\n",
      "2         0.0\n",
      "3         3.0\n",
      "4         2.0\n",
      "         ... \n",
      "31562    12.0\n",
      "31563     8.0\n",
      "31564     8.0\n",
      "31565    12.0\n",
      "31566    14.0\n",
      "Name: score, Length: 29046, dtype: float64\n"
     ]
    }
   ],
   "source": [
    "print(subset_df['score'])"
   ]
  },
  {
   "cell_type": "code",
   "execution_count": 71,
   "id": "abbda6fa",
   "metadata": {},
   "outputs": [
    {
     "data": {
      "text/plain": [
       "urbanrural    False\n",
       "age           False\n",
       "sex           False\n",
       "edu           False\n",
       "anx_ever      False\n",
       "dep_ever      False\n",
       "inscov        False\n",
       "anx_freq      False\n",
       "anx_level     False\n",
       "dep_freq      False\n",
       "dep_level     False\n",
       "orient        False\n",
       "marital       False\n",
       "income        False\n",
       "bmi           False\n",
       "score         False\n",
       "norm_score    False\n",
       "mh_ever       False\n",
       "lgbt          False\n",
       "urban         False\n",
       "dtype: bool"
      ]
     },
     "execution_count": 71,
     "metadata": {},
     "output_type": "execute_result"
    }
   ],
   "source": [
    "subset_df.isna().any()"
   ]
  },
  {
   "cell_type": "markdown",
   "id": "27ce9da8",
   "metadata": {},
   "source": [
    "### Encoding Features"
   ]
  },
  {
   "cell_type": "code",
   "execution_count": 72,
   "id": "7827146d",
   "metadata": {},
   "outputs": [],
   "source": [
    "cols = ['age', 'income', 'inscov', 'urban', 'sex', 'edu','lgbt','bmi','marital'] # features\n",
    "cat_cols = ['income', 'inscov', 'urban', 'sex', 'edu','lgbt','bmi','marital'] # categorical features\n",
    "onehot = sklearn.preprocessing.OneHotEncoder()"
   ]
  },
  {
   "cell_type": "markdown",
   "id": "7d39ef3c",
   "metadata": {},
   "source": [
    "##### Setting up dataframe for Regression Task"
   ]
  },
  {
   "cell_type": "code",
   "execution_count": 73,
   "id": "2790d60c",
   "metadata": {},
   "outputs": [
    {
     "data": {
      "text/html": [
       "<div>\n",
       "<style scoped>\n",
       "    .dataframe tbody tr th:only-of-type {\n",
       "        vertical-align: middle;\n",
       "    }\n",
       "\n",
       "    .dataframe tbody tr th {\n",
       "        vertical-align: top;\n",
       "    }\n",
       "\n",
       "    .dataframe thead th {\n",
       "        text-align: right;\n",
       "    }\n",
       "</style>\n",
       "<table border=\"1\" class=\"dataframe\">\n",
       "  <thead>\n",
       "    <tr style=\"text-align: right;\">\n",
       "      <th></th>\n",
       "      <th>0</th>\n",
       "      <th>1</th>\n",
       "      <th>2</th>\n",
       "      <th>3</th>\n",
       "      <th>4</th>\n",
       "      <th>5</th>\n",
       "      <th>6</th>\n",
       "      <th>7</th>\n",
       "      <th>8</th>\n",
       "      <th>9</th>\n",
       "      <th>...</th>\n",
       "      <th>13</th>\n",
       "      <th>14</th>\n",
       "      <th>15</th>\n",
       "      <th>16</th>\n",
       "      <th>17</th>\n",
       "      <th>18</th>\n",
       "      <th>19</th>\n",
       "      <th>20</th>\n",
       "      <th>21</th>\n",
       "      <th>22</th>\n",
       "    </tr>\n",
       "  </thead>\n",
       "  <tbody>\n",
       "    <tr>\n",
       "      <th>0</th>\n",
       "      <td>0.0</td>\n",
       "      <td>0.0</td>\n",
       "      <td>0.0</td>\n",
       "      <td>0.0</td>\n",
       "      <td>1.0</td>\n",
       "      <td>0.0</td>\n",
       "      <td>1.0</td>\n",
       "      <td>0.0</td>\n",
       "      <td>1.0</td>\n",
       "      <td>1.0</td>\n",
       "      <td>...</td>\n",
       "      <td>0.0</td>\n",
       "      <td>1.0</td>\n",
       "      <td>0.0</td>\n",
       "      <td>0.0</td>\n",
       "      <td>1.0</td>\n",
       "      <td>0.0</td>\n",
       "      <td>0.0</td>\n",
       "      <td>1.0</td>\n",
       "      <td>0.0</td>\n",
       "      <td>0.0</td>\n",
       "    </tr>\n",
       "    <tr>\n",
       "      <th>1</th>\n",
       "      <td>0.0</td>\n",
       "      <td>0.0</td>\n",
       "      <td>0.0</td>\n",
       "      <td>1.0</td>\n",
       "      <td>0.0</td>\n",
       "      <td>0.0</td>\n",
       "      <td>1.0</td>\n",
       "      <td>0.0</td>\n",
       "      <td>1.0</td>\n",
       "      <td>1.0</td>\n",
       "      <td>...</td>\n",
       "      <td>0.0</td>\n",
       "      <td>1.0</td>\n",
       "      <td>0.0</td>\n",
       "      <td>0.0</td>\n",
       "      <td>0.0</td>\n",
       "      <td>0.0</td>\n",
       "      <td>1.0</td>\n",
       "      <td>0.0</td>\n",
       "      <td>0.0</td>\n",
       "      <td>1.0</td>\n",
       "    </tr>\n",
       "    <tr>\n",
       "      <th>2</th>\n",
       "      <td>0.0</td>\n",
       "      <td>0.0</td>\n",
       "      <td>0.0</td>\n",
       "      <td>1.0</td>\n",
       "      <td>0.0</td>\n",
       "      <td>0.0</td>\n",
       "      <td>1.0</td>\n",
       "      <td>0.0</td>\n",
       "      <td>1.0</td>\n",
       "      <td>1.0</td>\n",
       "      <td>...</td>\n",
       "      <td>0.0</td>\n",
       "      <td>1.0</td>\n",
       "      <td>0.0</td>\n",
       "      <td>0.0</td>\n",
       "      <td>1.0</td>\n",
       "      <td>0.0</td>\n",
       "      <td>0.0</td>\n",
       "      <td>0.0</td>\n",
       "      <td>0.0</td>\n",
       "      <td>1.0</td>\n",
       "    </tr>\n",
       "    <tr>\n",
       "      <th>3</th>\n",
       "      <td>0.0</td>\n",
       "      <td>0.0</td>\n",
       "      <td>1.0</td>\n",
       "      <td>0.0</td>\n",
       "      <td>0.0</td>\n",
       "      <td>0.0</td>\n",
       "      <td>1.0</td>\n",
       "      <td>0.0</td>\n",
       "      <td>1.0</td>\n",
       "      <td>1.0</td>\n",
       "      <td>...</td>\n",
       "      <td>0.0</td>\n",
       "      <td>1.0</td>\n",
       "      <td>0.0</td>\n",
       "      <td>0.0</td>\n",
       "      <td>1.0</td>\n",
       "      <td>0.0</td>\n",
       "      <td>0.0</td>\n",
       "      <td>0.0</td>\n",
       "      <td>1.0</td>\n",
       "      <td>0.0</td>\n",
       "    </tr>\n",
       "    <tr>\n",
       "      <th>4</th>\n",
       "      <td>1.0</td>\n",
       "      <td>0.0</td>\n",
       "      <td>0.0</td>\n",
       "      <td>0.0</td>\n",
       "      <td>0.0</td>\n",
       "      <td>0.0</td>\n",
       "      <td>1.0</td>\n",
       "      <td>0.0</td>\n",
       "      <td>1.0</td>\n",
       "      <td>0.0</td>\n",
       "      <td>...</td>\n",
       "      <td>0.0</td>\n",
       "      <td>1.0</td>\n",
       "      <td>0.0</td>\n",
       "      <td>0.0</td>\n",
       "      <td>0.0</td>\n",
       "      <td>1.0</td>\n",
       "      <td>0.0</td>\n",
       "      <td>0.0</td>\n",
       "      <td>0.0</td>\n",
       "      <td>1.0</td>\n",
       "    </tr>\n",
       "  </tbody>\n",
       "</table>\n",
       "<p>5 rows × 23 columns</p>\n",
       "</div>"
      ],
      "text/plain": [
       "    0    1    2    3    4    5    6    7    8    9   ...   13   14   15   16  \\\n",
       "0  0.0  0.0  0.0  0.0  1.0  0.0  1.0  0.0  1.0  1.0  ...  0.0  1.0  0.0  0.0   \n",
       "1  0.0  0.0  0.0  1.0  0.0  0.0  1.0  0.0  1.0  1.0  ...  0.0  1.0  0.0  0.0   \n",
       "2  0.0  0.0  0.0  1.0  0.0  0.0  1.0  0.0  1.0  1.0  ...  0.0  1.0  0.0  0.0   \n",
       "3  0.0  0.0  1.0  0.0  0.0  0.0  1.0  0.0  1.0  1.0  ...  0.0  1.0  0.0  0.0   \n",
       "4  1.0  0.0  0.0  0.0  0.0  0.0  1.0  0.0  1.0  0.0  ...  0.0  1.0  0.0  0.0   \n",
       "\n",
       "    17   18   19   20   21   22  \n",
       "0  1.0  0.0  0.0  1.0  0.0  0.0  \n",
       "1  0.0  0.0  1.0  0.0  0.0  1.0  \n",
       "2  1.0  0.0  0.0  0.0  0.0  1.0  \n",
       "3  1.0  0.0  0.0  0.0  1.0  0.0  \n",
       "4  0.0  1.0  0.0  0.0  0.0  1.0  \n",
       "\n",
       "[5 rows x 23 columns]"
      ]
     },
     "execution_count": 73,
     "metadata": {},
     "output_type": "execute_result"
    }
   ],
   "source": [
    "reg_df = subset_df[cols].copy() # copy all features into a new df so we do not mess up our dataset\n",
    "E_reg_df = pd.DataFrame.sparse.from_spmatrix(onehot.fit_transform(reg_df[cat_cols])) # use one hot encoding for all categorical columns\n",
    "E_reg_df.head()"
   ]
  },
  {
   "cell_type": "markdown",
   "id": "628b9089",
   "metadata": {},
   "source": [
    "##### Setting up dataframe for Classification Task"
   ]
  },
  {
   "cell_type": "code",
   "execution_count": 74,
   "id": "2e5f90ab",
   "metadata": {},
   "outputs": [],
   "source": [
    "clf_df = subset_df[cols].copy() # copy all features into a new df so we do not mess up our dataset\n",
    "# copy first target variable. is the depression score > 0?\n",
    "clf_df['mh_ever'] = subset_df['mh_ever'].copy() \n",
    "clf_df['score'] = subset_df['score'].copy()\n",
    "# construct second target label. Is the depression score in the top 50%?\n",
    "median_score = subset_df['score'].median()\n",
    "clf_df['top50'] = clf_df['score'].apply(lambda x : x > median_score)\n"
   ]
  },
  {
   "cell_type": "code",
   "execution_count": 75,
   "id": "1d317f60",
   "metadata": {},
   "outputs": [
    {
     "data": {
      "text/html": [
       "<div>\n",
       "<style scoped>\n",
       "    .dataframe tbody tr th:only-of-type {\n",
       "        vertical-align: middle;\n",
       "    }\n",
       "\n",
       "    .dataframe tbody tr th {\n",
       "        vertical-align: top;\n",
       "    }\n",
       "\n",
       "    .dataframe thead th {\n",
       "        text-align: right;\n",
       "    }\n",
       "</style>\n",
       "<table border=\"1\" class=\"dataframe\">\n",
       "  <thead>\n",
       "    <tr style=\"text-align: right;\">\n",
       "      <th></th>\n",
       "      <th>0</th>\n",
       "      <th>1</th>\n",
       "      <th>2</th>\n",
       "      <th>3</th>\n",
       "      <th>4</th>\n",
       "      <th>5</th>\n",
       "      <th>6</th>\n",
       "      <th>7</th>\n",
       "      <th>8</th>\n",
       "      <th>9</th>\n",
       "      <th>...</th>\n",
       "      <th>13</th>\n",
       "      <th>14</th>\n",
       "      <th>15</th>\n",
       "      <th>16</th>\n",
       "      <th>17</th>\n",
       "      <th>18</th>\n",
       "      <th>19</th>\n",
       "      <th>20</th>\n",
       "      <th>21</th>\n",
       "      <th>22</th>\n",
       "    </tr>\n",
       "  </thead>\n",
       "  <tbody>\n",
       "    <tr>\n",
       "      <th>0</th>\n",
       "      <td>0.0</td>\n",
       "      <td>0.0</td>\n",
       "      <td>0.0</td>\n",
       "      <td>0.0</td>\n",
       "      <td>1.0</td>\n",
       "      <td>0.0</td>\n",
       "      <td>1.0</td>\n",
       "      <td>0.0</td>\n",
       "      <td>1.0</td>\n",
       "      <td>1.0</td>\n",
       "      <td>...</td>\n",
       "      <td>0.0</td>\n",
       "      <td>1.0</td>\n",
       "      <td>0.0</td>\n",
       "      <td>0.0</td>\n",
       "      <td>1.0</td>\n",
       "      <td>0.0</td>\n",
       "      <td>0.0</td>\n",
       "      <td>1.0</td>\n",
       "      <td>0.0</td>\n",
       "      <td>0.0</td>\n",
       "    </tr>\n",
       "    <tr>\n",
       "      <th>1</th>\n",
       "      <td>0.0</td>\n",
       "      <td>0.0</td>\n",
       "      <td>0.0</td>\n",
       "      <td>1.0</td>\n",
       "      <td>0.0</td>\n",
       "      <td>0.0</td>\n",
       "      <td>1.0</td>\n",
       "      <td>0.0</td>\n",
       "      <td>1.0</td>\n",
       "      <td>1.0</td>\n",
       "      <td>...</td>\n",
       "      <td>0.0</td>\n",
       "      <td>1.0</td>\n",
       "      <td>0.0</td>\n",
       "      <td>0.0</td>\n",
       "      <td>0.0</td>\n",
       "      <td>0.0</td>\n",
       "      <td>1.0</td>\n",
       "      <td>0.0</td>\n",
       "      <td>0.0</td>\n",
       "      <td>1.0</td>\n",
       "    </tr>\n",
       "    <tr>\n",
       "      <th>2</th>\n",
       "      <td>0.0</td>\n",
       "      <td>0.0</td>\n",
       "      <td>0.0</td>\n",
       "      <td>1.0</td>\n",
       "      <td>0.0</td>\n",
       "      <td>0.0</td>\n",
       "      <td>1.0</td>\n",
       "      <td>0.0</td>\n",
       "      <td>1.0</td>\n",
       "      <td>1.0</td>\n",
       "      <td>...</td>\n",
       "      <td>0.0</td>\n",
       "      <td>1.0</td>\n",
       "      <td>0.0</td>\n",
       "      <td>0.0</td>\n",
       "      <td>1.0</td>\n",
       "      <td>0.0</td>\n",
       "      <td>0.0</td>\n",
       "      <td>0.0</td>\n",
       "      <td>0.0</td>\n",
       "      <td>1.0</td>\n",
       "    </tr>\n",
       "    <tr>\n",
       "      <th>3</th>\n",
       "      <td>0.0</td>\n",
       "      <td>0.0</td>\n",
       "      <td>1.0</td>\n",
       "      <td>0.0</td>\n",
       "      <td>0.0</td>\n",
       "      <td>0.0</td>\n",
       "      <td>1.0</td>\n",
       "      <td>0.0</td>\n",
       "      <td>1.0</td>\n",
       "      <td>1.0</td>\n",
       "      <td>...</td>\n",
       "      <td>0.0</td>\n",
       "      <td>1.0</td>\n",
       "      <td>0.0</td>\n",
       "      <td>0.0</td>\n",
       "      <td>1.0</td>\n",
       "      <td>0.0</td>\n",
       "      <td>0.0</td>\n",
       "      <td>0.0</td>\n",
       "      <td>1.0</td>\n",
       "      <td>0.0</td>\n",
       "    </tr>\n",
       "    <tr>\n",
       "      <th>4</th>\n",
       "      <td>1.0</td>\n",
       "      <td>0.0</td>\n",
       "      <td>0.0</td>\n",
       "      <td>0.0</td>\n",
       "      <td>0.0</td>\n",
       "      <td>0.0</td>\n",
       "      <td>1.0</td>\n",
       "      <td>0.0</td>\n",
       "      <td>1.0</td>\n",
       "      <td>0.0</td>\n",
       "      <td>...</td>\n",
       "      <td>0.0</td>\n",
       "      <td>1.0</td>\n",
       "      <td>0.0</td>\n",
       "      <td>0.0</td>\n",
       "      <td>0.0</td>\n",
       "      <td>1.0</td>\n",
       "      <td>0.0</td>\n",
       "      <td>0.0</td>\n",
       "      <td>0.0</td>\n",
       "      <td>1.0</td>\n",
       "    </tr>\n",
       "  </tbody>\n",
       "</table>\n",
       "<p>5 rows × 23 columns</p>\n",
       "</div>"
      ],
      "text/plain": [
       "    0    1    2    3    4    5    6    7    8    9   ...   13   14   15   16  \\\n",
       "0  0.0  0.0  0.0  0.0  1.0  0.0  1.0  0.0  1.0  1.0  ...  0.0  1.0  0.0  0.0   \n",
       "1  0.0  0.0  0.0  1.0  0.0  0.0  1.0  0.0  1.0  1.0  ...  0.0  1.0  0.0  0.0   \n",
       "2  0.0  0.0  0.0  1.0  0.0  0.0  1.0  0.0  1.0  1.0  ...  0.0  1.0  0.0  0.0   \n",
       "3  0.0  0.0  1.0  0.0  0.0  0.0  1.0  0.0  1.0  1.0  ...  0.0  1.0  0.0  0.0   \n",
       "4  1.0  0.0  0.0  0.0  0.0  0.0  1.0  0.0  1.0  0.0  ...  0.0  1.0  0.0  0.0   \n",
       "\n",
       "    17   18   19   20   21   22  \n",
       "0  1.0  0.0  0.0  1.0  0.0  0.0  \n",
       "1  0.0  0.0  1.0  0.0  0.0  1.0  \n",
       "2  1.0  0.0  0.0  0.0  0.0  1.0  \n",
       "3  1.0  0.0  0.0  0.0  1.0  0.0  \n",
       "4  0.0  1.0  0.0  0.0  0.0  1.0  \n",
       "\n",
       "[5 rows x 23 columns]"
      ]
     },
     "execution_count": 75,
     "metadata": {},
     "output_type": "execute_result"
    }
   ],
   "source": [
    "cat_df = pd.DataFrame.sparse.from_spmatrix(onehot.fit_transform(clf_df[cat_cols])) # use one hot encoding for all categorical columns\n",
    "cat_df.head()"
   ]
  },
  {
   "cell_type": "markdown",
   "id": "48b4e5a9",
   "metadata": {},
   "source": [
    "The onehot encoding converted our 8 categorical columns into 23. Since we only have one numerical feature (age), we will merge that with all the categorical ones to form our feature matrix. T"
   ]
  },
  {
   "cell_type": "markdown",
   "id": "1baea055",
   "metadata": {},
   "source": [
    "## Regression\n",
    "In this section, we frame a regression task. We aim to directly predict depression score, which is a continuous variable. "
   ]
  },
  {
   "cell_type": "code",
   "execution_count": 76,
   "id": "8b4d4d63",
   "metadata": {},
   "outputs": [],
   "source": [
    "E_reg_df['age'] = reg_df['age'].copy()\n",
    "E_reg_df['score'] = subset_df['score'].copy() #Use subset_df because reg_df does not have 'score' column"
   ]
  },
  {
   "cell_type": "code",
   "execution_count": 77,
   "id": "6deb5a14",
   "metadata": {},
   "outputs": [
    {
     "data": {
      "text/plain": [
       "0        False\n",
       "1        False\n",
       "2        False\n",
       "3        False\n",
       "4        False\n",
       "5        False\n",
       "6        False\n",
       "7        False\n",
       "8        False\n",
       "9        False\n",
       "10       False\n",
       "11       False\n",
       "12       False\n",
       "13       False\n",
       "14       False\n",
       "15       False\n",
       "16       False\n",
       "17       False\n",
       "18       False\n",
       "19       False\n",
       "20       False\n",
       "21       False\n",
       "22       False\n",
       "age       True\n",
       "score     True\n",
       "dtype: bool"
      ]
     },
     "execution_count": 77,
     "metadata": {},
     "output_type": "execute_result"
    }
   ],
   "source": [
    "E_reg_df.isna().any()"
   ]
  },
  {
   "cell_type": "markdown",
   "id": "96e94422",
   "metadata": {},
   "source": [
    "### Splitting Data and Target\n",
    "* X = features\n",
    "* Y = target"
   ]
  },
  {
   "cell_type": "code",
   "execution_count": 78,
   "id": "12f24231",
   "metadata": {},
   "outputs": [],
   "source": [
    "E_reg_df2= E_reg_df.dropna() #Remove Row with NA values\n",
    "X = E_reg_df2.drop(columns='score',axis=1)\n",
    "\n",
    "Y = E_reg_df2['score']\n",
    "\n"
   ]
  },
  {
   "cell_type": "code",
   "execution_count": 79,
   "id": "01e70a90",
   "metadata": {},
   "outputs": [
    {
     "name": "stdout",
     "output_type": "stream",
     "text": [
      "         0    1    2    3    4    5    6    7    8    9  ...   14   15   16  \\\n",
      "0      0.0  0.0  0.0  0.0  1.0  0.0  1.0  0.0  1.0  1.0  ...  1.0  0.0  0.0   \n",
      "1      0.0  0.0  0.0  1.0  0.0  0.0  1.0  0.0  1.0  1.0  ...  1.0  0.0  0.0   \n",
      "2      0.0  0.0  0.0  1.0  0.0  0.0  1.0  0.0  1.0  1.0  ...  1.0  0.0  0.0   \n",
      "3      0.0  0.0  1.0  0.0  0.0  0.0  1.0  0.0  1.0  1.0  ...  1.0  0.0  0.0   \n",
      "4      1.0  0.0  0.0  0.0  0.0  0.0  1.0  0.0  1.0  0.0  ...  1.0  0.0  0.0   \n",
      "...    ...  ...  ...  ...  ...  ...  ...  ...  ...  ...  ...  ...  ...  ...   \n",
      "29041  0.0  0.0  1.0  0.0  0.0  0.0  1.0  1.0  0.0  0.0  ...  1.0  0.0  0.0   \n",
      "29042  0.0  0.0  0.0  1.0  0.0  0.0  1.0  1.0  0.0  1.0  ...  1.0  0.0  0.0   \n",
      "29043  0.0  0.0  1.0  0.0  0.0  0.0  1.0  1.0  0.0  0.0  ...  1.0  0.0  0.0   \n",
      "29044  1.0  0.0  0.0  0.0  0.0  0.0  1.0  1.0  0.0  0.0  ...  1.0  0.0  0.0   \n",
      "29045  0.0  0.0  1.0  0.0  0.0  0.0  1.0  1.0  0.0  0.0  ...  1.0  0.0  0.0   \n",
      "\n",
      "        17   18   19   20   21   22   age  \n",
      "0      1.0  0.0  0.0  1.0  0.0  0.0  85.0  \n",
      "1      0.0  0.0  1.0  0.0  0.0  1.0  39.0  \n",
      "2      1.0  0.0  0.0  0.0  0.0  1.0  42.0  \n",
      "3      1.0  0.0  0.0  0.0  1.0  0.0  32.0  \n",
      "4      0.0  1.0  0.0  0.0  0.0  1.0  85.0  \n",
      "...    ...  ...  ...  ...  ...  ...   ...  \n",
      "29041  0.0  0.0  1.0  1.0  0.0  0.0  32.0  \n",
      "29042  0.0  1.0  0.0  1.0  0.0  0.0  31.0  \n",
      "29043  0.0  0.0  1.0  1.0  0.0  0.0  28.0  \n",
      "29044  0.0  0.0  1.0  0.0  0.0  1.0  30.0  \n",
      "29045  0.0  0.0  1.0  1.0  0.0  0.0  47.0  \n",
      "\n",
      "[26693 rows x 24 columns]\n"
     ]
    }
   ],
   "source": [
    "print(X)"
   ]
  },
  {
   "cell_type": "code",
   "execution_count": 80,
   "id": "ac12ed76",
   "metadata": {},
   "outputs": [
    {
     "name": "stdout",
     "output_type": "stream",
     "text": [
      "0         0.0\n",
      "1         4.0\n",
      "2         0.0\n",
      "3         3.0\n",
      "4         2.0\n",
      "         ... \n",
      "29041     0.0\n",
      "29042     0.0\n",
      "29043     0.0\n",
      "29044    24.0\n",
      "29045     2.0\n",
      "Name: score, Length: 26693, dtype: float64\n"
     ]
    }
   ],
   "source": [
    "print(Y)"
   ]
  },
  {
   "cell_type": "markdown",
   "id": "29f0225c",
   "metadata": {},
   "source": [
    "### Splitting Training and Test data"
   ]
  },
  {
   "cell_type": "code",
   "execution_count": 81,
   "id": "8a4c2469",
   "metadata": {},
   "outputs": [],
   "source": [
    "X_train, X_test, Y_train, Y_test = train_test_split(X, Y, test_size = 0.2, random_state=150)"
   ]
  },
  {
   "cell_type": "markdown",
   "id": "ab942621",
   "metadata": {},
   "source": [
    "### Model Training"
   ]
  },
  {
   "cell_type": "code",
   "execution_count": 82,
   "id": "76417a3f",
   "metadata": {},
   "outputs": [],
   "source": [
    "from xgboost import XGBRegressor\n",
    "regressor = XGBRegressor()"
   ]
  },
  {
   "cell_type": "code",
   "execution_count": 83,
   "id": "6d0b0fad",
   "metadata": {},
   "outputs": [
    {
     "data": {
      "text/html": [
       "<style>#sk-container-id-1 {color: black;background-color: white;}#sk-container-id-1 pre{padding: 0;}#sk-container-id-1 div.sk-toggleable {background-color: white;}#sk-container-id-1 label.sk-toggleable__label {cursor: pointer;display: block;width: 100%;margin-bottom: 0;padding: 0.3em;box-sizing: border-box;text-align: center;}#sk-container-id-1 label.sk-toggleable__label-arrow:before {content: \"▸\";float: left;margin-right: 0.25em;color: #696969;}#sk-container-id-1 label.sk-toggleable__label-arrow:hover:before {color: black;}#sk-container-id-1 div.sk-estimator:hover label.sk-toggleable__label-arrow:before {color: black;}#sk-container-id-1 div.sk-toggleable__content {max-height: 0;max-width: 0;overflow: hidden;text-align: left;background-color: #f0f8ff;}#sk-container-id-1 div.sk-toggleable__content pre {margin: 0.2em;color: black;border-radius: 0.25em;background-color: #f0f8ff;}#sk-container-id-1 input.sk-toggleable__control:checked~div.sk-toggleable__content {max-height: 200px;max-width: 100%;overflow: auto;}#sk-container-id-1 input.sk-toggleable__control:checked~label.sk-toggleable__label-arrow:before {content: \"▾\";}#sk-container-id-1 div.sk-estimator input.sk-toggleable__control:checked~label.sk-toggleable__label {background-color: #d4ebff;}#sk-container-id-1 div.sk-label input.sk-toggleable__control:checked~label.sk-toggleable__label {background-color: #d4ebff;}#sk-container-id-1 input.sk-hidden--visually {border: 0;clip: rect(1px 1px 1px 1px);clip: rect(1px, 1px, 1px, 1px);height: 1px;margin: -1px;overflow: hidden;padding: 0;position: absolute;width: 1px;}#sk-container-id-1 div.sk-estimator {font-family: monospace;background-color: #f0f8ff;border: 1px dotted black;border-radius: 0.25em;box-sizing: border-box;margin-bottom: 0.5em;}#sk-container-id-1 div.sk-estimator:hover {background-color: #d4ebff;}#sk-container-id-1 div.sk-parallel-item::after {content: \"\";width: 100%;border-bottom: 1px solid gray;flex-grow: 1;}#sk-container-id-1 div.sk-label:hover label.sk-toggleable__label {background-color: #d4ebff;}#sk-container-id-1 div.sk-serial::before {content: \"\";position: absolute;border-left: 1px solid gray;box-sizing: border-box;top: 0;bottom: 0;left: 50%;z-index: 0;}#sk-container-id-1 div.sk-serial {display: flex;flex-direction: column;align-items: center;background-color: white;padding-right: 0.2em;padding-left: 0.2em;position: relative;}#sk-container-id-1 div.sk-item {position: relative;z-index: 1;}#sk-container-id-1 div.sk-parallel {display: flex;align-items: stretch;justify-content: center;background-color: white;position: relative;}#sk-container-id-1 div.sk-item::before, #sk-container-id-1 div.sk-parallel-item::before {content: \"\";position: absolute;border-left: 1px solid gray;box-sizing: border-box;top: 0;bottom: 0;left: 50%;z-index: -1;}#sk-container-id-1 div.sk-parallel-item {display: flex;flex-direction: column;z-index: 1;position: relative;background-color: white;}#sk-container-id-1 div.sk-parallel-item:first-child::after {align-self: flex-end;width: 50%;}#sk-container-id-1 div.sk-parallel-item:last-child::after {align-self: flex-start;width: 50%;}#sk-container-id-1 div.sk-parallel-item:only-child::after {width: 0;}#sk-container-id-1 div.sk-dashed-wrapped {border: 1px dashed gray;margin: 0 0.4em 0.5em 0.4em;box-sizing: border-box;padding-bottom: 0.4em;background-color: white;}#sk-container-id-1 div.sk-label label {font-family: monospace;font-weight: bold;display: inline-block;line-height: 1.2em;}#sk-container-id-1 div.sk-label-container {text-align: center;}#sk-container-id-1 div.sk-container {/* jupyter's `normalize.less` sets `[hidden] { display: none; }` but bootstrap.min.css set `[hidden] { display: none !important; }` so we also need the `!important` here to be able to override the default hidden behavior on the sphinx rendered scikit-learn.org. See: https://github.com/scikit-learn/scikit-learn/issues/21755 */display: inline-block !important;position: relative;}#sk-container-id-1 div.sk-text-repr-fallback {display: none;}</style><div id=\"sk-container-id-1\" class=\"sk-top-container\"><div class=\"sk-text-repr-fallback\"><pre>XGBRegressor(base_score=0.5, booster=&#x27;gbtree&#x27;, callbacks=None,\n",
       "             colsample_bylevel=1, colsample_bynode=1, colsample_bytree=1,\n",
       "             early_stopping_rounds=None, enable_categorical=False,\n",
       "             eval_metric=None, gamma=0, gpu_id=-1, grow_policy=&#x27;depthwise&#x27;,\n",
       "             importance_type=None, interaction_constraints=&#x27;&#x27;,\n",
       "             learning_rate=0.300000012, max_bin=256, max_cat_to_onehot=4,\n",
       "             max_delta_step=0, max_depth=6, max_leaves=0, min_child_weight=1,\n",
       "             missing=nan, monotone_constraints=&#x27;()&#x27;, n_estimators=100, n_jobs=0,\n",
       "             num_parallel_tree=1, predictor=&#x27;auto&#x27;, random_state=0, reg_alpha=0,\n",
       "             reg_lambda=1, ...)</pre><b>In a Jupyter environment, please rerun this cell to show the HTML representation or trust the notebook. <br />On GitHub, the HTML representation is unable to render, please try loading this page with nbviewer.org.</b></div><div class=\"sk-container\" hidden><div class=\"sk-item\"><div class=\"sk-estimator sk-toggleable\"><input class=\"sk-toggleable__control sk-hidden--visually\" id=\"sk-estimator-id-1\" type=\"checkbox\" checked><label for=\"sk-estimator-id-1\" class=\"sk-toggleable__label sk-toggleable__label-arrow\">XGBRegressor</label><div class=\"sk-toggleable__content\"><pre>XGBRegressor(base_score=0.5, booster=&#x27;gbtree&#x27;, callbacks=None,\n",
       "             colsample_bylevel=1, colsample_bynode=1, colsample_bytree=1,\n",
       "             early_stopping_rounds=None, enable_categorical=False,\n",
       "             eval_metric=None, gamma=0, gpu_id=-1, grow_policy=&#x27;depthwise&#x27;,\n",
       "             importance_type=None, interaction_constraints=&#x27;&#x27;,\n",
       "             learning_rate=0.300000012, max_bin=256, max_cat_to_onehot=4,\n",
       "             max_delta_step=0, max_depth=6, max_leaves=0, min_child_weight=1,\n",
       "             missing=nan, monotone_constraints=&#x27;()&#x27;, n_estimators=100, n_jobs=0,\n",
       "             num_parallel_tree=1, predictor=&#x27;auto&#x27;, random_state=0, reg_alpha=0,\n",
       "             reg_lambda=1, ...)</pre></div></div></div></div></div>"
      ],
      "text/plain": [
       "XGBRegressor(base_score=0.5, booster='gbtree', callbacks=None,\n",
       "             colsample_bylevel=1, colsample_bynode=1, colsample_bytree=1,\n",
       "             early_stopping_rounds=None, enable_categorical=False,\n",
       "             eval_metric=None, gamma=0, gpu_id=-1, grow_policy='depthwise',\n",
       "             importance_type=None, interaction_constraints='',\n",
       "             learning_rate=0.300000012, max_bin=256, max_cat_to_onehot=4,\n",
       "             max_delta_step=0, max_depth=6, max_leaves=0, min_child_weight=1,\n",
       "             missing=nan, monotone_constraints='()', n_estimators=100, n_jobs=0,\n",
       "             num_parallel_tree=1, predictor='auto', random_state=0, reg_alpha=0,\n",
       "             reg_lambda=1, ...)"
      ]
     },
     "execution_count": 83,
     "metadata": {},
     "output_type": "execute_result"
    }
   ],
   "source": [
    "# training the model\n",
    "regressor.fit(X_train, Y_train)"
   ]
  },
  {
   "cell_type": "markdown",
   "id": "ef7055f3",
   "metadata": {},
   "source": [
    "#### Evaluation"
   ]
  },
  {
   "cell_type": "code",
   "execution_count": 84,
   "id": "a04d6f21",
   "metadata": {},
   "outputs": [],
   "source": [
    "# prediction on Train Data\n",
    "\n",
    "training_data_prediction = regressor.predict(X_train)"
   ]
  },
  {
   "cell_type": "code",
   "execution_count": 85,
   "id": "31ac5fed",
   "metadata": {},
   "outputs": [],
   "source": [
    "r2_train = metrics.r2_score(Y_train, training_data_prediction)\n"
   ]
  },
  {
   "cell_type": "code",
   "execution_count": 86,
   "id": "80eea0f0",
   "metadata": {},
   "outputs": [
    {
     "name": "stdout",
     "output_type": "stream",
     "text": [
      "R Squared value =  0.17944673077141804\n"
     ]
    }
   ],
   "source": [
    "# R squared value\n",
    "\n",
    "print('R Squared value = ', r2_train)"
   ]
  },
  {
   "cell_type": "markdown",
   "id": "c36d1ba6",
   "metadata": {},
   "source": [
    "#### Compare the Actual Values and Predicted Values in a Plot"
   ]
  },
  {
   "cell_type": "code",
   "execution_count": 87,
   "id": "b5090301",
   "metadata": {},
   "outputs": [],
   "source": [
    "test_data_prediction = regressor.predict(X_test)"
   ]
  },
  {
   "cell_type": "code",
   "execution_count": 88,
   "id": "42498a6f",
   "metadata": {},
   "outputs": [
    {
     "data": {
      "image/png": "[encoded data removed]",
      "text/plain": [
       "<Figure size 432x288 with 1 Axes>"
      ]
     },
     "metadata": {
      "needs_background": "light"
     },
     "output_type": "display_data"
    },
    {
     "name": "stdout",
     "output_type": "stream",
     "text": [
      "R Squared value =  -0.06087931118095802\n"
     ]
    }
   ],
   "source": [
    "plt.plot(Y_test, color='blue', label = 'Actual Value')\n",
    "plt.plot(test_data_prediction, color='green', label='Predicted Value')\n",
    "plt.title('Actual Score vs Predicted Score')\n",
    "plt.xlabel('Number of values')\n",
    "plt.ylabel('Score')\n",
    "plt.legend()\n",
    "plt.show()\n",
    "\n",
    "r2_test = metrics.r2_score(Y_test, test_data_prediction)\n",
    "print('R Squared value = ', r2_test)"
   ]
  },
  {
   "cell_type": "markdown",
   "id": "695600fe",
   "metadata": {},
   "source": [
    "We only managed to achieve an accuracy score of 20% at directly predicting depression score.\n",
    "Due to the limitations of our depression score definition and the fact that most of our features are categorical based, this is expected."
   ]
  },
  {
   "cell_type": "markdown",
   "id": "d979a95f",
   "metadata": {},
   "source": [
    "## Classification\n",
    "In this section, we frame a classification task. We split the dataset into score < 4.0 (median score) and score > 4.0 category, yielding a balanced classification task. We also introduce another classification task that predicts between score = 0 and score > 0, which is slightly unbalanced but is more meaningful in predicting whether people has any mental health condition than using median threshold."
   ]
  },
  {
   "cell_type": "code",
   "execution_count": 89,
   "id": "db1f58c7",
   "metadata": {},
   "outputs": [],
   "source": [
    "cat_df['age']  = clf_df['age'].copy()"
   ]
  },
  {
   "cell_type": "code",
   "execution_count": 90,
   "id": "12642ff9",
   "metadata": {},
   "outputs": [],
   "source": [
    "cat_df['target1'] = clf_df['mh_ever'].copy()\n",
    "cat_df['target2'] = clf_df['top50'].copy()"
   ]
  },
  {
   "cell_type": "code",
   "execution_count": 91,
   "id": "a7433ab0",
   "metadata": {},
   "outputs": [
    {
     "data": {
      "text/plain": [
       "0          False\n",
       "1          False\n",
       "2          False\n",
       "3          False\n",
       "4          False\n",
       "5          False\n",
       "6          False\n",
       "7          False\n",
       "8          False\n",
       "9          False\n",
       "10         False\n",
       "11         False\n",
       "12         False\n",
       "13         False\n",
       "14         False\n",
       "15         False\n",
       "16         False\n",
       "17         False\n",
       "18         False\n",
       "19         False\n",
       "20         False\n",
       "21         False\n",
       "22         False\n",
       "age         True\n",
       "target1     True\n",
       "target2     True\n",
       "dtype: bool"
      ]
     },
     "execution_count": 91,
     "metadata": {},
     "output_type": "execute_result"
    }
   ],
   "source": [
    "cat_df.isna().any()"
   ]
  },
  {
   "cell_type": "code",
   "execution_count": 92,
   "id": "e91f0aea",
   "metadata": {},
   "outputs": [
    {
     "data": {
      "text/html": [
       "<div>\n",
       "<style scoped>\n",
       "    .dataframe tbody tr th:only-of-type {\n",
       "        vertical-align: middle;\n",
       "    }\n",
       "\n",
       "    .dataframe tbody tr th {\n",
       "        vertical-align: top;\n",
       "    }\n",
       "\n",
       "    .dataframe thead th {\n",
       "        text-align: right;\n",
       "    }\n",
       "</style>\n",
       "<table border=\"1\" class=\"dataframe\">\n",
       "  <thead>\n",
       "    <tr style=\"text-align: right;\">\n",
       "      <th></th>\n",
       "      <th>0</th>\n",
       "      <th>1</th>\n",
       "      <th>2</th>\n",
       "      <th>3</th>\n",
       "      <th>4</th>\n",
       "      <th>5</th>\n",
       "      <th>6</th>\n",
       "      <th>7</th>\n",
       "      <th>8</th>\n",
       "      <th>9</th>\n",
       "      <th>...</th>\n",
       "      <th>16</th>\n",
       "      <th>17</th>\n",
       "      <th>18</th>\n",
       "      <th>19</th>\n",
       "      <th>20</th>\n",
       "      <th>21</th>\n",
       "      <th>22</th>\n",
       "      <th>age</th>\n",
       "      <th>target1</th>\n",
       "      <th>target2</th>\n",
       "    </tr>\n",
       "  </thead>\n",
       "  <tbody>\n",
       "    <tr>\n",
       "      <th>0</th>\n",
       "      <td>0.0</td>\n",
       "      <td>0.0</td>\n",
       "      <td>0.0</td>\n",
       "      <td>0.0</td>\n",
       "      <td>1.0</td>\n",
       "      <td>0.0</td>\n",
       "      <td>1.0</td>\n",
       "      <td>0.0</td>\n",
       "      <td>1.0</td>\n",
       "      <td>1.0</td>\n",
       "      <td>...</td>\n",
       "      <td>0.0</td>\n",
       "      <td>1.0</td>\n",
       "      <td>0.0</td>\n",
       "      <td>0.0</td>\n",
       "      <td>1.0</td>\n",
       "      <td>0.0</td>\n",
       "      <td>0.0</td>\n",
       "      <td>85.0</td>\n",
       "      <td>False</td>\n",
       "      <td>False</td>\n",
       "    </tr>\n",
       "    <tr>\n",
       "      <th>1</th>\n",
       "      <td>0.0</td>\n",
       "      <td>0.0</td>\n",
       "      <td>0.0</td>\n",
       "      <td>1.0</td>\n",
       "      <td>0.0</td>\n",
       "      <td>0.0</td>\n",
       "      <td>1.0</td>\n",
       "      <td>0.0</td>\n",
       "      <td>1.0</td>\n",
       "      <td>1.0</td>\n",
       "      <td>...</td>\n",
       "      <td>0.0</td>\n",
       "      <td>0.0</td>\n",
       "      <td>0.0</td>\n",
       "      <td>1.0</td>\n",
       "      <td>0.0</td>\n",
       "      <td>0.0</td>\n",
       "      <td>1.0</td>\n",
       "      <td>39.0</td>\n",
       "      <td>True</td>\n",
       "      <td>False</td>\n",
       "    </tr>\n",
       "    <tr>\n",
       "      <th>2</th>\n",
       "      <td>0.0</td>\n",
       "      <td>0.0</td>\n",
       "      <td>0.0</td>\n",
       "      <td>1.0</td>\n",
       "      <td>0.0</td>\n",
       "      <td>0.0</td>\n",
       "      <td>1.0</td>\n",
       "      <td>0.0</td>\n",
       "      <td>1.0</td>\n",
       "      <td>1.0</td>\n",
       "      <td>...</td>\n",
       "      <td>0.0</td>\n",
       "      <td>1.0</td>\n",
       "      <td>0.0</td>\n",
       "      <td>0.0</td>\n",
       "      <td>0.0</td>\n",
       "      <td>0.0</td>\n",
       "      <td>1.0</td>\n",
       "      <td>42.0</td>\n",
       "      <td>False</td>\n",
       "      <td>False</td>\n",
       "    </tr>\n",
       "    <tr>\n",
       "      <th>3</th>\n",
       "      <td>0.0</td>\n",
       "      <td>0.0</td>\n",
       "      <td>1.0</td>\n",
       "      <td>0.0</td>\n",
       "      <td>0.0</td>\n",
       "      <td>0.0</td>\n",
       "      <td>1.0</td>\n",
       "      <td>0.0</td>\n",
       "      <td>1.0</td>\n",
       "      <td>1.0</td>\n",
       "      <td>...</td>\n",
       "      <td>0.0</td>\n",
       "      <td>1.0</td>\n",
       "      <td>0.0</td>\n",
       "      <td>0.0</td>\n",
       "      <td>0.0</td>\n",
       "      <td>1.0</td>\n",
       "      <td>0.0</td>\n",
       "      <td>32.0</td>\n",
       "      <td>True</td>\n",
       "      <td>False</td>\n",
       "    </tr>\n",
       "    <tr>\n",
       "      <th>4</th>\n",
       "      <td>1.0</td>\n",
       "      <td>0.0</td>\n",
       "      <td>0.0</td>\n",
       "      <td>0.0</td>\n",
       "      <td>0.0</td>\n",
       "      <td>0.0</td>\n",
       "      <td>1.0</td>\n",
       "      <td>0.0</td>\n",
       "      <td>1.0</td>\n",
       "      <td>0.0</td>\n",
       "      <td>...</td>\n",
       "      <td>0.0</td>\n",
       "      <td>0.0</td>\n",
       "      <td>1.0</td>\n",
       "      <td>0.0</td>\n",
       "      <td>0.0</td>\n",
       "      <td>0.0</td>\n",
       "      <td>1.0</td>\n",
       "      <td>85.0</td>\n",
       "      <td>True</td>\n",
       "      <td>False</td>\n",
       "    </tr>\n",
       "  </tbody>\n",
       "</table>\n",
       "<p>5 rows × 26 columns</p>\n",
       "</div>"
      ],
      "text/plain": [
       "     0    1    2    3    4    5    6    7    8    9  ...   16   17   18   19  \\\n",
       "0  0.0  0.0  0.0  0.0  1.0  0.0  1.0  0.0  1.0  1.0  ...  0.0  1.0  0.0  0.0   \n",
       "1  0.0  0.0  0.0  1.0  0.0  0.0  1.0  0.0  1.0  1.0  ...  0.0  0.0  0.0  1.0   \n",
       "2  0.0  0.0  0.0  1.0  0.0  0.0  1.0  0.0  1.0  1.0  ...  0.0  1.0  0.0  0.0   \n",
       "3  0.0  0.0  1.0  0.0  0.0  0.0  1.0  0.0  1.0  1.0  ...  0.0  1.0  0.0  0.0   \n",
       "4  1.0  0.0  0.0  0.0  0.0  0.0  1.0  0.0  1.0  0.0  ...  0.0  0.0  1.0  0.0   \n",
       "\n",
       "    20   21   22   age  target1  target2  \n",
       "0  1.0  0.0  0.0  85.0    False    False  \n",
       "1  0.0  0.0  1.0  39.0     True    False  \n",
       "2  0.0  0.0  1.0  42.0    False    False  \n",
       "3  0.0  1.0  0.0  32.0     True    False  \n",
       "4  0.0  0.0  1.0  85.0     True    False  \n",
       "\n",
       "[5 rows x 26 columns]"
      ]
     },
     "execution_count": 92,
     "metadata": {},
     "output_type": "execute_result"
    }
   ],
   "source": [
    "cat_df.head()"
   ]
  },
  {
   "cell_type": "code",
   "execution_count": 93,
   "id": "0e1f3536",
   "metadata": {},
   "outputs": [
    {
     "data": {
      "text/plain": [
       "True     19391\n",
       "False     7302\n",
       "Name: target1, dtype: int64"
      ]
     },
     "execution_count": 93,
     "metadata": {},
     "output_type": "execute_result"
    }
   ],
   "source": [
    "cat_df['target1'].value_counts()"
   ]
  },
  {
   "cell_type": "code",
   "execution_count": 94,
   "id": "46f799ef",
   "metadata": {},
   "outputs": [
    {
     "data": {
      "text/plain": [
       "0             0\n",
       "1             0\n",
       "2             0\n",
       "3             0\n",
       "4             0\n",
       "5             0\n",
       "6             0\n",
       "7             0\n",
       "8             0\n",
       "9             0\n",
       "10            0\n",
       "11            0\n",
       "12            0\n",
       "13            0\n",
       "14            0\n",
       "15            0\n",
       "16            0\n",
       "17            0\n",
       "18            0\n",
       "19            0\n",
       "20            0\n",
       "21            0\n",
       "22            0\n",
       "age        2353\n",
       "target1    2353\n",
       "target2    2353\n",
       "dtype: int64"
      ]
     },
     "execution_count": 94,
     "metadata": {},
     "output_type": "execute_result"
    }
   ],
   "source": [
    "cat_df.isnull().sum()"
   ]
  },
  {
   "cell_type": "markdown",
   "id": "03734b21",
   "metadata": {},
   "source": [
    "### Splitting the data and target\n",
    "* x1 = features1\n",
    "* x2 = features2\n",
    "* y1 = target1\n",
    "* y2 = target2"
   ]
  },
  {
   "cell_type": "code",
   "execution_count": 95,
   "id": "f341ef80",
   "metadata": {},
   "outputs": [],
   "source": [
    "cat_df2= cat_df.dropna() #Remove Row with NA values\n",
    "x1 = cat_df2.drop(columns=['target1', 'target2'],axis=1)\n",
    "x2 = cat_df2.drop(columns=['target1', 'target2'],axis=1)\n",
    " \n",
    "target1 = cat_df2['target1'].astype(int)\n",
    "target2 = cat_df2['target2'].astype(int)\n",
    "y1 = target1\n",
    "y2 = target2"
   ]
  },
  {
   "cell_type": "code",
   "execution_count": 96,
   "id": "6c8e8c81",
   "metadata": {},
   "outputs": [
    {
     "name": "stdout",
     "output_type": "stream",
     "text": [
      "         0    1    2    3    4    5    6    7    8    9  ...   14   15   16  \\\n",
      "0      0.0  0.0  0.0  0.0  1.0  0.0  1.0  0.0  1.0  1.0  ...  1.0  0.0  0.0   \n",
      "1      0.0  0.0  0.0  1.0  0.0  0.0  1.0  0.0  1.0  1.0  ...  1.0  0.0  0.0   \n",
      "2      0.0  0.0  0.0  1.0  0.0  0.0  1.0  0.0  1.0  1.0  ...  1.0  0.0  0.0   \n",
      "3      0.0  0.0  1.0  0.0  0.0  0.0  1.0  0.0  1.0  1.0  ...  1.0  0.0  0.0   \n",
      "4      1.0  0.0  0.0  0.0  0.0  0.0  1.0  0.0  1.0  0.0  ...  1.0  0.0  0.0   \n",
      "...    ...  ...  ...  ...  ...  ...  ...  ...  ...  ...  ...  ...  ...  ...   \n",
      "29041  0.0  0.0  1.0  0.0  0.0  0.0  1.0  1.0  0.0  0.0  ...  1.0  0.0  0.0   \n",
      "29042  0.0  0.0  0.0  1.0  0.0  0.0  1.0  1.0  0.0  1.0  ...  1.0  0.0  0.0   \n",
      "29043  0.0  0.0  1.0  0.0  0.0  0.0  1.0  1.0  0.0  0.0  ...  1.0  0.0  0.0   \n",
      "29044  1.0  0.0  0.0  0.0  0.0  0.0  1.0  1.0  0.0  0.0  ...  1.0  0.0  0.0   \n",
      "29045  0.0  0.0  1.0  0.0  0.0  0.0  1.0  1.0  0.0  0.0  ...  1.0  0.0  0.0   \n",
      "\n",
      "        17   18   19   20   21   22   age  \n",
      "0      1.0  0.0  0.0  1.0  0.0  0.0  85.0  \n",
      "1      0.0  0.0  1.0  0.0  0.0  1.0  39.0  \n",
      "2      1.0  0.0  0.0  0.0  0.0  1.0  42.0  \n",
      "3      1.0  0.0  0.0  0.0  1.0  0.0  32.0  \n",
      "4      0.0  1.0  0.0  0.0  0.0  1.0  85.0  \n",
      "...    ...  ...  ...  ...  ...  ...   ...  \n",
      "29041  0.0  0.0  1.0  1.0  0.0  0.0  32.0  \n",
      "29042  0.0  1.0  0.0  1.0  0.0  0.0  31.0  \n",
      "29043  0.0  0.0  1.0  1.0  0.0  0.0  28.0  \n",
      "29044  0.0  0.0  1.0  0.0  0.0  1.0  30.0  \n",
      "29045  0.0  0.0  1.0  1.0  0.0  0.0  47.0  \n",
      "\n",
      "[26693 rows x 24 columns]\n"
     ]
    }
   ],
   "source": [
    "print(x1)"
   ]
  },
  {
   "cell_type": "code",
   "execution_count": 97,
   "id": "e3222bd0",
   "metadata": {},
   "outputs": [
    {
     "name": "stdout",
     "output_type": "stream",
     "text": [
      "         0    1    2    3    4    5    6    7    8    9  ...   14   15   16  \\\n",
      "0      0.0  0.0  0.0  0.0  1.0  0.0  1.0  0.0  1.0  1.0  ...  1.0  0.0  0.0   \n",
      "1      0.0  0.0  0.0  1.0  0.0  0.0  1.0  0.0  1.0  1.0  ...  1.0  0.0  0.0   \n",
      "2      0.0  0.0  0.0  1.0  0.0  0.0  1.0  0.0  1.0  1.0  ...  1.0  0.0  0.0   \n",
      "3      0.0  0.0  1.0  0.0  0.0  0.0  1.0  0.0  1.0  1.0  ...  1.0  0.0  0.0   \n",
      "4      1.0  0.0  0.0  0.0  0.0  0.0  1.0  0.0  1.0  0.0  ...  1.0  0.0  0.0   \n",
      "...    ...  ...  ...  ...  ...  ...  ...  ...  ...  ...  ...  ...  ...  ...   \n",
      "29041  0.0  0.0  1.0  0.0  0.0  0.0  1.0  1.0  0.0  0.0  ...  1.0  0.0  0.0   \n",
      "29042  0.0  0.0  0.0  1.0  0.0  0.0  1.0  1.0  0.0  1.0  ...  1.0  0.0  0.0   \n",
      "29043  0.0  0.0  1.0  0.0  0.0  0.0  1.0  1.0  0.0  0.0  ...  1.0  0.0  0.0   \n",
      "29044  1.0  0.0  0.0  0.0  0.0  0.0  1.0  1.0  0.0  0.0  ...  1.0  0.0  0.0   \n",
      "29045  0.0  0.0  1.0  0.0  0.0  0.0  1.0  1.0  0.0  0.0  ...  1.0  0.0  0.0   \n",
      "\n",
      "        17   18   19   20   21   22   age  \n",
      "0      1.0  0.0  0.0  1.0  0.0  0.0  85.0  \n",
      "1      0.0  0.0  1.0  0.0  0.0  1.0  39.0  \n",
      "2      1.0  0.0  0.0  0.0  0.0  1.0  42.0  \n",
      "3      1.0  0.0  0.0  0.0  1.0  0.0  32.0  \n",
      "4      0.0  1.0  0.0  0.0  0.0  1.0  85.0  \n",
      "...    ...  ...  ...  ...  ...  ...   ...  \n",
      "29041  0.0  0.0  1.0  1.0  0.0  0.0  32.0  \n",
      "29042  0.0  1.0  0.0  1.0  0.0  0.0  31.0  \n",
      "29043  0.0  0.0  1.0  1.0  0.0  0.0  28.0  \n",
      "29044  0.0  0.0  1.0  0.0  0.0  1.0  30.0  \n",
      "29045  0.0  0.0  1.0  1.0  0.0  0.0  47.0  \n",
      "\n",
      "[26693 rows x 24 columns]\n"
     ]
    }
   ],
   "source": [
    "print(x2)"
   ]
  },
  {
   "cell_type": "code",
   "execution_count": 98,
   "id": "0aa31970",
   "metadata": {},
   "outputs": [
    {
     "name": "stdout",
     "output_type": "stream",
     "text": [
      "0        0\n",
      "1        1\n",
      "2        0\n",
      "3        1\n",
      "4        1\n",
      "        ..\n",
      "29041    0\n",
      "29042    0\n",
      "29043    0\n",
      "29044    1\n",
      "29045    1\n",
      "Name: target1, Length: 26693, dtype: int32\n"
     ]
    }
   ],
   "source": [
    "print(y1)"
   ]
  },
  {
   "cell_type": "code",
   "execution_count": 99,
   "id": "d3f165fe",
   "metadata": {},
   "outputs": [
    {
     "name": "stdout",
     "output_type": "stream",
     "text": [
      "0        0\n",
      "1        0\n",
      "2        0\n",
      "3        0\n",
      "4        0\n",
      "        ..\n",
      "29041    0\n",
      "29042    0\n",
      "29043    0\n",
      "29044    1\n",
      "29045    0\n",
      "Name: target2, Length: 26693, dtype: int32\n"
     ]
    }
   ],
   "source": [
    "print(y2)"
   ]
  },
  {
   "cell_type": "markdown",
   "id": "320ad780",
   "metadata": {},
   "source": [
    "### Splitting Training and Test data"
   ]
  },
  {
   "cell_type": "code",
   "execution_count": 100,
   "id": "d6adfa2e",
   "metadata": {},
   "outputs": [],
   "source": [
    "# Splitting for target 1\n",
    "x1_train, x1_test, y1_train, y1_test = train_test_split(x1, y1, test_size = 0.2, random_state=150)"
   ]
  },
  {
   "cell_type": "code",
   "execution_count": 101,
   "id": "356eabb8",
   "metadata": {},
   "outputs": [],
   "source": [
    "# Splitting for target 2\n",
    "x2_train, x2_test, y2_train, y2_test = train_test_split(x2, y2, test_size = 0.2, random_state=150)"
   ]
  },
  {
   "cell_type": "code",
   "execution_count": 102,
   "id": "4d6b682c",
   "metadata": {},
   "outputs": [
    {
     "data": {
      "text/plain": [
       "24"
      ]
     },
     "execution_count": 102,
     "metadata": {},
     "output_type": "execute_result"
    }
   ],
   "source": [
    "x1.shape[1]\n"
   ]
  },
  {
   "cell_type": "markdown",
   "id": "feb0a274",
   "metadata": {},
   "source": [
    "## Model Training"
   ]
  },
  {
   "cell_type": "markdown",
   "id": "7ace7281",
   "metadata": {},
   "source": [
    "### Training For Target 1"
   ]
  },
  {
   "cell_type": "code",
   "execution_count": 103,
   "id": "1b893bca",
   "metadata": {},
   "outputs": [
    {
     "name": "stdout",
     "output_type": "stream",
     "text": [
      "Class Distribution (Positive to Negative): 72.7% / 27.3%\n"
     ]
    }
   ],
   "source": [
    "print(\"Class Distribution (Positive to Negative): {:.1f}% / {:.1f}%\".format(y1_train.mean() * 100, (1 - y1_train.mean()) * 100))"
   ]
  },
  {
   "cell_type": "markdown",
   "id": "f3d3f91d",
   "metadata": {},
   "source": [
    "#### Target 1 is highy unbalanced. However, it is significant since it's defined by whether a person will suffer from anxiety or depression at all."
   ]
  },
  {
   "cell_type": "code",
   "execution_count": 104,
   "id": "0a08134b",
   "metadata": {
    "scrolled": false
   },
   "outputs": [
    {
     "name": "stdout",
     "output_type": "stream",
     "text": [
      "Epoch 1/50\n",
      "67/67 [==============================] - 3s 35ms/step - loss: 0.9696 - accuracy: 0.6970 - auc: 0.4701 - val_loss: 0.6107 - val_accuracy: 0.7279 - val_auc: 0.4195 - lr: 0.0010\n",
      "Epoch 2/50\n",
      "67/67 [==============================] - 2s 32ms/step - loss: 0.5962 - accuracy: 0.7264 - auc: 0.4993 - val_loss: 0.5818 - val_accuracy: 0.7279 - val_auc: 0.5844 - lr: 0.0010\n",
      "Epoch 3/50\n",
      "67/67 [==============================] - 2s 32ms/step - loss: 0.5908 - accuracy: 0.7249 - auc: 0.5306 - val_loss: 0.5870 - val_accuracy: 0.7279 - val_auc: 0.5733 - lr: 0.0010\n",
      "Epoch 4/50\n",
      "67/67 [==============================] - 2s 32ms/step - loss: 0.5836 - accuracy: 0.7269 - auc: 0.5582 - val_loss: 0.5909 - val_accuracy: 0.7279 - val_auc: 0.5762 - lr: 0.0010\n",
      "Epoch 5/50\n",
      "67/67 [==============================] - 2s 32ms/step - loss: 0.5840 - accuracy: 0.7269 - auc: 0.5565 - val_loss: 0.5797 - val_accuracy: 0.7279 - val_auc: 0.5759 - lr: 0.0010\n",
      "Epoch 6/50\n",
      "67/67 [==============================] - 2s 32ms/step - loss: 0.5810 - accuracy: 0.7269 - auc: 0.5689 - val_loss: 0.5792 - val_accuracy: 0.7279 - val_auc: 0.5798 - lr: 0.0010\n",
      "Epoch 7/50\n",
      "67/67 [==============================] - 2s 32ms/step - loss: 0.5803 - accuracy: 0.7269 - auc: 0.5732 - val_loss: 0.5787 - val_accuracy: 0.7279 - val_auc: 0.5798 - lr: 0.0010\n",
      "Epoch 8/50\n",
      "67/67 [==============================] - 2s 33ms/step - loss: 0.5791 - accuracy: 0.7269 - auc: 0.5783 - val_loss: 0.5849 - val_accuracy: 0.7279 - val_auc: 0.5800 - lr: 0.0010\n",
      "Epoch 9/50\n",
      "67/67 [==============================] - 2s 32ms/step - loss: 0.5798 - accuracy: 0.7269 - auc: 0.5753 - val_loss: 0.5792 - val_accuracy: 0.7279 - val_auc: 0.5800 - lr: 0.0010\n",
      "Epoch 10/50\n",
      "67/67 [==============================] - 2s 32ms/step - loss: 0.5799 - accuracy: 0.7269 - auc: 0.5738 - val_loss: 0.5796 - val_accuracy: 0.7279 - val_auc: 0.5783 - lr: 0.0010\n",
      "Epoch 11/50\n",
      "67/67 [==============================] - 2s 32ms/step - loss: 0.5825 - accuracy: 0.7269 - auc: 0.5646 - val_loss: 0.5817 - val_accuracy: 0.7279 - val_auc: 0.5800 - lr: 0.0010\n",
      "Epoch 12/50\n",
      "67/67 [==============================] - 2s 32ms/step - loss: 0.5809 - accuracy: 0.7269 - auc: 0.5684 - val_loss: 0.5785 - val_accuracy: 0.7279 - val_auc: 0.5798 - lr: 0.0010\n",
      "Epoch 13/50\n",
      "67/67 [==============================] - 2s 32ms/step - loss: 0.5795 - accuracy: 0.7269 - auc: 0.5765 - val_loss: 0.5779 - val_accuracy: 0.7279 - val_auc: 0.5805 - lr: 0.0010\n",
      "Epoch 14/50\n",
      "67/67 [==============================] - 2s 32ms/step - loss: 0.5809 - accuracy: 0.7269 - auc: 0.5700 - val_loss: 0.5801 - val_accuracy: 0.7279 - val_auc: 0.5800 - lr: 0.0010\n",
      "Epoch 15/50\n",
      "67/67 [==============================] - 2s 32ms/step - loss: 0.5807 - accuracy: 0.7269 - auc: 0.5709 - val_loss: 0.5787 - val_accuracy: 0.7279 - val_auc: 0.5805 - lr: 0.0010\n",
      "Epoch 16/50\n",
      "67/67 [==============================] - 2s 33ms/step - loss: 0.5804 - accuracy: 0.7269 - auc: 0.5706 - val_loss: 0.5804 - val_accuracy: 0.7279 - val_auc: 0.5783 - lr: 0.0010\n",
      "Epoch 17/50\n",
      "67/67 [==============================] - 2s 32ms/step - loss: 0.5800 - accuracy: 0.7269 - auc: 0.5731 - val_loss: 0.5786 - val_accuracy: 0.7279 - val_auc: 0.5805 - lr: 0.0010\n",
      "Epoch 18/50\n",
      "67/67 [==============================] - 2s 32ms/step - loss: 0.5803 - accuracy: 0.7269 - auc: 0.5725 - val_loss: 0.5798 - val_accuracy: 0.7279 - val_auc: 0.5813 - lr: 0.0010\n",
      "Epoch 19/50\n",
      "67/67 [==============================] - 2s 32ms/step - loss: 0.5802 - accuracy: 0.7269 - auc: 0.5716 - val_loss: 0.5806 - val_accuracy: 0.7279 - val_auc: 0.5823 - lr: 0.0010\n",
      "Epoch 20/50\n",
      "67/67 [==============================] - 2s 32ms/step - loss: 0.5788 - accuracy: 0.7269 - auc: 0.5792 - val_loss: 0.5790 - val_accuracy: 0.7279 - val_auc: 0.5846 - lr: 0.0010\n",
      "Epoch 21/50\n",
      "67/67 [==============================] - 2s 32ms/step - loss: 0.5795 - accuracy: 0.7269 - auc: 0.5759 - val_loss: 0.5778 - val_accuracy: 0.7279 - val_auc: 0.5824 - lr: 0.0010\n",
      "Epoch 22/50\n",
      "67/67 [==============================] - 2s 32ms/step - loss: 0.5789 - accuracy: 0.7269 - auc: 0.5794 - val_loss: 0.5775 - val_accuracy: 0.7279 - val_auc: 0.5813 - lr: 0.0010\n",
      "Epoch 23/50\n",
      "67/67 [==============================] - 2s 32ms/step - loss: 0.5790 - accuracy: 0.7269 - auc: 0.5792 - val_loss: 0.5782 - val_accuracy: 0.7279 - val_auc: 0.5837 - lr: 0.0010\n",
      "Epoch 24/50\n",
      "67/67 [==============================] - 2s 32ms/step - loss: 0.5785 - accuracy: 0.7269 - auc: 0.5804 - val_loss: 0.5778 - val_accuracy: 0.7279 - val_auc: 0.5845 - lr: 0.0010\n",
      "Epoch 25/50\n",
      "67/67 [==============================] - 2s 32ms/step - loss: 0.5788 - accuracy: 0.7269 - auc: 0.5803 - val_loss: 0.5783 - val_accuracy: 0.7279 - val_auc: 0.5805 - lr: 0.0010\n",
      "Epoch 26/50\n",
      "67/67 [==============================] - 2s 33ms/step - loss: 0.5782 - accuracy: 0.7269 - auc: 0.5818 - val_loss: 0.5795 - val_accuracy: 0.7279 - val_auc: 0.5828 - lr: 0.0010\n",
      "Epoch 27/50\n",
      "67/67 [==============================] - 2s 33ms/step - loss: 0.5786 - accuracy: 0.7269 - auc: 0.5804 - val_loss: 0.5789 - val_accuracy: 0.7279 - val_auc: 0.5792 - lr: 0.0010\n",
      "Epoch 28/50\n",
      "67/67 [==============================] - 2s 32ms/step - loss: 0.5789 - accuracy: 0.7269 - auc: 0.5781 - val_loss: 0.5785 - val_accuracy: 0.7279 - val_auc: 0.5812 - lr: 0.0010\n",
      "Epoch 29/50\n",
      "67/67 [==============================] - 2s 32ms/step - loss: 0.5782 - accuracy: 0.7269 - auc: 0.5818 - val_loss: 0.5790 - val_accuracy: 0.7279 - val_auc: 0.5822 - lr: 0.0010\n",
      "Epoch 30/50\n",
      "67/67 [==============================] - 2s 32ms/step - loss: 0.5791 - accuracy: 0.7269 - auc: 0.5789 - val_loss: 0.5782 - val_accuracy: 0.7279 - val_auc: 0.5815 - lr: 0.0010\n",
      "Epoch 31/50\n",
      "67/67 [==============================] - 2s 32ms/step - loss: 0.5776 - accuracy: 0.7269 - auc: 0.5842 - val_loss: 0.5797 - val_accuracy: 0.7279 - val_auc: 0.5813 - lr: 0.0010\n",
      "Epoch 32/50\n",
      "67/67 [==============================] - 2s 32ms/step - loss: 0.5791 - accuracy: 0.7269 - auc: 0.5764 - val_loss: 0.5777 - val_accuracy: 0.7279 - val_auc: 0.5821 - lr: 0.0010\n",
      "Epoch 33/50\n",
      "67/67 [==============================] - 2s 32ms/step - loss: 0.5767 - accuracy: 0.7269 - auc: 0.5877 - val_loss: 0.5770 - val_accuracy: 0.7279 - val_auc: 0.5844 - lr: 1.0000e-04\n",
      "Epoch 34/50\n",
      "67/67 [==============================] - 2s 32ms/step - loss: 0.5760 - accuracy: 0.7269 - auc: 0.5907 - val_loss: 0.5770 - val_accuracy: 0.7279 - val_auc: 0.5841 - lr: 1.0000e-04\n",
      "Epoch 35/50\n",
      "67/67 [==============================] - 2s 33ms/step - loss: 0.5761 - accuracy: 0.7269 - auc: 0.5898 - val_loss: 0.5765 - val_accuracy: 0.7279 - val_auc: 0.5841 - lr: 1.0000e-04\n",
      "Epoch 36/50\n",
      "67/67 [==============================] - 2s 32ms/step - loss: 0.5758 - accuracy: 0.7269 - auc: 0.5914 - val_loss: 0.5774 - val_accuracy: 0.7279 - val_auc: 0.5832 - lr: 1.0000e-04\n",
      "Epoch 37/50\n",
      "67/67 [==============================] - 2s 32ms/step - loss: 0.5761 - accuracy: 0.7269 - auc: 0.5896 - val_loss: 0.5769 - val_accuracy: 0.7279 - val_auc: 0.5841 - lr: 1.0000e-04\n",
      "Epoch 38/50\n",
      "67/67 [==============================] - 2s 32ms/step - loss: 0.5760 - accuracy: 0.7269 - auc: 0.5906 - val_loss: 0.5770 - val_accuracy: 0.7279 - val_auc: 0.5834 - lr: 1.0000e-04\n",
      "Epoch 39/50\n",
      "67/67 [==============================] - 2s 32ms/step - loss: 0.5756 - accuracy: 0.7269 - auc: 0.5916 - val_loss: 0.5769 - val_accuracy: 0.7279 - val_auc: 0.5841 - lr: 1.0000e-04\n",
      "Epoch 40/50\n",
      "67/67 [==============================] - 2s 32ms/step - loss: 0.5756 - accuracy: 0.7269 - auc: 0.5914 - val_loss: 0.5772 - val_accuracy: 0.7279 - val_auc: 0.5839 - lr: 1.0000e-04\n",
      "Epoch 41/50\n",
      "67/67 [==============================] - 2s 32ms/step - loss: 0.5755 - accuracy: 0.7269 - auc: 0.5917 - val_loss: 0.5770 - val_accuracy: 0.7279 - val_auc: 0.5844 - lr: 1.0000e-04\n",
      "Epoch 42/50\n",
      "67/67 [==============================] - 2s 32ms/step - loss: 0.5756 - accuracy: 0.7269 - auc: 0.5917 - val_loss: 0.5771 - val_accuracy: 0.7279 - val_auc: 0.5847 - lr: 1.0000e-04\n",
      "Epoch 43/50\n",
      "67/67 [==============================] - 2s 32ms/step - loss: 0.5756 - accuracy: 0.7269 - auc: 0.5914 - val_loss: 0.5769 - val_accuracy: 0.7279 - val_auc: 0.5839 - lr: 1.0000e-04\n",
      "Epoch 44/50\n",
      "67/67 [==============================] - 2s 32ms/step - loss: 0.5754 - accuracy: 0.7269 - auc: 0.5925 - val_loss: 0.5768 - val_accuracy: 0.7279 - val_auc: 0.5833 - lr: 1.0000e-04\n"
     ]
    },
    {
     "name": "stdout",
     "output_type": "stream",
     "text": [
      "Epoch 45/50\n",
      "67/67 [==============================] - 2s 33ms/step - loss: 0.5754 - accuracy: 0.7269 - auc: 0.5927 - val_loss: 0.5769 - val_accuracy: 0.7279 - val_auc: 0.5835 - lr: 1.0000e-04\n",
      "Epoch 46/50\n",
      "67/67 [==============================] - 2s 32ms/step - loss: 0.5749 - accuracy: 0.7269 - auc: 0.5937 - val_loss: 0.5769 - val_accuracy: 0.7279 - val_auc: 0.5837 - lr: 1.0000e-05\n",
      "Epoch 47/50\n",
      "67/67 [==============================] - 2s 32ms/step - loss: 0.5750 - accuracy: 0.7269 - auc: 0.5937 - val_loss: 0.5769 - val_accuracy: 0.7279 - val_auc: 0.5836 - lr: 1.0000e-05\n",
      "Epoch 48/50\n",
      "67/67 [==============================] - 2s 32ms/step - loss: 0.5749 - accuracy: 0.7269 - auc: 0.5942 - val_loss: 0.5769 - val_accuracy: 0.7279 - val_auc: 0.5833 - lr: 1.0000e-05\n",
      "Epoch 49/50\n",
      "67/67 [==============================] - 2s 34ms/step - loss: 0.5749 - accuracy: 0.7269 - auc: 0.5938 - val_loss: 0.5769 - val_accuracy: 0.7279 - val_auc: 0.5839 - lr: 1.0000e-05\n",
      "Epoch 50/50\n",
      "67/67 [==============================] - 2s 33ms/step - loss: 0.5749 - accuracy: 0.7269 - auc: 0.5939 - val_loss: 0.5769 - val_accuracy: 0.7279 - val_auc: 0.5835 - lr: 1.0000e-05\n"
     ]
    }
   ],
   "source": [
    "import tensorflow as tf\n",
    "inputs = tf.keras.Input(shape=(x1.shape[1],))\n",
    "l = tf.keras.layers.Dense(1024, activation='relu')(inputs)\n",
    "l = tf.keras.layers.Dense(1024, activation='relu')(l)\n",
    "l = tf.keras.layers.Dense(1024, activation='relu')(l)\n",
    "outputs = tf.keras.layers.Dense(1, activation='sigmoid')(l)\n",
    "\n",
    "model = tf.keras.Model(inputs, outputs)\n",
    "\n",
    "\n",
    "model.compile(\n",
    "    optimizer='Adam',\n",
    "    loss='binary_crossentropy',\n",
    "    metrics=[\n",
    "        'accuracy',\n",
    "        tf.keras.metrics.AUC(name='auc')\n",
    "    ]\n",
    ")\n",
    "\n",
    "batch_size = 256\n",
    "epochs = 50\n",
    "\n",
    "history = model.fit(\n",
    "    x1_train,\n",
    "    y1_train,\n",
    "    validation_split=0.2,\n",
    "    batch_size=batch_size,\n",
    "    epochs=epochs,\n",
    "    callbacks=[\n",
    "        tf.keras.callbacks.ReduceLROnPlateau()\n",
    "    ]\n",
    ")"
   ]
  },
  {
   "cell_type": "markdown",
   "id": "ac2ec1a7",
   "metadata": {},
   "source": [
    "#### Model Evaluation For Target 1"
   ]
  },
  {
   "cell_type": "code",
   "execution_count": 105,
   "id": "edd7eaf4",
   "metadata": {
    "scrolled": false
   },
   "outputs": [
    {
     "data": {
      "image/png": "[encoded data removed]",
      "text/plain": [
       "<Figure size 864x432 with 1 Axes>"
      ]
     },
     "metadata": {
      "needs_background": "light"
     },
     "output_type": "display_data"
    }
   ],
   "source": [
    "plt.figure(figsize=(12, 6))\n",
    "\n",
    "plt.plot(range(epochs), history.history['accuracy'], label=\"Training Accuracy\")\n",
    "plt.plot(range(epochs), history.history['val_accuracy'], label=\"Validation Accuracy\")\n",
    "\n",
    "plt.xlabel(\"Epoch\")\n",
    "plt.ylabel(\"Accuracy\")\n",
    "\n",
    "plt.legend()\n",
    "plt.title(\"Accuracy Over Time\")\n",
    "\n",
    "plt.show()"
   ]
  },
  {
   "cell_type": "code",
   "execution_count": 106,
   "id": "c702bb11",
   "metadata": {},
   "outputs": [
    {
     "name": "stdout",
     "output_type": "stream",
     "text": [
      "167/167 [==============================] - 1s 5ms/step - loss: 0.5795 - accuracy: 0.7237 - auc: 0.5918\n"
     ]
    },
    {
     "data": {
      "text/plain": [
       "[0.579501748085022, 0.7237310409545898, 0.5918151140213013]"
      ]
     },
     "execution_count": 106,
     "metadata": {},
     "output_type": "execute_result"
    }
   ],
   "source": [
    "model.evaluate(x1_test, y1_test)"
   ]
  },
  {
   "cell_type": "code",
   "execution_count": 107,
   "id": "5716afa6",
   "metadata": {},
   "outputs": [],
   "source": [
    "from sklearn.metrics import confusion_matrix\n",
    "y1_pred = model.predict(x1_test)\n",
    "y1_pred = (y1_pred > 0.7)\n"
   ]
  },
  {
   "cell_type": "code",
   "execution_count": 108,
   "id": "ce7bf228",
   "metadata": {},
   "outputs": [
    {
     "data": {
      "text/plain": [
       "[Text(30.5, 0.5, 'Actual'), Text(0.5, 12.5, 'Predicted')]"
      ]
     },
     "execution_count": 108,
     "metadata": {},
     "output_type": "execute_result"
    },
    {
     "data": {
      "image/png": "[encoded data removed]",
      "text/plain": [
       "<Figure size 432x288 with 2 Axes>"
      ]
     },
     "metadata": {
      "needs_background": "light"
     },
     "output_type": "display_data"
    }
   ],
   "source": [
    "cm = confusion_matrix(y1_test, y1_pred)\n",
    "\n",
    "hm=sns.heatmap(cm, annot=True)\n",
    "hm.set(ylabel=\"Actual\", xlabel=\"Predicted\")"
   ]
  },
  {
   "cell_type": "markdown",
   "id": "2f586c3c",
   "metadata": {},
   "source": [
    "#### We have about 72% chance of predicting whether that person has had anxiety or depression. This is fairly decent performance given the features we have are mostly categorical variables."
   ]
  },
  {
   "cell_type": "markdown",
   "id": "09e02d1c",
   "metadata": {},
   "source": [
    "### Training For Target 2"
   ]
  },
  {
   "cell_type": "code",
   "execution_count": 109,
   "id": "16c5cc6d",
   "metadata": {},
   "outputs": [
    {
     "name": "stdout",
     "output_type": "stream",
     "text": [
      "Class Distribution (Positive to Negative): 47.9% / 52.1%\n"
     ]
    }
   ],
   "source": [
    "print(\"Class Distribution (Positive to Negative): {:.1f}% / {:.1f}%\".format(y2_train.mean() * 100, (1 - y2_train.mean()) * 100))"
   ]
  },
  {
   "cell_type": "markdown",
   "id": "a78dcbf2",
   "metadata": {},
   "source": [
    "#### Target 2 is more balanced since we defined it as \"if the mental health score is higher than the median\". This variable will predict if the person has a higher than usual depression score."
   ]
  },
  {
   "cell_type": "code",
   "execution_count": 110,
   "id": "e82d9903",
   "metadata": {
    "scrolled": true
   },
   "outputs": [
    {
     "name": "stdout",
     "output_type": "stream",
     "text": [
      "Epoch 1/80\n",
      "67/67 [==============================] - 3s 39ms/step - loss: 1.0339 - accuracy: 0.5121 - auc: 0.5103 - val_loss: 0.6926 - val_accuracy: 0.5139 - val_auc: 0.5556 - lr: 0.0010\n",
      "Epoch 2/80\n",
      "67/67 [==============================] - 2s 33ms/step - loss: 0.6909 - accuracy: 0.5256 - auc: 0.5341 - val_loss: 0.6887 - val_accuracy: 0.5383 - val_auc: 0.5586 - lr: 0.0010\n",
      "Epoch 3/80\n",
      "67/67 [==============================] - 2s 33ms/step - loss: 0.6880 - accuracy: 0.5503 - auc: 0.5566 - val_loss: 0.6916 - val_accuracy: 0.5219 - val_auc: 0.5609 - lr: 0.0010\n",
      "Epoch 4/80\n",
      "67/67 [==============================] - 2s 32ms/step - loss: 0.6885 - accuracy: 0.5383 - auc: 0.5499 - val_loss: 0.6888 - val_accuracy: 0.5476 - val_auc: 0.5601 - lr: 0.0010\n",
      "Epoch 5/80\n",
      "67/67 [==============================] - 2s 32ms/step - loss: 0.6865 - accuracy: 0.5497 - auc: 0.5617 - val_loss: 0.6917 - val_accuracy: 0.5462 - val_auc: 0.5600 - lr: 0.0010\n",
      "Epoch 6/80\n",
      "67/67 [==============================] - 2s 32ms/step - loss: 0.6861 - accuracy: 0.5503 - auc: 0.5639 - val_loss: 0.6876 - val_accuracy: 0.5512 - val_auc: 0.5598 - lr: 0.0010\n",
      "Epoch 7/80\n",
      "67/67 [==============================] - 2s 32ms/step - loss: 0.6865 - accuracy: 0.5508 - auc: 0.5625 - val_loss: 0.6867 - val_accuracy: 0.5500 - val_auc: 0.5602 - lr: 0.0010\n",
      "Epoch 8/80\n",
      "67/67 [==============================] - 2s 32ms/step - loss: 0.6871 - accuracy: 0.5466 - auc: 0.5587 - val_loss: 0.6870 - val_accuracy: 0.5505 - val_auc: 0.5609 - lr: 0.0010\n",
      "Epoch 9/80\n",
      "67/67 [==============================] - 2s 32ms/step - loss: 0.6862 - accuracy: 0.5517 - auc: 0.5638 - val_loss: 0.6867 - val_accuracy: 0.5530 - val_auc: 0.5604 - lr: 0.0010\n",
      "Epoch 10/80\n",
      "67/67 [==============================] - 2s 32ms/step - loss: 0.6862 - accuracy: 0.5507 - auc: 0.5633 - val_loss: 0.6880 - val_accuracy: 0.5451 - val_auc: 0.5608 - lr: 0.0010\n",
      "Epoch 11/80\n",
      "67/67 [==============================] - 2s 32ms/step - loss: 0.6863 - accuracy: 0.5501 - auc: 0.5632 - val_loss: 0.6900 - val_accuracy: 0.5287 - val_auc: 0.5610 - lr: 0.0010\n",
      "Epoch 12/80\n",
      "67/67 [==============================] - 2s 32ms/step - loss: 0.6869 - accuracy: 0.5453 - auc: 0.5599 - val_loss: 0.6894 - val_accuracy: 0.5350 - val_auc: 0.5611 - lr: 0.0010\n",
      "Epoch 13/80\n",
      "67/67 [==============================] - 2s 32ms/step - loss: 0.6866 - accuracy: 0.5516 - auc: 0.5615 - val_loss: 0.6868 - val_accuracy: 0.5488 - val_auc: 0.5604 - lr: 0.0010\n",
      "Epoch 14/80\n",
      "67/67 [==============================] - 2s 32ms/step - loss: 0.6873 - accuracy: 0.5460 - auc: 0.5577 - val_loss: 0.6885 - val_accuracy: 0.5458 - val_auc: 0.5614 - lr: 0.0010\n",
      "Epoch 15/80\n",
      "67/67 [==============================] - 2s 32ms/step - loss: 0.6876 - accuracy: 0.5475 - auc: 0.5566 - val_loss: 0.6875 - val_accuracy: 0.5479 - val_auc: 0.5614 - lr: 0.0010\n",
      "Epoch 16/80\n",
      "67/67 [==============================] - 2s 32ms/step - loss: 0.6887 - accuracy: 0.5468 - auc: 0.5537 - val_loss: 0.6869 - val_accuracy: 0.5467 - val_auc: 0.5612 - lr: 0.0010\n",
      "Epoch 17/80\n",
      "67/67 [==============================] - 2s 32ms/step - loss: 0.6865 - accuracy: 0.5498 - auc: 0.5610 - val_loss: 0.6873 - val_accuracy: 0.5481 - val_auc: 0.5607 - lr: 0.0010\n",
      "Epoch 18/80\n",
      "67/67 [==============================] - 2s 32ms/step - loss: 0.6855 - accuracy: 0.5515 - auc: 0.5654 - val_loss: 0.6867 - val_accuracy: 0.5521 - val_auc: 0.5610 - lr: 1.0000e-04\n",
      "Epoch 19/80\n",
      "67/67 [==============================] - 2s 32ms/step - loss: 0.6851 - accuracy: 0.5527 - auc: 0.5681 - val_loss: 0.6868 - val_accuracy: 0.5512 - val_auc: 0.5606 - lr: 1.0000e-04\n",
      "Epoch 20/80\n",
      "67/67 [==============================] - 2s 32ms/step - loss: 0.6851 - accuracy: 0.5538 - auc: 0.5677 - val_loss: 0.6867 - val_accuracy: 0.5533 - val_auc: 0.5605 - lr: 1.0000e-04\n",
      "Epoch 21/80\n",
      "67/67 [==============================] - 2s 32ms/step - loss: 0.6851 - accuracy: 0.5529 - auc: 0.5673 - val_loss: 0.6868 - val_accuracy: 0.5493 - val_auc: 0.5602 - lr: 1.0000e-04\n",
      "Epoch 22/80\n",
      "67/67 [==============================] - 2s 32ms/step - loss: 0.6851 - accuracy: 0.5527 - auc: 0.5678 - val_loss: 0.6868 - val_accuracy: 0.5526 - val_auc: 0.5604 - lr: 1.0000e-04\n",
      "Epoch 23/80\n",
      "67/67 [==============================] - 2s 32ms/step - loss: 0.6850 - accuracy: 0.5524 - auc: 0.5681 - val_loss: 0.6868 - val_accuracy: 0.5512 - val_auc: 0.5609 - lr: 1.0000e-04\n",
      "Epoch 24/80\n",
      "67/67 [==============================] - 2s 32ms/step - loss: 0.6849 - accuracy: 0.5515 - auc: 0.5688 - val_loss: 0.6870 - val_accuracy: 0.5509 - val_auc: 0.5599 - lr: 1.0000e-04\n",
      "Epoch 25/80\n",
      "67/67 [==============================] - 2s 32ms/step - loss: 0.6851 - accuracy: 0.5527 - auc: 0.5677 - val_loss: 0.6870 - val_accuracy: 0.5509 - val_auc: 0.5602 - lr: 1.0000e-04\n",
      "Epoch 26/80\n",
      "67/67 [==============================] - 2s 32ms/step - loss: 0.6850 - accuracy: 0.5527 - auc: 0.5683 - val_loss: 0.6868 - val_accuracy: 0.5500 - val_auc: 0.5602 - lr: 1.0000e-04\n",
      "Epoch 27/80\n",
      "67/67 [==============================] - 2s 32ms/step - loss: 0.6849 - accuracy: 0.5517 - auc: 0.5686 - val_loss: 0.6868 - val_accuracy: 0.5512 - val_auc: 0.5603 - lr: 1.0000e-04\n",
      "Epoch 28/80\n",
      "67/67 [==============================] - 2s 32ms/step - loss: 0.6849 - accuracy: 0.5518 - auc: 0.5693 - val_loss: 0.6868 - val_accuracy: 0.5500 - val_auc: 0.5607 - lr: 1.0000e-05\n",
      "Epoch 29/80\n",
      "67/67 [==============================] - 2s 32ms/step - loss: 0.6848 - accuracy: 0.5535 - auc: 0.5693 - val_loss: 0.6868 - val_accuracy: 0.5512 - val_auc: 0.5612 - lr: 1.0000e-05\n",
      "Epoch 30/80\n",
      "67/67 [==============================] - 2s 32ms/step - loss: 0.6848 - accuracy: 0.5533 - auc: 0.5694 - val_loss: 0.6869 - val_accuracy: 0.5509 - val_auc: 0.5605 - lr: 1.0000e-05\n",
      "Epoch 31/80\n",
      "67/67 [==============================] - 2s 33ms/step - loss: 0.6848 - accuracy: 0.5535 - auc: 0.5693 - val_loss: 0.6869 - val_accuracy: 0.5519 - val_auc: 0.5605 - lr: 1.0000e-05\n",
      "Epoch 32/80\n",
      "67/67 [==============================] - 2s 33ms/step - loss: 0.6848 - accuracy: 0.5534 - auc: 0.5692 - val_loss: 0.6869 - val_accuracy: 0.5516 - val_auc: 0.5604 - lr: 1.0000e-05\n",
      "Epoch 33/80\n",
      "67/67 [==============================] - 2s 32ms/step - loss: 0.6848 - accuracy: 0.5531 - auc: 0.5690 - val_loss: 0.6869 - val_accuracy: 0.5505 - val_auc: 0.5607 - lr: 1.0000e-05\n",
      "Epoch 34/80\n",
      "67/67 [==============================] - 2s 32ms/step - loss: 0.6848 - accuracy: 0.5531 - auc: 0.5694 - val_loss: 0.6869 - val_accuracy: 0.5502 - val_auc: 0.5606 - lr: 1.0000e-05\n",
      "Epoch 35/80\n",
      "67/67 [==============================] - 2s 32ms/step - loss: 0.6848 - accuracy: 0.5527 - auc: 0.5695 - val_loss: 0.6869 - val_accuracy: 0.5505 - val_auc: 0.5609 - lr: 1.0000e-05\n",
      "Epoch 36/80\n",
      "67/67 [==============================] - 2s 32ms/step - loss: 0.6848 - accuracy: 0.5531 - auc: 0.5694 - val_loss: 0.6869 - val_accuracy: 0.5507 - val_auc: 0.5606 - lr: 1.0000e-05\n",
      "Epoch 37/80\n",
      "67/67 [==============================] - 2s 32ms/step - loss: 0.6848 - accuracy: 0.5531 - auc: 0.5693 - val_loss: 0.6869 - val_accuracy: 0.5516 - val_auc: 0.5611 - lr: 1.0000e-05\n",
      "Epoch 38/80\n",
      "67/67 [==============================] - 2s 32ms/step - loss: 0.6847 - accuracy: 0.5531 - auc: 0.5694 - val_loss: 0.6869 - val_accuracy: 0.5516 - val_auc: 0.5612 - lr: 1.0000e-06\n",
      "Epoch 39/80\n",
      "67/67 [==============================] - 2s 32ms/step - loss: 0.6847 - accuracy: 0.5532 - auc: 0.5694 - val_loss: 0.6869 - val_accuracy: 0.5516 - val_auc: 0.5613 - lr: 1.0000e-06\n",
      "Epoch 40/80\n",
      "67/67 [==============================] - 2s 32ms/step - loss: 0.6847 - accuracy: 0.5531 - auc: 0.5694 - val_loss: 0.6869 - val_accuracy: 0.5516 - val_auc: 0.5612 - lr: 1.0000e-06\n",
      "Epoch 41/80\n",
      "67/67 [==============================] - 2s 32ms/step - loss: 0.6847 - accuracy: 0.5532 - auc: 0.5694 - val_loss: 0.6869 - val_accuracy: 0.5512 - val_auc: 0.5609 - lr: 1.0000e-06\n",
      "Epoch 42/80\n",
      "67/67 [==============================] - 2s 32ms/step - loss: 0.6847 - accuracy: 0.5530 - auc: 0.5694 - val_loss: 0.6869 - val_accuracy: 0.5512 - val_auc: 0.5610 - lr: 1.0000e-06\n",
      "Epoch 43/80\n",
      "67/67 [==============================] - 2s 32ms/step - loss: 0.6847 - accuracy: 0.5531 - auc: 0.5695 - val_loss: 0.6869 - val_accuracy: 0.5512 - val_auc: 0.5610 - lr: 1.0000e-06\n",
      "Epoch 44/80\n"
     ]
    },
    {
     "name": "stdout",
     "output_type": "stream",
     "text": [
      "67/67 [==============================] - 2s 32ms/step - loss: 0.6847 - accuracy: 0.5530 - auc: 0.5694 - val_loss: 0.6869 - val_accuracy: 0.5516 - val_auc: 0.5611 - lr: 1.0000e-06\n",
      "Epoch 45/80\n",
      "67/67 [==============================] - 2s 32ms/step - loss: 0.6847 - accuracy: 0.5532 - auc: 0.5694 - val_loss: 0.6869 - val_accuracy: 0.5512 - val_auc: 0.5609 - lr: 1.0000e-06\n",
      "Epoch 46/80\n",
      "67/67 [==============================] - 2s 32ms/step - loss: 0.6847 - accuracy: 0.5531 - auc: 0.5694 - val_loss: 0.6869 - val_accuracy: 0.5509 - val_auc: 0.5609 - lr: 1.0000e-06\n",
      "Epoch 47/80\n",
      "67/67 [==============================] - 2s 32ms/step - loss: 0.6847 - accuracy: 0.5531 - auc: 0.5693 - val_loss: 0.6869 - val_accuracy: 0.5512 - val_auc: 0.5609 - lr: 1.0000e-06\n",
      "Epoch 48/80\n",
      "67/67 [==============================] - 2s 32ms/step - loss: 0.6847 - accuracy: 0.5529 - auc: 0.5694 - val_loss: 0.6869 - val_accuracy: 0.5512 - val_auc: 0.5609 - lr: 1.0000e-07\n",
      "Epoch 49/80\n",
      "67/67 [==============================] - 2s 32ms/step - loss: 0.6847 - accuracy: 0.5529 - auc: 0.5694 - val_loss: 0.6869 - val_accuracy: 0.5509 - val_auc: 0.5609 - lr: 1.0000e-07\n",
      "Epoch 50/80\n",
      "67/67 [==============================] - 2s 32ms/step - loss: 0.6847 - accuracy: 0.5529 - auc: 0.5694 - val_loss: 0.6869 - val_accuracy: 0.5509 - val_auc: 0.5609 - lr: 1.0000e-07\n",
      "Epoch 51/80\n",
      "67/67 [==============================] - 2s 32ms/step - loss: 0.6847 - accuracy: 0.5530 - auc: 0.5695 - val_loss: 0.6869 - val_accuracy: 0.5509 - val_auc: 0.5609 - lr: 1.0000e-07\n",
      "Epoch 52/80\n",
      "67/67 [==============================] - 2s 32ms/step - loss: 0.6847 - accuracy: 0.5529 - auc: 0.5694 - val_loss: 0.6869 - val_accuracy: 0.5509 - val_auc: 0.5609 - lr: 1.0000e-07\n",
      "Epoch 53/80\n",
      "67/67 [==============================] - 2s 32ms/step - loss: 0.6847 - accuracy: 0.5530 - auc: 0.5695 - val_loss: 0.6869 - val_accuracy: 0.5509 - val_auc: 0.5609 - lr: 1.0000e-07\n",
      "Epoch 54/80\n",
      "67/67 [==============================] - 2s 32ms/step - loss: 0.6847 - accuracy: 0.5530 - auc: 0.5694 - val_loss: 0.6869 - val_accuracy: 0.5509 - val_auc: 0.5609 - lr: 1.0000e-07\n",
      "Epoch 55/80\n",
      "67/67 [==============================] - 2s 32ms/step - loss: 0.6847 - accuracy: 0.5529 - auc: 0.5694 - val_loss: 0.6869 - val_accuracy: 0.5509 - val_auc: 0.5609 - lr: 1.0000e-07\n",
      "Epoch 56/80\n",
      "67/67 [==============================] - 2s 32ms/step - loss: 0.6847 - accuracy: 0.5530 - auc: 0.5694 - val_loss: 0.6869 - val_accuracy: 0.5509 - val_auc: 0.5609 - lr: 1.0000e-07\n",
      "Epoch 57/80\n",
      "67/67 [==============================] - 2s 32ms/step - loss: 0.6847 - accuracy: 0.5529 - auc: 0.5694 - val_loss: 0.6869 - val_accuracy: 0.5509 - val_auc: 0.5609 - lr: 1.0000e-07\n",
      "Epoch 58/80\n",
      "67/67 [==============================] - 2s 34ms/step - loss: 0.6847 - accuracy: 0.5529 - auc: 0.5694 - val_loss: 0.6869 - val_accuracy: 0.5509 - val_auc: 0.5609 - lr: 1.0000e-08\n",
      "Epoch 59/80\n",
      "67/67 [==============================] - 2s 32ms/step - loss: 0.6847 - accuracy: 0.5529 - auc: 0.5694 - val_loss: 0.6869 - val_accuracy: 0.5509 - val_auc: 0.5609 - lr: 1.0000e-08\n",
      "Epoch 60/80\n",
      "67/67 [==============================] - 2s 32ms/step - loss: 0.6847 - accuracy: 0.5529 - auc: 0.5694 - val_loss: 0.6869 - val_accuracy: 0.5509 - val_auc: 0.5609 - lr: 1.0000e-08\n",
      "Epoch 61/80\n",
      "67/67 [==============================] - 2s 33ms/step - loss: 0.6847 - accuracy: 0.5529 - auc: 0.5694 - val_loss: 0.6869 - val_accuracy: 0.5509 - val_auc: 0.5609 - lr: 1.0000e-08\n",
      "Epoch 62/80\n",
      "67/67 [==============================] - 2s 32ms/step - loss: 0.6847 - accuracy: 0.5529 - auc: 0.5694 - val_loss: 0.6869 - val_accuracy: 0.5509 - val_auc: 0.5609 - lr: 1.0000e-08\n",
      "Epoch 63/80\n",
      "67/67 [==============================] - 2s 32ms/step - loss: 0.6847 - accuracy: 0.5529 - auc: 0.5694 - val_loss: 0.6869 - val_accuracy: 0.5509 - val_auc: 0.5609 - lr: 1.0000e-08\n",
      "Epoch 64/80\n",
      "67/67 [==============================] - 2s 32ms/step - loss: 0.6847 - accuracy: 0.5530 - auc: 0.5694 - val_loss: 0.6869 - val_accuracy: 0.5509 - val_auc: 0.5609 - lr: 1.0000e-08\n",
      "Epoch 65/80\n",
      "67/67 [==============================] - 2s 32ms/step - loss: 0.6847 - accuracy: 0.5529 - auc: 0.5694 - val_loss: 0.6869 - val_accuracy: 0.5509 - val_auc: 0.5609 - lr: 1.0000e-08\n",
      "Epoch 66/80\n",
      "67/67 [==============================] - 2s 32ms/step - loss: 0.6847 - accuracy: 0.5529 - auc: 0.5694 - val_loss: 0.6869 - val_accuracy: 0.5509 - val_auc: 0.5609 - lr: 1.0000e-08\n",
      "Epoch 67/80\n",
      "67/67 [==============================] - 2s 32ms/step - loss: 0.6847 - accuracy: 0.5529 - auc: 0.5694 - val_loss: 0.6869 - val_accuracy: 0.5509 - val_auc: 0.5609 - lr: 1.0000e-08\n",
      "Epoch 68/80\n",
      "67/67 [==============================] - 2s 32ms/step - loss: 0.6847 - accuracy: 0.5530 - auc: 0.5694 - val_loss: 0.6869 - val_accuracy: 0.5509 - val_auc: 0.5609 - lr: 1.0000e-09\n",
      "Epoch 69/80\n",
      "67/67 [==============================] - 2s 32ms/step - loss: 0.6847 - accuracy: 0.5530 - auc: 0.5694 - val_loss: 0.6869 - val_accuracy: 0.5509 - val_auc: 0.5609 - lr: 1.0000e-09\n",
      "Epoch 70/80\n",
      "67/67 [==============================] - 2s 32ms/step - loss: 0.6847 - accuracy: 0.5530 - auc: 0.5694 - val_loss: 0.6869 - val_accuracy: 0.5509 - val_auc: 0.5609 - lr: 1.0000e-09\n",
      "Epoch 71/80\n",
      "67/67 [==============================] - 2s 32ms/step - loss: 0.6847 - accuracy: 0.5530 - auc: 0.5694 - val_loss: 0.6869 - val_accuracy: 0.5509 - val_auc: 0.5609 - lr: 1.0000e-09\n",
      "Epoch 72/80\n",
      "67/67 [==============================] - 2s 32ms/step - loss: 0.6847 - accuracy: 0.5530 - auc: 0.5694 - val_loss: 0.6869 - val_accuracy: 0.5509 - val_auc: 0.5609 - lr: 1.0000e-09\n",
      "Epoch 73/80\n",
      "67/67 [==============================] - 2s 32ms/step - loss: 0.6847 - accuracy: 0.5530 - auc: 0.5694 - val_loss: 0.6869 - val_accuracy: 0.5509 - val_auc: 0.5609 - lr: 1.0000e-09\n",
      "Epoch 74/80\n",
      "67/67 [==============================] - 2s 33ms/step - loss: 0.6847 - accuracy: 0.5530 - auc: 0.5694 - val_loss: 0.6869 - val_accuracy: 0.5509 - val_auc: 0.5609 - lr: 1.0000e-09\n",
      "Epoch 75/80\n",
      "67/67 [==============================] - 2s 33ms/step - loss: 0.6847 - accuracy: 0.5530 - auc: 0.5694 - val_loss: 0.6869 - val_accuracy: 0.5509 - val_auc: 0.5609 - lr: 1.0000e-09\n",
      "Epoch 76/80\n",
      "67/67 [==============================] - 2s 33ms/step - loss: 0.6847 - accuracy: 0.5530 - auc: 0.5694 - val_loss: 0.6869 - val_accuracy: 0.5509 - val_auc: 0.5609 - lr: 1.0000e-09\n",
      "Epoch 77/80\n",
      "67/67 [==============================] - 2s 34ms/step - loss: 0.6847 - accuracy: 0.5530 - auc: 0.5694 - val_loss: 0.6869 - val_accuracy: 0.5509 - val_auc: 0.5609 - lr: 1.0000e-09\n",
      "Epoch 78/80\n",
      "67/67 [==============================] - 2s 33ms/step - loss: 0.6847 - accuracy: 0.5530 - auc: 0.5694 - val_loss: 0.6869 - val_accuracy: 0.5509 - val_auc: 0.5609 - lr: 1.0000e-10\n",
      "Epoch 79/80\n",
      "67/67 [==============================] - 2s 34ms/step - loss: 0.6847 - accuracy: 0.5530 - auc: 0.5694 - val_loss: 0.6869 - val_accuracy: 0.5509 - val_auc: 0.5609 - lr: 1.0000e-10\n",
      "Epoch 80/80\n",
      "67/67 [==============================] - 2s 35ms/step - loss: 0.6847 - accuracy: 0.5530 - auc: 0.5694 - val_loss: 0.6869 - val_accuracy: 0.5509 - val_auc: 0.5609 - lr: 1.0000e-10\n"
     ]
    }
   ],
   "source": [
    "inputs = tf.keras.Input(shape=(x2.shape[1],))\n",
    "l = tf.keras.layers.Dense(1024, activation='relu')(inputs)\n",
    "l = tf.keras.layers.Dense(1024, activation='relu')(l)\n",
    "l = tf.keras.layers.Dense(1024, activation='relu')(l)\n",
    "outputs = tf.keras.layers.Dense(1, activation='sigmoid')(l)\n",
    "\n",
    "model = tf.keras.Model(inputs, outputs)\n",
    "\n",
    "\n",
    "model.compile(\n",
    "    optimizer='Adam',\n",
    "    loss='binary_crossentropy',\n",
    "    metrics=[\n",
    "        'accuracy',\n",
    "        tf.keras.metrics.AUC(name='auc')\n",
    "    ]\n",
    ")\n",
    "\n",
    "batch_size = 256\n",
    "epochs = 80\n",
    "\n",
    "history = model.fit(\n",
    "    x2_train,\n",
    "    y2_train,\n",
    "    validation_split=0.2,\n",
    "    batch_size=batch_size,\n",
    "    epochs=epochs,\n",
    "    callbacks=[\n",
    "        tf.keras.callbacks.ReduceLROnPlateau()\n",
    "    ]\n",
    ")"
   ]
  },
  {
   "cell_type": "markdown",
   "id": "87d2e663",
   "metadata": {},
   "source": [
    "#### Evaluation for Target 2"
   ]
  },
  {
   "cell_type": "code",
   "execution_count": 111,
   "id": "70f96980",
   "metadata": {},
   "outputs": [
    {
     "data": {
      "image/png": "[encoded data removed]",
      "text/plain": [
       "<Figure size 864x432 with 1 Axes>"
      ]
     },
     "metadata": {
      "needs_background": "light"
     },
     "output_type": "display_data"
    }
   ],
   "source": [
    "plt.figure(figsize=(12, 6))\n",
    "\n",
    "plt.plot(range(epochs), history.history['accuracy'], label=\"Training Accuracy\")\n",
    "plt.plot(range(epochs), history.history['val_accuracy'], label=\"Validation Accuracy\")\n",
    "\n",
    "plt.xlabel(\"Epoch\")\n",
    "plt.ylabel(\"Accuracy\")\n",
    "\n",
    "plt.legend()\n",
    "plt.title(\"Accuracy Over Time\")\n",
    "\n",
    "plt.show()"
   ]
  },
  {
   "cell_type": "code",
   "execution_count": 112,
   "id": "e643d2af",
   "metadata": {},
   "outputs": [
    {
     "name": "stdout",
     "output_type": "stream",
     "text": [
      "167/167 [==============================] - 1s 5ms/step - loss: 0.6851 - accuracy: 0.5544 - auc: 0.5684\n"
     ]
    },
    {
     "data": {
      "text/plain": [
       "[0.6851294040679932, 0.5544109344482422, 0.5684428811073303]"
      ]
     },
     "execution_count": 112,
     "metadata": {},
     "output_type": "execute_result"
    }
   ],
   "source": [
    "model.evaluate(x2_test, y2_test)"
   ]
  },
  {
   "cell_type": "code",
   "execution_count": 113,
   "id": "dade0e15",
   "metadata": {},
   "outputs": [],
   "source": [
    "y2_pred = model.predict(x2_test)\n",
    "y2_pred = (y2_pred > 0.5)"
   ]
  },
  {
   "cell_type": "code",
   "execution_count": 114,
   "id": "9ede1ba5",
   "metadata": {},
   "outputs": [
    {
     "data": {
      "text/plain": [
       "[Text(30.5, 0.5, 'Actual'), Text(0.5, 12.5, 'Predicted')]"
      ]
     },
     "execution_count": 114,
     "metadata": {},
     "output_type": "execute_result"
    },
    {
     "data": {
      "image/png": "[encoded data removed]",
      "text/plain": [
       "<Figure size 432x288 with 2 Axes>"
      ]
     },
     "metadata": {
      "needs_background": "light"
     },
     "output_type": "display_data"
    }
   ],
   "source": [
    "cm2 = confusion_matrix(y2_test, y2_pred)\n",
    "\n",
    "hm=sns.heatmap(cm2, annot=True)\n",
    "hm.set(ylabel=\"Actual\", xlabel=\"Predicted\")"
   ]
  },
  {
   "cell_type": "markdown",
   "id": "20f2f7de",
   "metadata": {},
   "source": [
    "#### In a more balanced problem, our highest test set accuracy dropped to around 55% with multi-layer neural network classifier. This is expected since our model will have a lower chance of hitting true positives. Our resulting model has a 55% accuracy in predicting whether a person has higher than usual depression score. "
   ]
  }
 ],
 "metadata": {
  "kernelspec": {
   "display_name": "Python 3 (ipykernel)",
   "language": "python",
   "name": "python3"
  },
  "language_info": {
   "codemirror_mode": {
    "name": "ipython",
    "version": 3
   },
   "file_extension": ".py",
   "mimetype": "text/x-python",
   "name": "python",
   "nbconvert_exporter": "python",
   "pygments_lexer": "ipython3",
   "version": "3.9.7"
  }
 },
 "nbformat": 4,
 "nbformat_minor": 5
}
