{
 "cells": [
  {
   "cell_type": "code",
   "execution_count": 1,
   "id": "168dd4bc",
   "metadata": {},
   "outputs": [],
   "source": [
    "import pandas as pd\n",
    "import numpy as np\n",
    "import matplotlib.pyplot as plt\n",
    "import seaborn as sns\n",
    "import math\n",
    "import scipy\n",
    "import statsmodels.api as sm\n",
    "import patsy\n",
    "import sklearn.linear_model\n",
    "import sklearn.ensemble\n",
    "import sklearn.neural_network\n",
    "from statsmodels.stats.multicomp import pairwise_tukeyhsd\n",
    "from pandas.plotting import scatter_matrix\n",
    "from sklearn.model_selection import train_test_split\n",
    "from sklearn.linear_model import LinearRegression\n",
    "from sklearn.linear_model import Lasso\n",
    "from sklearn import metrics\n",
    "from xgboost import XGBRegressor"
   ]
  },
  {
   "cell_type": "code",
   "execution_count": 2,
   "id": "24bf1ffa",
   "metadata": {},
   "outputs": [],
   "source": [
    "import warnings\n",
    "warnings.filterwarnings(\"ignore\", category=UserWarning)"
   ]
  },
  {
   "cell_type": "code",
   "execution_count": 3,
   "id": "1eeb934b",
   "metadata": {},
   "outputs": [],
   "source": [
    "sns.set(rc={\"figure.figsize\":(12, 8)})"
   ]
  },
  {
   "cell_type": "code",
   "execution_count": 4,
   "id": "9b5ee61c",
   "metadata": {},
   "outputs": [],
   "source": [
    "adult_df = pd.read_csv('adult20.csv')"
   ]
  },
  {
   "cell_type": "code",
   "execution_count": 5,
   "id": "fcfd9636",
   "metadata": {},
   "outputs": [],
   "source": [
    "need_cols = ['URBRRL', 'AGEP_A', 'SEX_A', 'EDUC_A', 'ANXEV_A', 'DEPEV_A',\n",
    "             'NOTCOV_A', 'ANXFREQ_A', 'ANXLEVEL_A', 'DEPFREQ_A','DEPLEVEL_A',\n",
    "             'ORIENT_A', 'MARITAL_A', 'INCGRP_A', 'BMICAT_A']"
   ]
  },
  {
   "cell_type": "code",
   "execution_count": 6,
   "id": "4d83ba70",
   "metadata": {},
   "outputs": [],
   "source": [
    "subset_df = adult_df[need_cols]"
   ]
  },
  {
   "cell_type": "code",
   "execution_count": 7,
   "id": "43fb8056",
   "metadata": {},
   "outputs": [
    {
     "data": {
      "text/plain": [
       "Index(['URBRRL', 'AGEP_A', 'SEX_A', 'EDUC_A', 'ANXEV_A', 'DEPEV_A', 'NOTCOV_A',\n",
       "       'ANXFREQ_A', 'ANXLEVEL_A', 'DEPFREQ_A', 'DEPLEVEL_A', 'ORIENT_A',\n",
       "       'MARITAL_A', 'INCGRP_A', 'BMICAT_A'],\n",
       "      dtype='object')"
      ]
     },
     "execution_count": 7,
     "metadata": {},
     "output_type": "execute_result"
    }
   ],
   "source": [
    "subset_df.columns"
   ]
  },
  {
   "cell_type": "code",
   "execution_count": 8,
   "id": "abb9f1bb",
   "metadata": {},
   "outputs": [],
   "source": [
    "subset_df.columns = ['urbanrural', 'age', 'sex', 'edu', 'anx_ever', 'dep_ever', \n",
    "                    'inscov', 'anx_freq', 'anx_level', 'dep_freq', 'dep_level', \n",
    "                    'orient', 'marital', 'income', 'bmi']"
   ]
  },
  {
   "cell_type": "code",
   "execution_count": 9,
   "id": "a3d43952",
   "metadata": {},
   "outputs": [],
   "source": [
    "column_map = dict(zip(subset_df.columns, need_cols))"
   ]
  },
  {
   "cell_type": "code",
   "execution_count": 10,
   "id": "45a4ab75",
   "metadata": {},
   "outputs": [],
   "source": [
    "subset_df = subset_df.replace({\"anx_freq\": {5: 0}, \"dep_freq\": {5: 0}})"
   ]
  },
  {
   "cell_type": "code",
   "execution_count": 11,
   "id": "3ad2dbe4",
   "metadata": {},
   "outputs": [
    {
     "data": {
      "text/plain": [
       "urbanrural    False\n",
       "age           False\n",
       "sex           False\n",
       "edu           False\n",
       "anx_ever      False\n",
       "dep_ever      False\n",
       "inscov        False\n",
       "anx_freq      False\n",
       "anx_level      True\n",
       "dep_freq      False\n",
       "dep_level      True\n",
       "orient        False\n",
       "marital       False\n",
       "income        False\n",
       "bmi           False\n",
       "dtype: bool"
      ]
     },
     "execution_count": 11,
     "metadata": {},
     "output_type": "execute_result"
    }
   ],
   "source": [
    "subset_df.isna().any()\n"
   ]
  },
  {
   "cell_type": "code",
   "execution_count": 12,
   "id": "7bbd03a7",
   "metadata": {},
   "outputs": [],
   "source": [
    "subset_df.loc[:, 'anx_level'] = subset_df.loc[:, 'anx_level'].apply(lambda x : 0 if math.isnan(x) else x)"
   ]
  },
  {
   "cell_type": "code",
   "execution_count": 13,
   "id": "0568cdd3",
   "metadata": {},
   "outputs": [],
   "source": [
    "subset_df.loc[:, 'dep_level'] = subset_df.loc[:, 'dep_level'].apply(lambda x : 0 if math.isnan(x) else x)"
   ]
  },
  {
   "cell_type": "code",
   "execution_count": 14,
   "id": "35a4f6c7",
   "metadata": {},
   "outputs": [
    {
     "data": {
      "text/plain": [
       "1.0    11069\n",
       "0.0     9676\n",
       "3.0     8304\n",
       "2.0     2380\n",
       "9.0       83\n",
       "7.0       51\n",
       "8.0        5\n",
       "Name: anx_level, dtype: int64"
      ]
     },
     "execution_count": 14,
     "metadata": {},
     "output_type": "execute_result"
    }
   ],
   "source": [
    "subset_df['anx_level'].value_counts()"
   ]
  },
  {
   "cell_type": "markdown",
   "id": "531b597f",
   "metadata": {},
   "source": [
    "We will remove value 7, 8, 9 as it reprents 'Refused', 'Not Ascertained', 'Don't Know' which does not account to the problem we are trying to solve."
   ]
  },
  {
   "cell_type": "code",
   "execution_count": 15,
   "id": "395c0174",
   "metadata": {},
   "outputs": [],
   "source": [
    "subset_df = subset_df[(subset_df['anx_level'] < 7.0) & (subset_df['dep_level'] < 7.0)]\n",
    "subset_df = subset_df[(subset_df['anx_freq'] < 7.0) & (subset_df['dep_freq'] < 7.0)]\n",
    "# less than 1% of the sample is removed."
   ]
  },
  {
   "cell_type": "code",
   "execution_count": 16,
   "id": "8e37313c",
   "metadata": {},
   "outputs": [
    {
     "data": {
      "text/plain": [
       "{'urbanrural': 'URBRRL',\n",
       " 'age': 'AGEP_A',\n",
       " 'sex': 'SEX_A',\n",
       " 'edu': 'EDUC_A',\n",
       " 'anx_ever': 'ANXEV_A',\n",
       " 'dep_ever': 'DEPEV_A',\n",
       " 'inscov': 'NOTCOV_A',\n",
       " 'anx_freq': 'ANXFREQ_A',\n",
       " 'anx_level': 'ANXLEVEL_A',\n",
       " 'dep_freq': 'DEPFREQ_A',\n",
       " 'dep_level': 'DEPLEVEL_A',\n",
       " 'orient': 'ORIENT_A',\n",
       " 'marital': 'MARITAL_A',\n",
       " 'income': 'INCGRP_A',\n",
       " 'bmi': 'BMICAT_A'}"
      ]
     },
     "execution_count": 16,
     "metadata": {},
     "output_type": "execute_result"
    }
   ],
   "source": [
    "column_map"
   ]
  },
  {
   "cell_type": "code",
   "execution_count": 17,
   "id": "878ea375",
   "metadata": {},
   "outputs": [],
   "source": [
    "subset_df = subset_df[(subset_df['sex'] <= 2) & (subset_df['edu'] <= 11) & \n",
    "          (subset_df['age'] <= 85) & (subset_df['anx_ever'] <= 2) & (subset_df['dep_ever'] <= 2) & \n",
    "          (subset_df['inscov'] <= 2) & (subset_df['orient'] <= 4) & (subset_df['marital'] <= 3) &\n",
    "          (subset_df['bmi'] <= 4)]"
   ]
  },
  {
   "cell_type": "code",
   "execution_count": 18,
   "id": "1a90cd40",
   "metadata": {},
   "outputs": [],
   "source": [
    "def map_edu(x):\n",
    "    if x in {0, 1, 2, 3, 4, 5}:\n",
    "        return 1\n",
    "    elif x in {6, 7, 8}:\n",
    "        return 2\n",
    "    return 3"
   ]
  },
  {
   "cell_type": "code",
   "execution_count": 19,
   "id": "5042b931",
   "metadata": {},
   "outputs": [],
   "source": [
    "subset_df['edu'] = subset_df['edu'].apply(map_edu)"
   ]
  },
  {
   "cell_type": "code",
   "execution_count": 20,
   "id": "d76f77df",
   "metadata": {},
   "outputs": [],
   "source": [
    "subset_df['anx_ever'] = subset_df['anx_ever'].apply(lambda x : 0 if (x == 2) else x)"
   ]
  },
  {
   "cell_type": "code",
   "execution_count": 21,
   "id": "35a31e02",
   "metadata": {},
   "outputs": [],
   "source": [
    "subset_df['dep_ever'] = subset_df['dep_ever'].apply(lambda x : 0 if (x == 2) else x)"
   ]
  },
  {
   "cell_type": "markdown",
   "id": "6e55341e",
   "metadata": {},
   "source": [
    "# Creating the score column\n",
    "**Score = anx_level x anx_freq + deq_level x deq_freq**"
   ]
  },
  {
   "cell_type": "code",
   "execution_count": 22,
   "id": "4c242c16",
   "metadata": {},
   "outputs": [],
   "source": [
    "def mh_score(row):\n",
    "    return row['anx_level'] * row['anx_freq'] + row['dep_level'] * row['dep_freq']"
   ]
  },
  {
   "cell_type": "code",
   "execution_count": 23,
   "id": "c398fa67",
   "metadata": {},
   "outputs": [],
   "source": [
    "subset_df['score'] = subset_df.apply(mh_score, axis=1)"
   ]
  },
  {
   "cell_type": "code",
   "execution_count": 24,
   "id": "e2f1cbb9",
   "metadata": {},
   "outputs": [],
   "source": [
    "score_col = subset_df['score'] "
   ]
  },
  {
   "cell_type": "code",
   "execution_count": 25,
   "id": "13849e01",
   "metadata": {},
   "outputs": [
    {
     "data": {
      "text/plain": [
       "Text(0.5, 1.0, 'Frequency Distribution of Mental Health Score')"
      ]
     },
     "execution_count": 25,
     "metadata": {},
     "output_type": "execute_result"
    },
    {
     "data": {
      "image/png": "[encoded data removed]",
      "text/plain": [
       "<Figure size 864x576 with 1 Axes>"
      ]
     },
     "metadata": {},
     "output_type": "display_data"
    }
   ],
   "source": [
    "sns.histplot(data=subset_df, x='score', stat=\"probability\", bins=15)\n",
    "plt.title(\"Frequency Distribution of Mental Health Score\")"
   ]
  },
  {
   "cell_type": "code",
   "execution_count": 26,
   "id": "b67fe9e9",
   "metadata": {},
   "outputs": [],
   "source": [
    "# create new column using standard scaler\n",
    "subset_df['norm_score'] = sklearn.preprocessing.StandardScaler().fit_transform(subset_df['score'].to_numpy().reshape(-1,1))"
   ]
  },
  {
   "cell_type": "code",
   "execution_count": 27,
   "id": "69067886",
   "metadata": {},
   "outputs": [
    {
     "data": {
      "text/plain": [
       "Text(0.5, 1.0, 'Frequency Distribution of Normalized Mental Health Score')"
      ]
     },
     "execution_count": 27,
     "metadata": {},
     "output_type": "execute_result"
    },
    {
     "data": {
      "image/png": "[encoded data removed]",
      "text/plain": [
       "<Figure size 864x576 with 1 Axes>"
      ]
     },
     "metadata": {},
     "output_type": "display_data"
    }
   ],
   "source": [
    "sns.histplot(data=subset_df, x='norm_score', stat=\"probability\", bins=15)\n",
    "plt.title(\"Frequency Distribution of Normalized Mental Health Score\")"
   ]
  },
  {
   "cell_type": "code",
   "execution_count": 28,
   "id": "e124ba0c",
   "metadata": {},
   "outputs": [],
   "source": [
    "subset_df['mh_ever'] = subset_df['score'].apply(lambda x : x > 0)"
   ]
  },
  {
   "cell_type": "code",
   "execution_count": 29,
   "id": "c0ad2aa8",
   "metadata": {},
   "outputs": [
    {
     "data": {
      "text/plain": [
       "Text(0.5, 1.0, 'Ever Had Mental Health Issues')"
      ]
     },
     "execution_count": 29,
     "metadata": {},
     "output_type": "execute_result"
    },
    {
     "data": {
      "image/png": "[encoded data removed]",
      "text/plain": [
       "<Figure size 864x576 with 1 Axes>"
      ]
     },
     "metadata": {},
     "output_type": "display_data"
    }
   ],
   "source": [
    "sns.barplot(x=\"mh_ever\", y=\"mh_ever\", data=subset_df, estimator=lambda x: len(x) / len(subset_df) * 100, order=[True, False])\n",
    "plt.xlabel('Ever had any mental health conditions')\n",
    "plt.title('Ever Had Mental Health Issues')"
   ]
  },
  {
   "cell_type": "markdown",
   "id": "2300a863",
   "metadata": {},
   "source": [
    "# Data Analysis & Results\n",
    "# EDA"
   ]
  },
  {
   "cell_type": "code",
   "execution_count": 30,
   "id": "8ab8824c",
   "metadata": {},
   "outputs": [
    {
     "data": {
      "text/plain": [
       "Index(['urbanrural', 'age', 'sex', 'edu', 'anx_ever', 'dep_ever', 'inscov',\n",
       "       'anx_freq', 'anx_level', 'dep_freq', 'dep_level', 'orient', 'marital',\n",
       "       'income', 'bmi', 'score', 'norm_score', 'mh_ever'],\n",
       "      dtype='object')"
      ]
     },
     "execution_count": 30,
     "metadata": {},
     "output_type": "execute_result"
    }
   ],
   "source": [
    "subset_df.columns"
   ]
  },
  {
   "cell_type": "code",
   "execution_count": 31,
   "id": "19a9535c",
   "metadata": {},
   "outputs": [
    {
     "data": {
      "text/html": [
       "<div>\n",
       "<style scoped>\n",
       "    .dataframe tbody tr th:only-of-type {\n",
       "        vertical-align: middle;\n",
       "    }\n",
       "\n",
       "    .dataframe tbody tr th {\n",
       "        vertical-align: top;\n",
       "    }\n",
       "\n",
       "    .dataframe thead th {\n",
       "        text-align: right;\n",
       "    }\n",
       "</style>\n",
       "<table border=\"1\" class=\"dataframe\">\n",
       "  <thead>\n",
       "    <tr style=\"text-align: right;\">\n",
       "      <th></th>\n",
       "      <th>urbanrural</th>\n",
       "      <th>age</th>\n",
       "      <th>sex</th>\n",
       "      <th>edu</th>\n",
       "      <th>anx_ever</th>\n",
       "      <th>dep_ever</th>\n",
       "      <th>inscov</th>\n",
       "      <th>anx_freq</th>\n",
       "      <th>anx_level</th>\n",
       "      <th>dep_freq</th>\n",
       "      <th>dep_level</th>\n",
       "      <th>orient</th>\n",
       "      <th>marital</th>\n",
       "      <th>income</th>\n",
       "      <th>bmi</th>\n",
       "      <th>score</th>\n",
       "      <th>norm_score</th>\n",
       "      <th>mh_ever</th>\n",
       "    </tr>\n",
       "  </thead>\n",
       "  <tbody>\n",
       "    <tr>\n",
       "      <th>0</th>\n",
       "      <td>3</td>\n",
       "      <td>85</td>\n",
       "      <td>1</td>\n",
       "      <td>1</td>\n",
       "      <td>0</td>\n",
       "      <td>0</td>\n",
       "      <td>2</td>\n",
       "      <td>0</td>\n",
       "      <td>0.0</td>\n",
       "      <td>0</td>\n",
       "      <td>0.0</td>\n",
       "      <td>2</td>\n",
       "      <td>1</td>\n",
       "      <td>5</td>\n",
       "      <td>2</td>\n",
       "      <td>0.0</td>\n",
       "      <td>-1.034039</td>\n",
       "      <td>False</td>\n",
       "    </tr>\n",
       "    <tr>\n",
       "      <th>1</th>\n",
       "      <td>3</td>\n",
       "      <td>39</td>\n",
       "      <td>1</td>\n",
       "      <td>1</td>\n",
       "      <td>0</td>\n",
       "      <td>0</td>\n",
       "      <td>2</td>\n",
       "      <td>4</td>\n",
       "      <td>1.0</td>\n",
       "      <td>0</td>\n",
       "      <td>0.0</td>\n",
       "      <td>2</td>\n",
       "      <td>3</td>\n",
       "      <td>4</td>\n",
       "      <td>4</td>\n",
       "      <td>4.0</td>\n",
       "      <td>-0.373319</td>\n",
       "      <td>True</td>\n",
       "    </tr>\n",
       "    <tr>\n",
       "      <th>2</th>\n",
       "      <td>3</td>\n",
       "      <td>42</td>\n",
       "      <td>1</td>\n",
       "      <td>1</td>\n",
       "      <td>0</td>\n",
       "      <td>0</td>\n",
       "      <td>2</td>\n",
       "      <td>0</td>\n",
       "      <td>0.0</td>\n",
       "      <td>0</td>\n",
       "      <td>0.0</td>\n",
       "      <td>2</td>\n",
       "      <td>3</td>\n",
       "      <td>4</td>\n",
       "      <td>2</td>\n",
       "      <td>0.0</td>\n",
       "      <td>-1.034039</td>\n",
       "      <td>False</td>\n",
       "    </tr>\n",
       "    <tr>\n",
       "      <th>3</th>\n",
       "      <td>3</td>\n",
       "      <td>32</td>\n",
       "      <td>1</td>\n",
       "      <td>2</td>\n",
       "      <td>0</td>\n",
       "      <td>0</td>\n",
       "      <td>2</td>\n",
       "      <td>3</td>\n",
       "      <td>1.0</td>\n",
       "      <td>0</td>\n",
       "      <td>0.0</td>\n",
       "      <td>2</td>\n",
       "      <td>2</td>\n",
       "      <td>3</td>\n",
       "      <td>2</td>\n",
       "      <td>3.0</td>\n",
       "      <td>-0.538499</td>\n",
       "      <td>True</td>\n",
       "    </tr>\n",
       "    <tr>\n",
       "      <th>4</th>\n",
       "      <td>3</td>\n",
       "      <td>85</td>\n",
       "      <td>2</td>\n",
       "      <td>1</td>\n",
       "      <td>0</td>\n",
       "      <td>1</td>\n",
       "      <td>2</td>\n",
       "      <td>0</td>\n",
       "      <td>0.0</td>\n",
       "      <td>2</td>\n",
       "      <td>1.0</td>\n",
       "      <td>2</td>\n",
       "      <td>3</td>\n",
       "      <td>1</td>\n",
       "      <td>3</td>\n",
       "      <td>2.0</td>\n",
       "      <td>-0.703679</td>\n",
       "      <td>True</td>\n",
       "    </tr>\n",
       "  </tbody>\n",
       "</table>\n",
       "</div>"
      ],
      "text/plain": [
       "   urbanrural  age  sex  edu  anx_ever  dep_ever  inscov  anx_freq  anx_level  \\\n",
       "0           3   85    1    1         0         0       2         0        0.0   \n",
       "1           3   39    1    1         0         0       2         4        1.0   \n",
       "2           3   42    1    1         0         0       2         0        0.0   \n",
       "3           3   32    1    2         0         0       2         3        1.0   \n",
       "4           3   85    2    1         0         1       2         0        0.0   \n",
       "\n",
       "   dep_freq  dep_level  orient  marital  income  bmi  score  norm_score  \\\n",
       "0         0        0.0       2        1       5    2    0.0   -1.034039   \n",
       "1         0        0.0       2        3       4    4    4.0   -0.373319   \n",
       "2         0        0.0       2        3       4    2    0.0   -1.034039   \n",
       "3         0        0.0       2        2       3    2    3.0   -0.538499   \n",
       "4         2        1.0       2        3       1    3    2.0   -0.703679   \n",
       "\n",
       "   mh_ever  \n",
       "0    False  \n",
       "1     True  \n",
       "2    False  \n",
       "3     True  \n",
       "4     True  "
      ]
     },
     "execution_count": 31,
     "metadata": {},
     "output_type": "execute_result"
    }
   ],
   "source": [
    "subset_df.head()"
   ]
  },
  {
   "cell_type": "markdown",
   "id": "bc3572f1",
   "metadata": {},
   "source": [
    "# Depression Score"
   ]
  },
  {
   "cell_type": "code",
   "execution_count": 32,
   "id": "8ab7a568",
   "metadata": {},
   "outputs": [
    {
     "data": {
      "image/png": "[encoded data removed]",
      "text/plain": [
       "<Figure size 864x576 with 2 Axes>"
      ]
     },
     "metadata": {},
     "output_type": "display_data"
    }
   ],
   "source": [
    "fig, axes = plt.subplots(2, 1)\n",
    "fig.subplots_adjust(hspace=1, wspace=1)\n",
    "sns.histplot(data=subset_df, x='score', bins=15, kde=True, ax = axes[0], stat=\"probability\").set_ylabel('Percent')\n",
    "plt.suptitle('Depression/Anxiety Score Distribution')\n",
    "sns.boxplot(data=subset_df, x='score', ax = axes[1])\n",
    "fig.show()"
   ]
  },
  {
   "cell_type": "markdown",
   "id": "ad6188ee",
   "metadata": {},
   "source": [
    "**Distribution is severely right-skewed, which means majority of samples in the dataset has no mental health issues**"
   ]
  },
  {
   "cell_type": "code",
   "execution_count": 33,
   "id": "7a53915c",
   "metadata": {},
   "outputs": [],
   "source": [
    "def get_outliers(col):\n",
    "    IQR = col.quantile(q=0.75) - col.quantile(q=0.25)\n",
    "    return col[np.abs(col - col.mean()) > 1.5 * IQR]"
   ]
  },
  {
   "cell_type": "code",
   "execution_count": 34,
   "id": "64a442c0",
   "metadata": {},
   "outputs": [
    {
     "data": {
      "text/plain": [
       "13       20.0\n",
       "33       24.0\n",
       "42       20.0\n",
       "60       24.0\n",
       "73       24.0\n",
       "         ... \n",
       "31508    24.0\n",
       "31527    21.0\n",
       "31534    24.0\n",
       "31537    24.0\n",
       "31558    24.0\n",
       "Name: score, Length: 1228, dtype: float64"
      ]
     },
     "execution_count": 34,
     "metadata": {},
     "output_type": "execute_result"
    }
   ],
   "source": [
    "get_outliers(subset_df['score'])"
   ]
  },
  {
   "cell_type": "markdown",
   "id": "5f317b20",
   "metadata": {},
   "source": [
    "There are 1261 outliers in the 'score' column according to the 1.5*IQR rule, most of our samples are concentrated in the 0-20 range.\n",
    "So, we will decide to consider any sample with > 20 score as an outlier."
   ]
  },
  {
   "cell_type": "markdown",
   "id": "a09b5d08",
   "metadata": {},
   "source": [
    "# Age"
   ]
  },
  {
   "cell_type": "code",
   "execution_count": 35,
   "id": "a2d8b01e",
   "metadata": {},
   "outputs": [
    {
     "data": {
      "text/plain": [
       "Text(0.5, 1.0, 'Age Distribution')"
      ]
     },
     "execution_count": 35,
     "metadata": {},
     "output_type": "execute_result"
    },
    {
     "data": {
      "image/png": "[encoded data removed]",
      "text/plain": [
       "<Figure size 864x576 with 1 Axes>"
      ]
     },
     "metadata": {},
     "output_type": "display_data"
    }
   ],
   "source": [
    "ax = sns.histplot(x = 'age', data = subset_df, stat=\"probability\", bins = 15, kde=True)\n",
    "ax.set_title('Age Distribution')"
   ]
  },
  {
   "cell_type": "markdown",
   "id": "d82db987",
   "metadata": {},
   "source": [
    "The Age Distrubution is approximately a uniform distribution"
   ]
  },
  {
   "cell_type": "code",
   "execution_count": 36,
   "id": "ef90540b",
   "metadata": {},
   "outputs": [
    {
     "data": {
      "text/plain": [
       "Series([], Name: age, dtype: int64)"
      ]
     },
     "execution_count": 36,
     "metadata": {},
     "output_type": "execute_result"
    }
   ],
   "source": [
    "get_outliers(subset_df['age'])"
   ]
  },
  {
   "cell_type": "markdown",
   "id": "6c963fad",
   "metadata": {},
   "source": [
    "Using the  **1.5*IQR**  rule, the 'age' column does not seem to have any outliers."
   ]
  },
  {
   "cell_type": "markdown",
   "id": "a32f0d22",
   "metadata": {},
   "source": [
    "# Regional Information\n",
    "### Category: Urban or Rural\n",
    "Code:\n",
    "1. -->Large central metro \n",
    "2. -->Large fringe metro \n",
    "3. -->Medium and small metro \n",
    "4. -->Nonmetropolitan"
   ]
  },
  {
   "cell_type": "code",
   "execution_count": 37,
   "id": "8929afde",
   "metadata": {},
   "outputs": [
    {
     "data": {
      "text/plain": [
       "Text(0.5, 1.0, 'Urban/Rural Breakdown')"
      ]
     },
     "execution_count": 37,
     "metadata": {},
     "output_type": "execute_result"
    },
    {
     "data": {
      "image/png": "[encoded data removed]",
      "text/plain": [
       "<Figure size 864x576 with 1 Axes>"
      ]
     },
     "metadata": {},
     "output_type": "display_data"
    }
   ],
   "source": [
    "ax = sns.barplot(x=\"urbanrural\", y=\"urbanrural\", data=subset_df, estimator=lambda x: len(x) / len(subset_df) * 100)\n",
    "ax.set(ylabel=\"Percent\")\n",
    "ax.set_title('Urban/Rural Breakdown')"
   ]
  },
  {
   "cell_type": "markdown",
   "id": "a91eb56c",
   "metadata": {},
   "source": [
    "Some explaination needed"
   ]
  },
  {
   "cell_type": "markdown",
   "id": "40d493d0",
   "metadata": {},
   "source": [
    "# Gender\n",
    "### Category: Male or Female\n",
    "Code:\n",
    "* 1 --> Male\n",
    "* 2 --> Female"
   ]
  },
  {
   "cell_type": "code",
   "execution_count": 38,
   "id": "f5bc8bc3",
   "metadata": {},
   "outputs": [
    {
     "data": {
      "text/plain": [
       "Text(0.5, 1.0, 'Gender Breakdown')"
      ]
     },
     "execution_count": 38,
     "metadata": {},
     "output_type": "execute_result"
    },
    {
     "data": {
      "image/png": "[encoded data removed]",
      "text/plain": [
       "<Figure size 864x576 with 1 Axes>"
      ]
     },
     "metadata": {},
     "output_type": "display_data"
    }
   ],
   "source": [
    "ax = sns.barplot(x=\"sex\", y=\"sex\", data=subset_df, estimator=lambda x: len(x) / len(subset_df) * 100)\n",
    "ax.set(ylabel=\"Percent\")\n",
    "ax.set_title('Gender Breakdown')"
   ]
  },
  {
   "cell_type": "markdown",
   "id": "31d3de03",
   "metadata": {},
   "source": [
    "Around 47% of the survey response is **Male**, while 53% is from **Female**"
   ]
  },
  {
   "cell_type": "markdown",
   "id": "6e1fad4a",
   "metadata": {},
   "source": [
    "# Education Level\n",
    "### Category: Below Degree, Degree, Above Degree\n",
    "Code:\n",
    "* 1 --> Below Degree\n",
    "* 2 --> Bachelor's Degree\n",
    "* 3 --> Above Degree (Masters, PhD)"
   ]
  },
  {
   "cell_type": "code",
   "execution_count": 39,
   "id": "1d76f95e",
   "metadata": {},
   "outputs": [
    {
     "data": {
      "text/plain": [
       "Text(0.5, 1.0, 'Education Level Breakdown')"
      ]
     },
     "execution_count": 39,
     "metadata": {},
     "output_type": "execute_result"
    },
    {
     "data": {
      "image/png": "[encoded data removed]",
      "text/plain": [
       "<Figure size 864x576 with 1 Axes>"
      ]
     },
     "metadata": {},
     "output_type": "display_data"
    }
   ],
   "source": [
    "ax = sns.barplot(x=\"edu\", y=\"edu\", data=subset_df, estimator=lambda x: len(x) / len(subset_df) * 100)\n",
    "ax.set(ylabel=\"Percent\")\n",
    "ax.set_title('Education Level Breakdown')"
   ]
  },
  {
   "cell_type": "markdown",
   "id": "f29f8d28",
   "metadata": {},
   "source": [
    "Explanation Needed"
   ]
  },
  {
   "cell_type": "markdown",
   "id": "143c7c63",
   "metadata": {},
   "source": [
    "# Anxiety Level and Depression Level\n",
    "### Category: no anxiety, A little, A lot, Somewhere in between a little and a lot\n",
    "Code:\n",
    "* 0 --> no anxiety\n",
    "* 1 --> A little\n",
    "* 2 --> A lot\n",
    "* 3 --> Somewhere in between a little and a lot"
   ]
  },
  {
   "cell_type": "code",
   "execution_count": 40,
   "id": "3446f4ef",
   "metadata": {},
   "outputs": [
    {
     "data": {
      "image/png": "[encoded data removed]",
      "text/plain": [
       "<Figure size 864x576 with 2 Axes>"
      ]
     },
     "metadata": {},
     "output_type": "display_data"
    }
   ],
   "source": [
    "fig, axes =plt.subplots(1,2)\n",
    "fig.subplots_adjust(hspace=1, wspace=1)\n",
    "sns.barplot(x=\"anx_level\", y=\"anx_level\", data=subset_df, estimator=lambda x: len(x) / len(subset_df) * 100, ax = axes[0]).set(ylabel=\"Percent\")\n",
    "axes[0].set_title('Anxiety Level Breakdown')\n",
    "sns.barplot(x=\"dep_level\", y=\"dep_level\", data=subset_df, estimator=lambda x: len(x) / len(subset_df) * 100, ax = axes[1]).set(ylabel=\"Percent\")\n",
    "axes[1].set_title('Depression Level Breakdown')\n",
    "fig.show()"
   ]
  },
  {
   "cell_type": "markdown",
   "id": "d6613515",
   "metadata": {},
   "source": [
    "In both graphs, most people show little or no anixety/depression. However, from the Anxiety Level Breakdown plot, participants tend to be more anxious than depressesd."
   ]
  },
  {
   "cell_type": "markdown",
   "id": "f8455ab2",
   "metadata": {},
   "source": [
    "# Anxiety Frequency and Depression Frequency\n",
    "### Category: never, A few times a year, Monthly, Weekly, Daily\n",
    "Code: \n",
    "* 0 ---> never\n",
    "* 1 ---> A few times a year\n",
    "* 2 ---> Monthly\n",
    "* 3 ---> Weekly\n",
    "* 4 ---> Daily"
   ]
  },
  {
   "cell_type": "markdown",
   "id": "3b6edf9e",
   "metadata": {},
   "source": [
    "We will remove value 7, 8, 9 as it reprents 'Refused', 'Not Ascertained', 'Don't Know' which does not account to the problem we are trying to solve."
   ]
  },
  {
   "cell_type": "code",
   "execution_count": 41,
   "id": "64150a64",
   "metadata": {},
   "outputs": [
    {
     "data": {
      "image/png": "[encoded data removed]",
      "text/plain": [
       "<Figure size 864x576 with 2 Axes>"
      ]
     },
     "metadata": {},
     "output_type": "display_data"
    }
   ],
   "source": [
    "fig, axes =plt.subplots(1,2)\n",
    "fig.subplots_adjust(hspace=1, wspace=1)\n",
    "\n",
    "sns.barplot(x=\"anx_freq\", y=\"anx_freq\", data=subset_df, estimator=lambda x: len(x) / len(subset_df) * 100, ax = axes[0]).set(ylabel=\"Percent\")\n",
    "axes[0].set_title('Anxiety Frequency')\n",
    "sns.barplot(x=\"dep_freq\", y=\"dep_freq\", data=subset_df, estimator=lambda x: len(x) / len(subset_df) * 100, ax = axes[1]).set(ylabel=\"Percent\")\n",
    "axes[1].set_title('Depression Frequency')\n",
    "fig.show()"
   ]
  },
  {
   "cell_type": "markdown",
   "id": "1fd49bfd",
   "metadata": {},
   "source": [
    "From the plots, we can deduce that majority of the  participants does not experience anxiety or depression. Instead, there are more people reportedly feeling anxious when compared to those who are feeling depressed. Anxiety Frequency plot is a bimodal distribution, while Depresion Frequency plot is also slight considered a bimodal distribution and slightly right-skewed."
   ]
  },
  {
   "cell_type": "markdown",
   "id": "f2c3e5fc",
   "metadata": {},
   "source": [
    "# Insurance Coverage\n",
    "### Category: Covered or Not Covered\n",
    "Code:\n",
    "* 1 ---> not covered\n",
    "* 2 ---> covered"
   ]
  },
  {
   "cell_type": "code",
   "execution_count": 42,
   "id": "efdf0892",
   "metadata": {},
   "outputs": [
    {
     "data": {
      "text/plain": [
       "Text(0.5, 1.0, 'Medical Insurance Coverage')"
      ]
     },
     "execution_count": 42,
     "metadata": {},
     "output_type": "execute_result"
    },
    {
     "data": {
      "image/png": "[encoded data removed]",
      "text/plain": [
       "<Figure size 864x576 with 1 Axes>"
      ]
     },
     "metadata": {},
     "output_type": "display_data"
    }
   ],
   "source": [
    "ax_ins = sns.barplot(x=\"inscov\", y=\"inscov\", data=subset_df, estimator=lambda x: len(x) / len(subset_df) * 100)\n",
    "ax_ins.set(ylabel=\"Percent\", xlabel = 'insurance coverage')\n",
    "ax_ins.set_title('Medical Insurance Coverage')"
   ]
  },
  {
   "cell_type": "markdown",
   "id": "e9c49b4c",
   "metadata": {},
   "source": [
    "From the plot, it is clear that vast majority of samples have insurance covered. Thus, it might be a huge factor on why there are less samples having anxiety or depression."
   ]
  },
  {
   "cell_type": "markdown",
   "id": "a893417c",
   "metadata": {},
   "source": [
    "# Sexual Orientation\n",
    "### Cateogry: Gay/Lesbian, Straight, Bisexual, Something else\n",
    "Code:\n",
    "* 1 ---> Gay/Lesbian\n",
    "* 2 ---> Straight\n",
    "* 3 ---> Bisexual\n",
    "* 4 ---> Something else"
   ]
  },
  {
   "cell_type": "code",
   "execution_count": 43,
   "id": "18ec21c6",
   "metadata": {},
   "outputs": [
    {
     "data": {
      "text/plain": [
       "Text(0.5, 1.0, 'Sexual Orientation Breakdown')"
      ]
     },
     "execution_count": 43,
     "metadata": {},
     "output_type": "execute_result"
    },
    {
     "data": {
      "image/png": "[encoded data removed]",
      "text/plain": [
       "<Figure size 864x576 with 1 Axes>"
      ]
     },
     "metadata": {},
     "output_type": "display_data"
    }
   ],
   "source": [
    "ax = sns.barplot(x=\"orient\", y=\"orient\", data=subset_df, estimator=lambda x: len(x) / len(subset_df) * 100)\n",
    "ax.set(ylabel=\"Percent\")\n",
    "ax.set_title('Sexual Orientation Breakdown')"
   ]
  },
  {
   "cell_type": "markdown",
   "id": "9bef352d",
   "metadata": {},
   "source": [
    "From the plot, we can observe that more than 90% of samples are straight, LGBTQ individuals are higher risk of experiencing poor mental health. According to [source](https://www.mentalhealth.org.uk/statistics/mental-health-statistics-lgbtiq-people). "
   ]
  },
  {
   "cell_type": "markdown",
   "id": "9000e37f",
   "metadata": {},
   "source": [
    "# Marital\n",
    "### Category: Married, Living with partner together as unmarried couple, Neither\n",
    "Code:\n",
    "* 1 ---> married\n",
    "* 2 ---> living with partner together as unmarried couple\n",
    "* 3 ---> Neither"
   ]
  },
  {
   "cell_type": "code",
   "execution_count": 44,
   "id": "3a6522a8",
   "metadata": {},
   "outputs": [
    {
     "data": {
      "text/plain": [
       "Text(0.5, 1.0, 'Marital Status Breakdown')"
      ]
     },
     "execution_count": 44,
     "metadata": {},
     "output_type": "execute_result"
    },
    {
     "data": {
      "image/png": "[encoded data removed]",
      "text/plain": [
       "<Figure size 864x576 with 1 Axes>"
      ]
     },
     "metadata": {},
     "output_type": "display_data"
    }
   ],
   "source": [
    "ax_marital = sns.barplot(x=\"marital\", y=\"marital\", data=subset_df, estimator=lambda x: len(x) / len(subset_df) * 100)\n",
    "ax_marital.set(ylabel=\"Percent\")\n",
    "ax_marital.set_title('Marital Status Breakdown')"
   ]
  },
  {
   "cell_type": "markdown",
   "id": "6b5c8c1d",
   "metadata": {},
   "source": [
    "From the plot, married category is almost equal to neither(single/divorced) category. Based on [sources](https://www.sciencedirect.com/science/article/pii/S2352827321000495), being single and being divorced were found to be risk factors for depressive symptoms and lower self-esteem."
   ]
  },
  {
   "cell_type": "markdown",
   "id": "326b1ab8",
   "metadata": {},
   "source": [
    "# Income\n",
    "### Discription: adult family income (grouped)\n",
    "Code:\n",
    "* 1 --> $0 to 34,999\n",
    "\n",
    "* 2 --> $35,000 to 49,999\n",
    "\n",
    "* 3 --> $50,000 to 74,999\n",
    "\n",
    "* 4 --> $75,000 to 99,999\n",
    "\n",
    "* 5 --> $100,000 or greater"
   ]
  },
  {
   "cell_type": "code",
   "execution_count": 45,
   "id": "1fdfc922",
   "metadata": {},
   "outputs": [
    {
     "data": {
      "text/plain": [
       "Text(0.5, 1.0, 'Household Income Breakdown')"
      ]
     },
     "execution_count": 45,
     "metadata": {},
     "output_type": "execute_result"
    },
    {
     "data": {
      "image/png": "[encoded data removed]",
      "text/plain": [
       "<Figure size 864x576 with 1 Axes>"
      ]
     },
     "metadata": {},
     "output_type": "display_data"
    }
   ],
   "source": [
    "ax_income = sns.barplot(x=\"income\", y=\"income\", data=subset_df, estimator=lambda x: len(x) / len(subset_df) * 100)\n",
    "ax_income.set(ylabel=\"Percent\")\n",
    "ax_income.set_title('Household Income Breakdown')"
   ]
  },
  {
   "cell_type": "markdown",
   "id": "f06b6b4c",
   "metadata": {},
   "source": [
    "Income should be a bigger factor contibuting to mental health of individuals, the plot above represents a bimodal distribution, with majority of the percentages gathered in the poorest and richest group of families. "
   ]
  },
  {
   "cell_type": "markdown",
   "id": "8a9cb019",
   "metadata": {},
   "source": [
    "# BMI\n",
    "### Category : Underweight, Healthy weight, Overweight, Obese\n",
    "Code: \n",
    "* 1-->Underweight\n",
    "* 2-->Healthy weight\n",
    "* 3-->Overweight\n",
    "* 4-->Obese"
   ]
  },
  {
   "cell_type": "code",
   "execution_count": 46,
   "id": "d47fc5b5",
   "metadata": {},
   "outputs": [
    {
     "data": {
      "text/plain": [
       "Text(0.5, 1.0, 'BMI Breakdown')"
      ]
     },
     "execution_count": 46,
     "metadata": {},
     "output_type": "execute_result"
    },
    {
     "data": {
      "image/png": "[encoded data removed]",
      "text/plain": [
       "<Figure size 864x576 with 1 Axes>"
      ]
     },
     "metadata": {},
     "output_type": "display_data"
    }
   ],
   "source": [
    "ax_bmi = sns.barplot(x=\"bmi\", y=\"bmi\", data=subset_df, estimator=lambda x: len(x) / len(subset_df) * 100)\n",
    "ax_bmi.set(ylabel=\"Percent\")\n",
    "ax_bmi.set_title('BMI Breakdown')"
   ]
  },
  {
   "cell_type": "markdown",
   "id": "7dc2c834",
   "metadata": {},
   "source": [
    "From the graph, we can deduce that a vast majority of samples are either overweight or obese, thus indicating a major problem in the dataset we are using.\n",
    "Based on the [source](https://www.goodrx.com/well-being/healthy-mind/obesity-and-mental-health), obesity is linked to mood and anxiety disorders."
   ]
  },
  {
   "cell_type": "markdown",
   "id": "2b6c9831",
   "metadata": {},
   "source": [
    "# Relationship between Variables and Depression Score"
   ]
  },
  {
   "cell_type": "markdown",
   "id": "9658c061",
   "metadata": {},
   "source": [
    "### Correlation coefficient for Depression Score"
   ]
  },
  {
   "cell_type": "code",
   "execution_count": 47,
   "id": "64e0735a",
   "metadata": {},
   "outputs": [
    {
     "data": {
      "text/plain": [
       "urbanrural   -0.008825\n",
       "age          -0.106128\n",
       "sex           0.120152\n",
       "edu           0.034687\n",
       "anx_ever      0.185216\n",
       "dep_ever      0.245932\n",
       "inscov       -0.009074\n",
       "anx_freq      0.572810\n",
       "anx_level     0.775975\n",
       "dep_freq      0.694935\n",
       "dep_level     0.747250\n",
       "orient        0.013664\n",
       "marital       0.052902\n",
       "income       -0.024318\n",
       "bmi           0.013394\n",
       "score         1.000000\n",
       "norm_score    1.000000\n",
       "mh_ever       0.633402\n",
       "Name: score, dtype: float64"
      ]
     },
     "execution_count": 47,
     "metadata": {},
     "output_type": "execute_result"
    }
   ],
   "source": [
    "subset_df.corr()['score']"
   ]
  },
  {
   "cell_type": "markdown",
   "id": "249a3a64",
   "metadata": {},
   "source": [
    "### Relationship between Income and Depression Score"
   ]
  },
  {
   "cell_type": "code",
   "execution_count": 48,
   "id": "823d4ef8",
   "metadata": {},
   "outputs": [
    {
     "data": {
      "text/html": [
       "<div>\n",
       "<style scoped>\n",
       "    .dataframe tbody tr th:only-of-type {\n",
       "        vertical-align: middle;\n",
       "    }\n",
       "\n",
       "    .dataframe tbody tr th {\n",
       "        vertical-align: top;\n",
       "    }\n",
       "\n",
       "    .dataframe thead th {\n",
       "        text-align: right;\n",
       "    }\n",
       "</style>\n",
       "<table border=\"1\" class=\"dataframe\">\n",
       "  <thead>\n",
       "    <tr style=\"text-align: right;\">\n",
       "      <th></th>\n",
       "      <th>income</th>\n",
       "      <th>score</th>\n",
       "    </tr>\n",
       "  </thead>\n",
       "  <tbody>\n",
       "    <tr>\n",
       "      <th>income</th>\n",
       "      <td>1.000000</td>\n",
       "      <td>-0.024318</td>\n",
       "    </tr>\n",
       "    <tr>\n",
       "      <th>score</th>\n",
       "      <td>-0.024318</td>\n",
       "      <td>1.000000</td>\n",
       "    </tr>\n",
       "  </tbody>\n",
       "</table>\n",
       "</div>"
      ],
      "text/plain": [
       "          income     score\n",
       "income  1.000000 -0.024318\n",
       "score  -0.024318  1.000000"
      ]
     },
     "execution_count": 48,
     "metadata": {},
     "output_type": "execute_result"
    }
   ],
   "source": [
    "income_score = subset_df[['income', 'score']].copy()\n",
    "income_score.corr()"
   ]
  },
  {
   "cell_type": "code",
   "execution_count": 49,
   "id": "45708e21",
   "metadata": {},
   "outputs": [
    {
     "data": {
      "text/plain": [
       "<seaborn.axisgrid.FacetGrid at 0x277d0f478e0>"
      ]
     },
     "execution_count": 49,
     "metadata": {},
     "output_type": "execute_result"
    },
    {
     "data": {
      "image/png": "[encoded data removed]",
      "text/plain": [
       "<Figure size 360x360 with 1 Axes>"
      ]
     },
     "metadata": {},
     "output_type": "display_data"
    }
   ],
   "source": [
    "\n",
    "sns.catplot(x=\"income\", y=\"score\", kind=\"box\", data=subset_df)"
   ]
  },
  {
   "cell_type": "markdown",
   "id": "eb9951ab",
   "metadata": {},
   "source": [
    "From the boxplot above, we can observe that lower income group tend to have higher depression score and as income increase, lesser samples have higher mental risks. Boxplot from 2 to 5 have similar meidan indicating that they have similar depression score distribution in the lower 50 percentile"
   ]
  },
  {
   "cell_type": "markdown",
   "id": "4643abde",
   "metadata": {},
   "source": [
    "### Relationship between BMI and Depression Score"
   ]
  },
  {
   "cell_type": "code",
   "execution_count": 50,
   "id": "ac3fdc54",
   "metadata": {},
   "outputs": [
    {
     "data": {
      "text/html": [
       "<div>\n",
       "<style scoped>\n",
       "    .dataframe tbody tr th:only-of-type {\n",
       "        vertical-align: middle;\n",
       "    }\n",
       "\n",
       "    .dataframe tbody tr th {\n",
       "        vertical-align: top;\n",
       "    }\n",
       "\n",
       "    .dataframe thead th {\n",
       "        text-align: right;\n",
       "    }\n",
       "</style>\n",
       "<table border=\"1\" class=\"dataframe\">\n",
       "  <thead>\n",
       "    <tr style=\"text-align: right;\">\n",
       "      <th></th>\n",
       "      <th>bmi</th>\n",
       "      <th>score</th>\n",
       "    </tr>\n",
       "  </thead>\n",
       "  <tbody>\n",
       "    <tr>\n",
       "      <th>bmi</th>\n",
       "      <td>1.000000</td>\n",
       "      <td>0.013394</td>\n",
       "    </tr>\n",
       "    <tr>\n",
       "      <th>score</th>\n",
       "      <td>0.013394</td>\n",
       "      <td>1.000000</td>\n",
       "    </tr>\n",
       "  </tbody>\n",
       "</table>\n",
       "</div>"
      ],
      "text/plain": [
       "            bmi     score\n",
       "bmi    1.000000  0.013394\n",
       "score  0.013394  1.000000"
      ]
     },
     "execution_count": 50,
     "metadata": {},
     "output_type": "execute_result"
    }
   ],
   "source": [
    "bmi_dep = subset_df[['bmi', 'score']].copy()\n",
    "bmi_dep.corr()"
   ]
  },
  {
   "cell_type": "code",
   "execution_count": 51,
   "id": "ac1bd6e7",
   "metadata": {},
   "outputs": [
    {
     "data": {
      "text/plain": [
       "<seaborn.axisgrid.FacetGrid at 0x277d19c64c0>"
      ]
     },
     "execution_count": 51,
     "metadata": {},
     "output_type": "execute_result"
    },
    {
     "data": {
      "image/png": "[encoded data removed]",
      "text/plain": [
       "<Figure size 360x360 with 1 Axes>"
      ]
     },
     "metadata": {},
     "output_type": "display_data"
    }
   ],
   "source": [
    "sns.catplot(x=\"bmi\", y=\"score\", kind=\"box\", data=subset_df)"
   ]
  },
  {
   "cell_type": "markdown",
   "id": "a195374a",
   "metadata": {},
   "source": [
    "From the boxplots above, samples that are obese have have higer depression score, which is logical."
   ]
  },
  {
   "cell_type": "markdown",
   "id": "20448558",
   "metadata": {},
   "source": [
    "### Relationship between Gender and Depression Score"
   ]
  },
  {
   "cell_type": "code",
   "execution_count": 52,
   "id": "2bf4b44c",
   "metadata": {},
   "outputs": [],
   "source": [
    "male_mh_score = subset_df[subset_df['sex'] == 1]['score']\n",
    "female_mh_score = subset_df[subset_df['sex'] == 2]['score']"
   ]
  },
  {
   "cell_type": "code",
   "execution_count": 53,
   "id": "fdd96ee4",
   "metadata": {},
   "outputs": [
    {
     "data": {
      "text/plain": [
       "Text(0.5, 1.0, 'Depression score by gender')"
      ]
     },
     "execution_count": 53,
     "metadata": {},
     "output_type": "execute_result"
    },
    {
     "data": {
      "image/png": "[encoded data removed]",
      "text/plain": [
       "<Figure size 360x360 with 1 Axes>"
      ]
     },
     "metadata": {},
     "output_type": "display_data"
    }
   ],
   "source": [
    "sns.catplot(kind='box', x='sex',y='score',data=subset_df)\n",
    "ax = plt.gca()\n",
    "ax.set_xticklabels(labels=['Male','Female'])\n",
    "plt.title('Depression score by gender')"
   ]
  },
  {
   "cell_type": "markdown",
   "id": "bdfde942",
   "metadata": {},
   "source": [
    "The above boxplot indicates that Female samples have a higher depression score compared to male samples, this is logical and somewhat accurate based on the [source](https://www.apa.org/news/press/releases/2011/08/mental-illness).\n",
    "To find find out whether there is a significant difference statiscally, we will use an independent samples t test."
   ]
  },
  {
   "cell_type": "code",
   "execution_count": 54,
   "id": "3a185507",
   "metadata": {},
   "outputs": [
    {
     "data": {
      "text/plain": [
       "(-20.626062355180366, 3.77383251807867e-94, 29044.0)"
      ]
     },
     "execution_count": 54,
     "metadata": {},
     "output_type": "execute_result"
    }
   ],
   "source": [
    "sm.stats.ttest_ind(male_mh_score, female_mh_score, alternative='smaller')"
   ]
  },
  {
   "cell_type": "markdown",
   "id": "af9e79f5",
   "metadata": {},
   "source": [
    "With a p value in the order of 10e-94, we can see that the difference between male and female depression score is significant. Females generally have worse mental conditions than males."
   ]
  },
  {
   "cell_type": "markdown",
   "id": "e5fc2027",
   "metadata": {},
   "source": [
    "### Relationships between Sexual Orientation and Depression Score"
   ]
  },
  {
   "cell_type": "markdown",
   "id": "fbf8bd05",
   "metadata": {},
   "source": [
    "Since we have 4 category for Sexual Orientation (Gay/Lesbian, Straight, Bisexual, Something else). We will sort them with a new column 'LGBTQ' into binary varaible: LGBTQ or Non-LBGTQ."
   ]
  },
  {
   "cell_type": "code",
   "execution_count": 55,
   "id": "b18ca26a",
   "metadata": {},
   "outputs": [],
   "source": [
    "LGBTQ_score = subset_df[subset_df['orient'] != 2]['score']\n",
    "non_LGBTQ_score = subset_df[subset_df['orient'] == 2]['score']"
   ]
  },
  {
   "cell_type": "code",
   "execution_count": 56,
   "id": "bab73923",
   "metadata": {},
   "outputs": [],
   "source": [
    "# create new binary variable based on LGBTQ or straight\n",
    "subset_df['lgbt'] = subset_df['orient'].apply(lambda x : 1 if x != 2 else 0)"
   ]
  },
  {
   "cell_type": "code",
   "execution_count": 57,
   "id": "63d063ff",
   "metadata": {},
   "outputs": [
    {
     "data": {
      "text/plain": [
       "Text(0.5, 1.0, 'Depression Score by Sexual Orientation')"
      ]
     },
     "execution_count": 57,
     "metadata": {},
     "output_type": "execute_result"
    },
    {
     "data": {
      "image/png": "[encoded data removed]",
      "text/plain": [
       "<Figure size 864x576 with 1 Axes>"
      ]
     },
     "metadata": {},
     "output_type": "display_data"
    }
   ],
   "source": [
    "# A boxplot between LGBTQ and Depression Score\n",
    "sns.boxplot(x='lgbt', y='score', data=subset_df)\n",
    "ax = plt.gca()\n",
    "ax.set_xticklabels(['Straight', 'LGBTQ'])\n",
    "ax.set_xlabel('')\n",
    "plt.title(\"Depression Score by Sexual Orientation\")"
   ]
  },
  {
   "cell_type": "markdown",
   "id": "0292204f",
   "metadata": {},
   "source": [
    "From the boxplot, we can observe that the LGBTQ group have higher depression score(higher median, 25 percentile, 75 percentile) compared to Stright group\n",
    "We will use independent t test again to find out the statistical difference."
   ]
  },
  {
   "cell_type": "code",
   "execution_count": 58,
   "id": "5f73a5d1",
   "metadata": {},
   "outputs": [
    {
     "data": {
      "text/plain": [
       "(11.8132621150664, 1.9747205199369769e-32)"
      ]
     },
     "execution_count": 58,
     "metadata": {},
     "output_type": "execute_result"
    }
   ],
   "source": [
    "t, p, dof = sm.stats.ttest_ind(LGBTQ_score, non_LGBTQ_score, alternative='larger')\n",
    "t, p"
   ]
  },
  {
   "cell_type": "markdown",
   "id": "bb1dbd27",
   "metadata": {},
   "source": [
    "The p-value we got is very small, thus suggesting that the difference is statistically significant. The LGBTQ group does appear to have a higher mean depression score than straight group"
   ]
  },
  {
   "cell_type": "markdown",
   "id": "44fca4bb",
   "metadata": {},
   "source": [
    "### Relationship between BMI (body weight) and Depression Score"
   ]
  },
  {
   "cell_type": "markdown",
   "id": "684414b5",
   "metadata": {},
   "source": [
    "In the EDA section, we explored the relationship between BMI and mental health score. We hypothesized that underweight and overweight people are more likely (i.e. has higher depression score than) people with normal bodyweight."
   ]
  },
  {
   "cell_type": "code",
   "execution_count": 59,
   "id": "1057c925",
   "metadata": {},
   "outputs": [],
   "source": [
    "underweight_scores = subset_df[subset_df['bmi'] == 1]['score']\n",
    "normal_scores = subset_df[(subset_df['bmi'] == 2)]['score']\n",
    "overweight_scores = subset_df[(subset_df['bmi'] == 4)| (subset_df['bmi'] == 3)]['score']"
   ]
  },
  {
   "cell_type": "code",
   "execution_count": 60,
   "id": "fc720bd8",
   "metadata": {},
   "outputs": [
    {
     "data": {
      "text/plain": [
       "Text(0.5, 1.0, 'Depression Score by Bodyweight')"
      ]
     },
     "execution_count": 60,
     "metadata": {},
     "output_type": "execute_result"
    },
    {
     "data": {
      "image/png": "[encoded data removed]",
      "text/plain": [
       "<Figure size 864x576 with 1 Axes>"
      ]
     },
     "metadata": {},
     "output_type": "display_data"
    }
   ],
   "source": [
    "sns.boxplot(x='bmi', y='score', data=subset_df)\n",
    "ax = plt.gca()\n",
    "ax.set_xticklabels(['Underweight', 'Normal Weight', 'Obese', 'Overweight'])\n",
    "ax.set_xlabel('')\n",
    "plt.title(\"Depression Score by Bodyweight\")"
   ]
  },
  {
   "cell_type": "markdown",
   "id": "39767044",
   "metadata": {},
   "source": [
    "From the boxplots, we can point out that samples that are overweight have higher depression score(median and 75 percentile) while underweight have a higher 25 percentile compared to the rest of the boxplots. Thus, it present evidence to our hypothesis. "
   ]
  },
  {
   "cell_type": "markdown",
   "id": "2c70dc11",
   "metadata": {},
   "source": [
    "### Relationship between Income and Depression Score"
   ]
  },
  {
   "cell_type": "code",
   "execution_count": 61,
   "id": "817bc5db",
   "metadata": {},
   "outputs": [
    {
     "data": {
      "text/html": [
       "<div>\n",
       "<style scoped>\n",
       "    .dataframe tbody tr th:only-of-type {\n",
       "        vertical-align: middle;\n",
       "    }\n",
       "\n",
       "    .dataframe tbody tr th {\n",
       "        vertical-align: top;\n",
       "    }\n",
       "\n",
       "    .dataframe thead th {\n",
       "        text-align: right;\n",
       "    }\n",
       "</style>\n",
       "<table border=\"1\" class=\"dataframe\">\n",
       "  <thead>\n",
       "    <tr style=\"text-align: right;\">\n",
       "      <th></th>\n",
       "      <th>income</th>\n",
       "      <th>score</th>\n",
       "    </tr>\n",
       "  </thead>\n",
       "  <tbody>\n",
       "    <tr>\n",
       "      <th>income</th>\n",
       "      <td>1.000000</td>\n",
       "      <td>-0.024318</td>\n",
       "    </tr>\n",
       "    <tr>\n",
       "      <th>score</th>\n",
       "      <td>-0.024318</td>\n",
       "      <td>1.000000</td>\n",
       "    </tr>\n",
       "  </tbody>\n",
       "</table>\n",
       "</div>"
      ],
      "text/plain": [
       "          income     score\n",
       "income  1.000000 -0.024318\n",
       "score  -0.024318  1.000000"
      ]
     },
     "execution_count": 61,
     "metadata": {},
     "output_type": "execute_result"
    }
   ],
   "source": [
    "income_score = subset_df[['income', 'score']].copy()\n",
    "income_score.corr()"
   ]
  },
  {
   "cell_type": "code",
   "execution_count": 62,
   "id": "b26aff1f",
   "metadata": {},
   "outputs": [
    {
     "data": {
      "text/plain": [
       "<seaborn.axisgrid.FacetGrid at 0x277d1014160>"
      ]
     },
     "execution_count": 62,
     "metadata": {},
     "output_type": "execute_result"
    },
    {
     "data": {
      "image/png": "[encoded data removed]",
      "text/plain": [
       "<Figure size 360x360 with 1 Axes>"
      ]
     },
     "metadata": {},
     "output_type": "display_data"
    }
   ],
   "source": [
    "sns.catplot(x=\"income\", y=\"score\", kind=\"box\", data=subset_df)"
   ]
  },
  {
   "cell_type": "markdown",
   "id": "0e583457",
   "metadata": {},
   "source": [
    "Our expections is that higher income will yield lower depression score. To test this, we wil use one way ANOVA to test for mean difference. **(One-way analysis of variance is a technique that can be used to compare whether two sample's means are significantly different or not.)**"
   ]
  },
  {
   "cell_type": "code",
   "execution_count": 63,
   "id": "3d287e8b",
   "metadata": {},
   "outputs": [
    {
     "data": {
      "text/plain": [
       "F_onewayResult(statistic=5.035287571820111, pvalue=0.0004696961648013117)"
      ]
     },
     "execution_count": 63,
     "metadata": {},
     "output_type": "execute_result"
    }
   ],
   "source": [
    "# aggregate score by income groups, then conduct one way ANOVA\n",
    "income_groups = subset_df.groupby('income').agg(list)['score']\n",
    "\n",
    "scipy.stats.f_oneway(*income_groups)"
   ]
  },
  {
   "cell_type": "markdown",
   "id": "b3a15643",
   "metadata": {},
   "source": [
    "We have a very small p-value, we have strong evidence that depression scores is not the same across all income groups. To further confirm this claim, we will conduct a pairwise Tukey's HSD test. **(Tukey's HSD test, is a single-step multiple comparison procedure and statistical test. It can be used to find means that are significantly different from each other.)**"
   ]
  },
  {
   "cell_type": "code",
   "execution_count": 64,
   "id": "db131c9b",
   "metadata": {},
   "outputs": [
    {
     "name": "stdout",
     "output_type": "stream",
     "text": [
      "Multiple Comparison of Means - Tukey HSD, FWER=0.05 \n",
      "====================================================\n",
      "group1 group2 meandiff p-adj   lower   upper  reject\n",
      "----------------------------------------------------\n",
      "     1      2   -0.266 0.1906 -0.6002  0.0682  False\n",
      "     1      3  -0.1709 0.5177 -0.4689  0.1271  False\n",
      "     1      4  -0.3779 0.0152 -0.7077 -0.0482   True\n",
      "     1      5  -0.3956  0.001 -0.6559 -0.1354   True\n",
      "     2      3   0.0952    0.9 -0.2596  0.4499  False\n",
      "     2      4  -0.1119    0.9 -0.4937  0.2699  False\n",
      "     2      5  -0.1296 0.7855 -0.4533  0.1941  False\n",
      "     3      4  -0.2071 0.4902 -0.5576  0.1435  False\n",
      "     3      5  -0.2248  0.202 -0.5109  0.0614  False\n",
      "     4      5  -0.0177    0.9 -0.3368  0.3014  False\n",
      "----------------------------------------------------\n"
     ]
    }
   ],
   "source": [
    "print(pairwise_tukeyhsd(subset_df['score'], subset_df['income']))"
   ]
  },
  {
   "cell_type": "markdown",
   "id": "89b8fbae",
   "metadata": {},
   "source": [
    "It appears that the mean differences for (group 1 and 4) and (group 1 and 5) are statistically significant, while the others have quite similar mean depression scores."
   ]
  },
  {
   "cell_type": "markdown",
   "id": "780af2d5",
   "metadata": {},
   "source": [
    "### Relationship between Household and Depression Score"
   ]
  },
  {
   "cell_type": "markdown",
   "id": "5c58a9dc",
   "metadata": {},
   "source": [
    "Household location is another potential predictor of mental health. Here, we expect that people who live in large urban areas are more likely to have mental health issues than people who live in rural areas due to their fast-paced lifestyles. We have 5 classes of household location. Here, we cast them into a binary variable of urban or rural."
   ]
  },
  {
   "cell_type": "code",
   "execution_count": 65,
   "id": "2885167c",
   "metadata": {},
   "outputs": [],
   "source": [
    "subset_df['urban'] = subset_df['urbanrural'].apply(lambda x : x != 4)\n",
    "rural_scores = subset_df[subset_df['urbanrural'] == 4]['score']\n",
    "urban_scores = subset_df[subset_df['urbanrural'] != 4]['score']"
   ]
  },
  {
   "cell_type": "code",
   "execution_count": 66,
   "id": "7dafc7e6",
   "metadata": {},
   "outputs": [
    {
     "data": {
      "image/png": "[encoded data removed]",
      "text/plain": [
       "<Figure size 864x576 with 2 Axes>"
      ]
     },
     "metadata": {},
     "output_type": "display_data"
    }
   ],
   "source": [
    "# display mental health score between urban and rural populations\n",
    "f, a = plt.subplots(1,2)\n",
    "a = a.flatten()\n",
    "a[0].boxplot(rural_scores)\n",
    "a[0].set_xticklabels(\"\")\n",
    "a[0].set_title('Rural Population')\n",
    "a[0].set_ylabel('Depression Score')\n",
    "a[1].boxplot(urban_scores)\n",
    "a[1].set_xticklabels(\"\")\n",
    "a[1].set_ylabel('Depression Score')\n",
    "a[1].set_title('Urban Population')\n",
    "plt.tight_layout()"
   ]
  },
  {
   "cell_type": "markdown",
   "id": "216124bb",
   "metadata": {},
   "source": [
    "The boxplots above seems to contradicts our assumptions, rural groups seems to have higher dpression score."
   ]
  },
  {
   "cell_type": "markdown",
   "id": "0ec8b925",
   "metadata": {},
   "source": [
    "# Machine Learning"
   ]
  },
  {
   "cell_type": "markdown",
   "id": "3e673ea4",
   "metadata": {},
   "source": [
    "In this section, we employ machine learning to see that if we can effectively predict mental health score using socio-demographics information. To do this, we frame both a regression and a classification task. For regression, we aim to directly predict mental health score, which is a continuous variable. For classification task, we split the dataset into score < 4.0 (median score) and score > 4.0 category, yielding a balanced classification task. We also introduce another classification task that predicts between score = 0 and score > 0, which is slightly unbalanced but is more meaningful in predicting whether people has any mental health condition than using median threshold."
   ]
  },
  {
   "cell_type": "code",
   "execution_count": 67,
   "id": "9141d987",
   "metadata": {},
   "outputs": [
    {
     "data": {
      "text/plain": [
       "count    29046.000000\n",
       "mean         6.260070\n",
       "std          6.054101\n",
       "min          0.000000\n",
       "25%          0.000000\n",
       "50%          4.000000\n",
       "75%          9.000000\n",
       "max         24.000000\n",
       "Name: score, dtype: float64"
      ]
     },
     "execution_count": 67,
     "metadata": {},
     "output_type": "execute_result"
    }
   ],
   "source": [
    "subset_df['score'].describe()"
   ]
  },
  {
   "cell_type": "markdown",
   "id": "03734b21",
   "metadata": {},
   "source": [
    "### Splitting the data and target\n",
    "* X = features\n",
    "* Y = target"
   ]
  },
  {
   "cell_type": "code",
   "execution_count": 68,
   "id": "f341ef80",
   "metadata": {},
   "outputs": [],
   "source": [
    "cols = ['age', 'income', 'inscov', 'urban', 'sex', 'edu','lgbt','bmi','marital']\n",
    "X = subset_df[cols]\n",
    "Y = subset_df['score']"
   ]
  },
  {
   "cell_type": "code",
   "execution_count": 69,
   "id": "6c8e8c81",
   "metadata": {},
   "outputs": [
    {
     "name": "stdout",
     "output_type": "stream",
     "text": [
      "       age  income  inscov  urban  sex  edu  lgbt  bmi  marital\n",
      "0       85       5       2   True    1    1     0    2        1\n",
      "1       39       4       2   True    1    1     0    4        3\n",
      "2       42       4       2   True    1    1     0    2        3\n",
      "3       32       3       2   True    1    2     0    2        2\n",
      "4       85       1       2   True    2    1     0    3        3\n",
      "...    ...     ...     ...    ...  ...  ...   ...  ...      ...\n",
      "31562   43       3       2  False    2    2     0    4        1\n",
      "31563   59       4       2  False    1    2     0    3        1\n",
      "31564   55       3       2  False    2    2     0    4        1\n",
      "31565   66       1       2  False    2    1     0    4        3\n",
      "31566   37       3       2  False    2    1     0    4        1\n",
      "\n",
      "[29046 rows x 9 columns]\n"
     ]
    }
   ],
   "source": [
    "print(X)"
   ]
  },
  {
   "cell_type": "code",
   "execution_count": 70,
   "id": "0aa31970",
   "metadata": {},
   "outputs": [
    {
     "name": "stdout",
     "output_type": "stream",
     "text": [
      "0         0.0\n",
      "1         4.0\n",
      "2         0.0\n",
      "3         3.0\n",
      "4         2.0\n",
      "         ... \n",
      "31562    12.0\n",
      "31563     8.0\n",
      "31564     8.0\n",
      "31565    12.0\n",
      "31566    14.0\n",
      "Name: score, Length: 29046, dtype: float64\n"
     ]
    }
   ],
   "source": [
    "print(Y)"
   ]
  },
  {
   "cell_type": "markdown",
   "id": "320ad780",
   "metadata": {},
   "source": [
    "### Splitting Training and Test data"
   ]
  },
  {
   "cell_type": "code",
   "execution_count": 71,
   "id": "d6adfa2e",
   "metadata": {},
   "outputs": [],
   "source": [
    "X_train, X_test, Y_train, Y_test = train_test_split(X, Y, test_size = 0.2, random_state=2)"
   ]
  },
  {
   "cell_type": "code",
   "execution_count": 72,
   "id": "447be5fb",
   "metadata": {},
   "outputs": [
    {
     "name": "stdout",
     "output_type": "stream",
     "text": [
      "(29046, 9) (23236, 9) (5810, 9)\n"
     ]
    }
   ],
   "source": [
    "print(X.shape, X_train.shape, X_test.shape)"
   ]
  },
  {
   "cell_type": "markdown",
   "id": "feb0a274",
   "metadata": {},
   "source": [
    "### Model Training"
   ]
  },
  {
   "cell_type": "code",
   "execution_count": 73,
   "id": "14a0be95",
   "metadata": {},
   "outputs": [],
   "source": [
    "from sklearn.preprocessing import StandardScaler"
   ]
  },
  {
   "cell_type": "code",
   "execution_count": 74,
   "id": "36a19ccf",
   "metadata": {},
   "outputs": [],
   "source": [
    "scaler = StandardScaler()\n",
    "\n",
    "X_train_std = scaler.fit_transform(X_train)\n",
    "\n",
    "X_test_std = scaler.transform(X_test)"
   ]
  },
  {
   "cell_type": "code",
   "execution_count": 75,
   "id": "b69c2244",
   "metadata": {},
   "outputs": [],
   "source": [
    "# importing tensorflow and Keras\n",
    "import tensorflow as tf \n",
    "tf.random.set_seed(100) #\n",
    "from tensorflow import keras"
   ]
  },
  {
   "cell_type": "code",
   "execution_count": 77,
   "id": "4bc6a673",
   "metadata": {},
   "outputs": [
    {
     "ename": "ValueError",
     "evalue": "Failed to convert a NumPy array to a Tensor (Unsupported object type int).",
     "output_type": "error",
     "traceback": [
      "\u001b[1;31m---------------------------------------------------------------------------\u001b[0m",
      "\u001b[1;31mValueError\u001b[0m                                Traceback (most recent call last)",
      "\u001b[1;32m~\\AppData\\Local\\Temp/ipykernel_15496/3837298852.py\u001b[0m in \u001b[0;36m<module>\u001b[1;34m\u001b[0m\n\u001b[0;32m     21\u001b[0m \u001b[0mepochs\u001b[0m \u001b[1;33m=\u001b[0m \u001b[1;36m50\u001b[0m\u001b[1;33m\u001b[0m\u001b[1;33m\u001b[0m\u001b[0m\n\u001b[0;32m     22\u001b[0m \u001b[1;33m\u001b[0m\u001b[0m\n\u001b[1;32m---> 23\u001b[1;33m history = model.fit(\n\u001b[0m\u001b[0;32m     24\u001b[0m     \u001b[0mX_train\u001b[0m\u001b[1;33m,\u001b[0m\u001b[1;33m\u001b[0m\u001b[1;33m\u001b[0m\u001b[0m\n\u001b[0;32m     25\u001b[0m     \u001b[0mY_train\u001b[0m\u001b[1;33m,\u001b[0m\u001b[1;33m\u001b[0m\u001b[1;33m\u001b[0m\u001b[0m\n",
      "\u001b[1;32m~\\anaconda3\\lib\\site-packages\\keras\\utils\\traceback_utils.py\u001b[0m in \u001b[0;36merror_handler\u001b[1;34m(*args, **kwargs)\u001b[0m\n\u001b[0;32m     65\u001b[0m     \u001b[1;32mexcept\u001b[0m \u001b[0mException\u001b[0m \u001b[1;32mas\u001b[0m \u001b[0me\u001b[0m\u001b[1;33m:\u001b[0m  \u001b[1;31m# pylint: disable=broad-except\u001b[0m\u001b[1;33m\u001b[0m\u001b[1;33m\u001b[0m\u001b[0m\n\u001b[0;32m     66\u001b[0m       \u001b[0mfiltered_tb\u001b[0m \u001b[1;33m=\u001b[0m \u001b[0m_process_traceback_frames\u001b[0m\u001b[1;33m(\u001b[0m\u001b[0me\u001b[0m\u001b[1;33m.\u001b[0m\u001b[0m__traceback__\u001b[0m\u001b[1;33m)\u001b[0m\u001b[1;33m\u001b[0m\u001b[1;33m\u001b[0m\u001b[0m\n\u001b[1;32m---> 67\u001b[1;33m       \u001b[1;32mraise\u001b[0m \u001b[0me\u001b[0m\u001b[1;33m.\u001b[0m\u001b[0mwith_traceback\u001b[0m\u001b[1;33m(\u001b[0m\u001b[0mfiltered_tb\u001b[0m\u001b[1;33m)\u001b[0m \u001b[1;32mfrom\u001b[0m \u001b[1;32mNone\u001b[0m\u001b[1;33m\u001b[0m\u001b[1;33m\u001b[0m\u001b[0m\n\u001b[0m\u001b[0;32m     68\u001b[0m     \u001b[1;32mfinally\u001b[0m\u001b[1;33m:\u001b[0m\u001b[1;33m\u001b[0m\u001b[1;33m\u001b[0m\u001b[0m\n\u001b[0;32m     69\u001b[0m       \u001b[1;32mdel\u001b[0m \u001b[0mfiltered_tb\u001b[0m\u001b[1;33m\u001b[0m\u001b[1;33m\u001b[0m\u001b[0m\n",
      "\u001b[1;32m~\\anaconda3\\lib\\site-packages\\tensorflow\\python\\framework\\constant_op.py\u001b[0m in \u001b[0;36mconvert_to_eager_tensor\u001b[1;34m(value, ctx, dtype)\u001b[0m\n\u001b[0;32m    100\u001b[0m       \u001b[0mdtype\u001b[0m \u001b[1;33m=\u001b[0m \u001b[0mdtypes\u001b[0m\u001b[1;33m.\u001b[0m\u001b[0mas_dtype\u001b[0m\u001b[1;33m(\u001b[0m\u001b[0mdtype\u001b[0m\u001b[1;33m)\u001b[0m\u001b[1;33m.\u001b[0m\u001b[0mas_datatype_enum\u001b[0m\u001b[1;33m\u001b[0m\u001b[1;33m\u001b[0m\u001b[0m\n\u001b[0;32m    101\u001b[0m   \u001b[0mctx\u001b[0m\u001b[1;33m.\u001b[0m\u001b[0mensure_initialized\u001b[0m\u001b[1;33m(\u001b[0m\u001b[1;33m)\u001b[0m\u001b[1;33m\u001b[0m\u001b[1;33m\u001b[0m\u001b[0m\n\u001b[1;32m--> 102\u001b[1;33m   \u001b[1;32mreturn\u001b[0m \u001b[0mops\u001b[0m\u001b[1;33m.\u001b[0m\u001b[0mEagerTensor\u001b[0m\u001b[1;33m(\u001b[0m\u001b[0mvalue\u001b[0m\u001b[1;33m,\u001b[0m \u001b[0mctx\u001b[0m\u001b[1;33m.\u001b[0m\u001b[0mdevice_name\u001b[0m\u001b[1;33m,\u001b[0m \u001b[0mdtype\u001b[0m\u001b[1;33m)\u001b[0m\u001b[1;33m\u001b[0m\u001b[1;33m\u001b[0m\u001b[0m\n\u001b[0m\u001b[0;32m    103\u001b[0m \u001b[1;33m\u001b[0m\u001b[0m\n\u001b[0;32m    104\u001b[0m \u001b[1;33m\u001b[0m\u001b[0m\n",
      "\u001b[1;31mValueError\u001b[0m: Failed to convert a NumPy array to a Tensor (Unsupported object type int)."
     ]
    }
   ],
   "source": [
    "# setting up the layers of Neural Network\n",
    "\n",
    "inputs = tf.keras.Input(shape=(X.shape[1],))\n",
    "x = tf.keras.layers.Dense(1024, activation='relu')(inputs)\n",
    "x = tf.keras.layers.Dense(1024, activation='relu')(x)\n",
    "outputs = tf.keras.layers.Dense(1, activation='sigmoid')(x)\n",
    "\n",
    "model = tf.keras.Model(inputs, outputs)\n",
    "\n",
    "\n",
    "model.compile(\n",
    "    optimizer='adam',\n",
    "    loss='binary_crossentropy',\n",
    "    metrics=[\n",
    "        'accuracy',\n",
    "        tf.keras.metrics.AUC(name='auc')\n",
    "    ]\n",
    ")\n",
    "\n",
    "batch_size = 256\n",
    "epochs = 50\n",
    "\n",
    "history = model.fit(\n",
    "    X_train,\n",
    "    Y_train,\n",
    "    validation_split=0.2,\n",
    "    batch_size=batch_size,\n",
    "    epochs=epochs,\n",
    "    callbacks=[\n",
    "        tf.keras.callbacks.ReduceLROnPlateau()\n",
    "    ]\n",
    ")"
   ]
  },
  {
   "cell_type": "code",
   "execution_count": null,
   "id": "15326b50",
   "metadata": {},
   "outputs": [],
   "source": [
    "plt.plot(history.history['accuracy'])\n",
    "plt.plot(history.history['val_accuracy'])\n",
    "\n",
    "plt.title('model accuracy')\n",
    "plt.ylabel('accuracy')\n",
    "plt.xlabel('epoch')\n",
    "\n",
    "plt.legend(['training data', 'validation data'], loc = 'lower right')"
   ]
  },
  {
   "cell_type": "code",
   "execution_count": null,
   "id": "5d3de1ec",
   "metadata": {},
   "outputs": [],
   "source": [
    "plt.plot(history.history['loss'])\n",
    "plt.plot(history.history['val_loss'])\n",
    "\n",
    "plt.title('model loss')\n",
    "plt.ylabel('loss')\n",
    "plt.xlabel('epoch')\n",
    "\n",
    "plt.legend(['training data', 'validation data'], loc = 'upper right')"
   ]
  },
  {
   "cell_type": "code",
   "execution_count": null,
   "id": "b840aee8",
   "metadata": {},
   "outputs": [],
   "source": [
    "loss, accuracy = model.evaluate(X_test_std, Y_test)\n",
    "print(accuracy)\n",
    "# evaluate returns the loss values and metrics values"
   ]
  },
  {
   "cell_type": "code",
   "execution_count": null,
   "id": "495c3aac",
   "metadata": {},
   "outputs": [],
   "source": [
    "print(X_test_std.shape)\n",
    "print(X_test_std[0])"
   ]
  },
  {
   "cell_type": "code",
   "execution_count": null,
   "id": "fc91ebb6",
   "metadata": {},
   "outputs": [],
   "source": [
    "Y_pred = model.predict(X_test_std)"
   ]
  },
  {
   "cell_type": "code",
   "execution_count": null,
   "id": "2b007b80",
   "metadata": {},
   "outputs": [],
   "source": [
    "print(Y_pred.shape)\n",
    "print(Y_pred[0])\n",
    "#  You will expect 0 or 1 , but this is not the same as machine learning"
   ]
  },
  {
   "cell_type": "code",
   "execution_count": null,
   "id": "348c4283",
   "metadata": {},
   "outputs": [],
   "source": [
    "print(X_test_std)"
   ]
  },
  {
   "cell_type": "code",
   "execution_count": null,
   "id": "79ab37f3",
   "metadata": {},
   "outputs": [],
   "source": [
    "print(Y_pred)"
   ]
  },
  {
   "cell_type": "code",
   "execution_count": null,
   "id": "fbd819e6",
   "metadata": {},
   "outputs": [],
   "source": [
    "my_list = [0.25, 0.56]\n",
    "\n",
    "index_of_max_value = np.argmax(my_list)\n",
    "print(my_list)\n",
    "print(index_of_max_value)"
   ]
  },
  {
   "cell_type": "markdown",
   "id": "4e98b61a",
   "metadata": {},
   "source": [
    "#### Model Evaluation\n",
    "#### Prediction on Test Data\n"
   ]
  }
 ],
 "metadata": {
  "kernelspec": {
   "display_name": "Python 3 (ipykernel)",
   "language": "python",
   "name": "python3"
  },
  "language_info": {
   "codemirror_mode": {
    "name": "ipython",
    "version": 3
   },
   "file_extension": ".py",
   "mimetype": "text/x-python",
   "name": "python",
   "nbconvert_exporter": "python",
   "pygments_lexer": "ipython3",
   "version": "3.9.7"
  }
 },
 "nbformat": 4,
 "nbformat_minor": 5
}
